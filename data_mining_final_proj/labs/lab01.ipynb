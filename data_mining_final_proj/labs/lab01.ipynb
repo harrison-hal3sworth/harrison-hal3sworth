{
 "cells": [
  {
   "cell_type": "markdown",
   "id": "5d5b54ec-fc36-426d-b486-d48955db88da",
   "metadata": {},
   "source": [
    "# Lab01 - Getting Started\n",
    "\n",
    "Name: Harrison Halesworth\n",
    "Class: CSCI 349 - Intro to Data Mining\n",
    "Section: 01 - 11am\n",
    "Semester: Spring 2024\n",
    "Instructors: Brian King"
   ]
  },
  {
   "cell_type": "code",
   "execution_count": 61,
   "id": "6bfdf998-9a9d-4ff9-be78-3b6ed44cab51",
   "metadata": {},
   "outputs": [
    {
     "name": "stdout",
     "output_type": "stream",
     "text": [
      "3.11.5 | packaged by Anaconda, Inc. | (main, Sep 11 2023, 13:26:23) [MSC v.1916 64 bit (AMD64)]\n"
     ]
    }
   ],
   "source": [
    "import sys\n",
    "print(sys.version)"
   ]
  },
  {
   "cell_type": "markdown",
   "id": "01c7ad9a-5fda-4b53-b368-fa1496d7e043",
   "metadata": {
    "jp-MarkdownHeadingCollapsed": true
   },
   "source": [
    "**2.** [M] Did you read the syllabus? All of it? Do you understand and agree to abide by the cheating rules? Write a \r\n",
    "sentence clearly indicating your commitment to not cheating."
   ]
  },
  {
   "cell_type": "markdown",
   "id": "adb6ab9c-b9e0-4e10-88b1-13822cac6918",
   "metadata": {},
   "source": [
    "I read the syllabus and am stating that I will be completely committed to not cheating in this course"
   ]
  },
  {
   "cell_type": "markdown",
   "id": "883daae3-1dfb-4d6c-92a4-12b8fea42013",
   "metadata": {},
   "source": [
    "**3.** [M] What are you hoping to get out of this course?"
   ]
  },
  {
   "cell_type": "markdown",
   "id": "2703a62b-2d13-4dab-9ed4-6e4d7a0b4e36",
   "metadata": {},
   "source": [
    "I am hoping to learn as much as possible about the entire pipeline of data science and engineering as to become a more well rounded computer scientist overall, as foundational knowledge and experience working with data will undoubtedly come in handy in my career."
   ]
  },
  {
   "cell_type": "markdown",
   "id": "bc572c97-82ac-4772-8706-b3547827e852",
   "metadata": {},
   "source": [
    "**4.** [P] Print the Python version (available in sys package)"
   ]
  },
  {
   "cell_type": "code",
   "execution_count": 62,
   "id": "7bfee08b-6c3e-4038-9c3b-3a20106f8199",
   "metadata": {},
   "outputs": [
    {
     "name": "stdout",
     "output_type": "stream",
     "text": [
      "3.11.5 | packaged by Anaconda, Inc. | (main, Sep 11 2023, 13:26:23) [MSC v.1916 64 bit (AMD64)]\n"
     ]
    }
   ],
   "source": [
    "import sys\n",
    "print(sys.version)"
   ]
  },
  {
   "cell_type": "markdown",
   "id": "ff72d854-0abc-4067-a124-5b9a138452d5",
   "metadata": {},
   "source": [
    "**5** [P] Create a Python list of 10000 random integers in the range 1 to 100 using the random package. Name the \r\n",
    "list x_list."
   ]
  },
  {
   "cell_type": "code",
   "execution_count": 63,
   "id": "d87e60df-e224-4e88-adb2-a8458a8cd25b",
   "metadata": {},
   "outputs": [],
   "source": [
    "import random\n",
    "\n",
    "# 10000 random ints between 1 and 100 using list comprehension\n",
    "x_list = [random.randint(1, 100) for i in range(10000)]"
   ]
  },
  {
   "cell_type": "markdown",
   "id": "b8fa7b71-37bd-4498-9d76-b887a54b8b98",
   "metadata": {},
   "source": [
    "**6.** [P] What is the minimum x_list? What is the max value? What is the mode?"
   ]
  },
  {
   "cell_type": "code",
   "execution_count": 64,
   "id": "443aed72-b409-4b79-929e-434625a477ab",
   "metadata": {},
   "outputs": [
    {
     "name": "stdout",
     "output_type": "stream",
     "text": [
      "The min of x_list is: 1\n",
      "The max of x_list is: 100\n",
      "The mode of x_list is: 10\n"
     ]
    }
   ],
   "source": [
    "from statistics import mode\n",
    "print(\"The min of x_list is: \" + str(min(x_list)))\n",
    "print(\"The max of x_list is: \" + str(max(x_list)))\n",
    "print(\"The mode of x_list is: \" + str(mode(x_list)))"
   ]
  },
  {
   "cell_type": "markdown",
   "id": "ff689fe3-a90b-449d-adb5-67ff4d4b8ee3",
   "metadata": {},
   "source": [
    "**7.** [P] Write a function to take a list of numbers as a parameter and return the average of the list. Then, use your \r\n",
    "function to report the average value of x_list, printed as a float with 2 places of precision."
   ]
  },
  {
   "cell_type": "code",
   "execution_count": 65,
   "id": "bbd0bc42-a7db-41d2-b2ba-1cafec11f4a2",
   "metadata": {},
   "outputs": [
    {
     "name": "stdout",
     "output_type": "stream",
     "text": [
      "The mean of x_list is: 51.12\n"
     ]
    }
   ],
   "source": [
    "from statistics import mean\n",
    "def avg_val(nums):\n",
    "    return mean(nums)\n",
    "    \n",
    "mean = avg_val(x_list)\n",
    "\n",
    "# https://realpython.com/python-f-strings/\n",
    "print(\"The mean of x_list is: \" + f\"{mean:.2f}\")"
   ]
  },
  {
   "cell_type": "markdown",
   "id": "4c392edb-8571-4191-9e0a-8d616f511d91",
   "metadata": {},
   "source": [
    "**8.** [P] Create a list called x_hist that represents a histogram, i.e. a distribution of the numerical data, of \r\n",
    "x_list. Each entry in x_hist should contain the frequency of data over a bin width of 10. So, for example,\r\n",
    "x_hist[0] represents the frequency of numbers between 1-10, x_hist[1] is the frequency of numbers \r\n",
    "between 11-20, and so on. Be sure to print x_hist at the end."
   ]
  },
  {
   "cell_type": "code",
   "execution_count": 66,
   "id": "101e4ebf-0695-4c6d-a33b-ea36ba6ac036",
   "metadata": {},
   "outputs": [
    {
     "name": "stdout",
     "output_type": "stream",
     "text": [
      "[1016, 975, 943, 1020, 953, 1005, 973, 999, 1025, 1091]\n",
      "Sum of contents of x_hist should be 10000, is: 10000\n"
     ]
    }
   ],
   "source": [
    "x_hist = [0] * 10\n",
    "for num in x_list:\n",
    "    x_hist[(num-1)//10] += 1\n",
    "\n",
    "print(x_hist)\n",
    "print(\"Sum of contents of x_hist should be 10000, is: \" + str(sum(x_hist)))"
   ]
  },
  {
   "cell_type": "markdown",
   "id": "c56ec947-d4ce-4b63-bd55-2846587beb57",
   "metadata": {},
   "source": [
    "**9.** [M] What is numpy? What are its strengths? Does it have any weaknesses?"
   ]
  },
  {
   "cell_type": "markdown",
   "id": "962daead-6a21-4cc3-a9d3-2e7badcee3c7",
   "metadata": {},
   "source": [
    "https://numpy.org/doc/stable/user/whatisnumpy.html\n",
    "\n",
    "numpy is a Python library that is catered to programmers dealing with data, along the entirety of the pipeline. It imports things such as matrices, masked arrays, fourier transforms and other data types and operations to allow you to analyze data without the hassle of implementing these things yourself. One of the biggest strengths of numpy is that it is fast and efficient and it is because all the code it provides is vectorized and designed to have these mathematical operations completed on it. It's weaknesses are more subjective as the struggle of use will more likely come from learning all that comes with the package and that can be said about most commonly used Pythong libraries, but one true weakness is that it is not well suited for small datasets as the overhead will not be worth it, but I doubt I will be dealing with small datasets this semester."
   ]
  },
  {
   "cell_type": "markdown",
   "id": "a0d7bdf9-f5db-4ed0-afaa-3ef4428396ad",
   "metadata": {},
   "source": [
    "**10.** [P] Import the numpy package as np and print the numpy version\n"
   ]
  },
  {
   "cell_type": "code",
   "execution_count": 67,
   "id": "673ba9f2-e725-417b-b700-b13d38749d01",
   "metadata": {},
   "outputs": [
    {
     "name": "stdout",
     "output_type": "stream",
     "text": [
      "The current version is: 1.26.3\n"
     ]
    }
   ],
   "source": [
    "import numpy as np\n",
    "print(\"The current version is: \" + str(np.__version__))"
   ]
  },
  {
   "cell_type": "markdown",
   "id": "0bcf9f19-a2ad-479f-adb7-cc6a0cea4249",
   "metadata": {},
   "source": [
    "**11.** [M] What is the primary object type in numpy? Can it store data of different types? Discuss."
   ]
  },
  {
   "cell_type": "markdown",
   "id": "ad2b9079-c97a-4cf9-8b18-c4fac3618cc2",
   "metadata": {},
   "source": [
    "https://numpy.org/doc/stable/user/whatisnumpy.html\n",
    "\n",
    "The primary object type in numpy is the ndarray which stands for n-dimensional array, and basically serves as a matrix. You can store different types in an ndarray but they all have to be uniform throughout that respective ndarray, for instance an ndarray with ints in it must only have ints in it."
   ]
  },
  {
   "cell_type": "markdown",
   "id": "28d1ed15-b4ed-44ce-b795-17900255e706",
   "metadata": {},
   "source": [
    "**12.** [M] Discuss the types of data available in numpy. You need not list every type. Just generalize, and discuss \r\n",
    "how the type system is different than the built-in types int and float in Python."
   ]
  },
  {
   "cell_type": "markdown",
   "id": "0e16ec62-e5da-4a30-a048-deb41cfffa25",
   "metadata": {},
   "source": [
    "https://numpy.org/doc/stable/user/basics.types.html\n",
    "\n",
    "There are several different types unique to the numpy library and what differentiates most of them from the built-in Python types is you can determine the precision of numerical values to be used in your ndarray via the different types. Precision of values are extremely important in data analysis you'll come to find as lowering or adding a single digit of precision can sometimes have a drastic difference (I saw this first hand in MATH343)."
   ]
  },
  {
   "cell_type": "markdown",
   "id": "dbcf98a6-3528-478a-8ad4-b4d07f229d0f",
   "metadata": {},
   "source": [
    "**13.** [P] Research how to use numpy to compute the same result as problem 8 above. (HINT: np.histogram)"
   ]
  },
  {
   "cell_type": "code",
   "execution_count": 68,
   "id": "e7708013-abff-49cd-8ad5-c2f3bbb73bd5",
   "metadata": {},
   "outputs": [
    {
     "name": "stdout",
     "output_type": "stream",
     "text": [
      "[1016  975  943 1020  953 1005  973  999 1025 1091]\n",
      "[  1  11  21  31  41  51  61  71  81  91 101]\n"
     ]
    }
   ],
   "source": [
    "# https://www.geeksforgeeks.org/numpy-histogram-method-in-python/#\n",
    "\n",
    "x_hist = np.histogram(x_list, bins = [(10*i + 1) for i in range(0,11)])\n",
    "print(x_hist[0])\n",
    "print(x_hist[1])"
   ]
  },
  {
   "cell_type": "markdown",
   "id": "ab8c8a65-54d6-4fda-87ca-4525431731a2",
   "metadata": {},
   "source": [
    "**14.** [P] Create a numpy array from x_list. Reassign it as x_list. Show the contents of the first 20 entries."
   ]
  },
  {
   "cell_type": "code",
   "execution_count": 69,
   "id": "e37b34f1-ba72-4767-8844-cc4746f6d47d",
   "metadata": {},
   "outputs": [
    {
     "name": "stdout",
     "output_type": "stream",
     "text": [
      "The first 20 entries of x_list are: [68  6 43 35 18 47 41 44 97 14  3 88 95  8 24 48 90 91 40  2]\n"
     ]
    }
   ],
   "source": [
    "import copy\n",
    "# https://numpy.org/doc/stable/user/basics.creation.html\n",
    "\n",
    "x_list2 = copy.deepcopy(x_list)\n",
    "x_list = np.array(x_list)\n",
    "print(\"The first 20 entries of x_list are: \" + str(x_list[0:20]))"
   ]
  },
  {
   "cell_type": "markdown",
   "id": "b9b1f918-8e0f-4d88-a6b8-eb452927bca5",
   "metadata": {},
   "source": [
    "**15.** [P] Redo the previous exercise, but set the data type of each value to 'float32'"
   ]
  },
  {
   "cell_type": "code",
   "execution_count": 70,
   "id": "37338aee-42ac-4576-922b-0da8a60acb0f",
   "metadata": {},
   "outputs": [
    {
     "name": "stdout",
     "output_type": "stream",
     "text": [
      "The first 20 entries of x_list are: [68.  6. 43. 35. 18. 47. 41. 44. 97. 14.  3. 88. 95.  8. 24. 48. 90. 91.\n",
      " 40.  2.]\n"
     ]
    }
   ],
   "source": [
    "# https://numpy.org/doc/stable/user/basics.creation.html\n",
    "\n",
    "x_list = np.array(x_list2, dtype='float32')\n",
    "print(\"The first 20 entries of x_list are: \" + str(x_list[0:20]))"
   ]
  },
  {
   "cell_type": "markdown",
   "id": "28c0019f-c32b-418b-8c5b-85d7fa802f1b",
   "metadata": {},
   "source": [
    "**16.** [P] Create a length 10 integer array filled with zeros"
   ]
  },
  {
   "cell_type": "code",
   "execution_count": 71,
   "id": "a3b93995-a2b3-4d28-8baf-c48c61e843c7",
   "metadata": {},
   "outputs": [
    {
     "name": "stdout",
     "output_type": "stream",
     "text": [
      "[0 0 0 0 0 0 0 0 0 0]\n"
     ]
    }
   ],
   "source": [
    "# https://numpy.org/doc/stable/user/basics.creation.html\n",
    "\n",
    "arr = np.zeros(10, dtype='int')\n",
    "print(arr)"
   ]
  },
  {
   "cell_type": "markdown",
   "id": "932ebdc7-2734-4ade-9a22-8c79a7406d0c",
   "metadata": {},
   "source": [
    "**17.** [P] Create a float array of 3 rows and 4 columns, all initialized to one."
   ]
  },
  {
   "cell_type": "code",
   "execution_count": 72,
   "id": "f6c38bf6-6826-4219-bef2-8a06eb5f5ee9",
   "metadata": {},
   "outputs": [
    {
     "name": "stdout",
     "output_type": "stream",
     "text": [
      "[[1 1 1 1]\n",
      " [1 1 1 1]\n",
      " [1 1 1 1]]\n"
     ]
    }
   ],
   "source": [
    "# https://numpy.org/doc/stable/user/basics.creation.html\n",
    "\n",
    "arr = np.ones((3,4), dtype='int')\n",
    "print(arr)"
   ]
  },
  {
   "cell_type": "markdown",
   "id": "65ba174c-5430-4216-b934-56b1d5f304e0",
   "metadata": {},
   "source": [
    "**18.** [P] Create an array of 20 values, evenly spaced between 1 and 3 (HINT – look at np.linspace)"
   ]
  },
  {
   "cell_type": "code",
   "execution_count": 73,
   "id": "6e657e95-3bb7-4b2b-bf2f-c66f5bf63dc5",
   "metadata": {},
   "outputs": [
    {
     "name": "stdout",
     "output_type": "stream",
     "text": [
      "[1.         1.10526316 1.21052632 1.31578947 1.42105263 1.52631579\n",
      " 1.63157895 1.73684211 1.84210526 1.94736842 2.05263158 2.15789474\n",
      " 2.26315789 2.36842105 2.47368421 2.57894737 2.68421053 2.78947368\n",
      " 2.89473684 3.        ]\n"
     ]
    }
   ],
   "source": [
    "# https://numpy.org/doc/stable/user/basics.creation.html\n",
    "\n",
    "arr = np.linspace(1, 3, 20)\n",
    "print(arr)"
   ]
  },
  {
   "cell_type": "markdown",
   "id": "51193a4c-3eb5-4ec7-808d-24e0552d67e9",
   "metadata": {},
   "source": [
    "**19.** [P] Set the numpy random seed to the value 12345, then create a 10 x 5 array of random integers on the \r\n",
    "interval [10, 50), assigned to x_mat"
   ]
  },
  {
   "cell_type": "code",
   "execution_count": 74,
   "id": "b1145a05-d922-45e1-81a9-626788c2c81b",
   "metadata": {},
   "outputs": [
    {
     "name": "stdout",
     "output_type": "stream",
     "text": [
      "[[44 47 39 11 46]\n",
      " [47 44 39 11 24]\n",
      " [37 26 19 21 23]\n",
      " [20 27 28 48 17]\n",
      " [49 33 39 41 43]\n",
      " [37 33 46 10 13]\n",
      " [15 25 21 24 27]\n",
      " [15 44 18 15 44]\n",
      " [15 29 22 24 26]\n",
      " [37 48 34 42 15]]\n"
     ]
    }
   ],
   "source": [
    "# https://numpy.org/doc/stable/user/basics.creation.html\n",
    "\n",
    "np.random.seed(12345)\n",
    "x_mat = np.random.randint(10,50,size=(10,5))\n",
    "print(x_mat)"
   ]
  },
  {
   "cell_type": "markdown",
   "id": "e7e1de6a-ac83-4f02-89e9-8eab0c275f80",
   "metadata": {},
   "source": [
    "**20.** [P] Use slicing to select and show the first and last row of x_mat"
   ]
  },
  {
   "cell_type": "code",
   "execution_count": 75,
   "id": "0798f5bc-d7de-4bbb-9819-efb2dec36807",
   "metadata": {},
   "outputs": [
    {
     "name": "stdout",
     "output_type": "stream",
     "text": [
      "[[44 47 39 11 46]\n",
      " [37 48 34 42 15]]\n"
     ]
    }
   ],
   "source": [
    "# https://numpy.org/doc/stable/user/basics.indexing.html#index-0\n",
    "\n",
    "print(x_mat[[0,-1],:])"
   ]
  },
  {
   "cell_type": "markdown",
   "id": "e992254b-cce9-44e5-941f-837cdc63f1bb",
   "metadata": {},
   "source": [
    "**21.** [P] Now, show the first, third and fifth column of x_mat"
   ]
  },
  {
   "cell_type": "code",
   "execution_count": 76,
   "id": "660f6528-f71e-4c66-9a50-17345f58de9e",
   "metadata": {},
   "outputs": [
    {
     "name": "stdout",
     "output_type": "stream",
     "text": [
      "[[44 39 46]\n",
      " [47 39 24]\n",
      " [37 19 23]\n",
      " [20 28 17]\n",
      " [49 39 43]\n",
      " [37 46 13]\n",
      " [15 21 27]\n",
      " [15 18 44]\n",
      " [15 22 26]\n",
      " [37 34 15]]\n"
     ]
    }
   ],
   "source": [
    "# https://numpy.org/doc/stable/user/basics.indexing.html#index-0\n",
    "\n",
    "print(x_mat[:,[0,2,4]])"
   ]
  },
  {
   "cell_type": "markdown",
   "id": "50ddff80-70bc-4d4f-852e-20a1e4ee45ae",
   "metadata": {},
   "source": [
    "**22.** [P] Show the sum of each row."
   ]
  },
  {
   "cell_type": "code",
   "execution_count": 77,
   "id": "30b875cd-2688-47f1-b0d3-c3bfe9940281",
   "metadata": {},
   "outputs": [
    {
     "name": "stdout",
     "output_type": "stream",
     "text": [
      "[[  0 187]\n",
      " [  1 165]\n",
      " [  2 126]\n",
      " [  3 140]\n",
      " [  4 205]\n",
      " [  5 139]\n",
      " [  6 112]\n",
      " [  7 136]\n",
      " [  8 116]\n",
      " [  9 176]]\n"
     ]
    }
   ],
   "source": [
    "# https://numpy.org/doc/stable/reference/routines.array-manipulation.html#basic-operations\n",
    "# https://numpy.org/doc/stable/user/basics.indexing.html#index-0\n",
    "# https://numpy.org/doc/stable/reference/generated/numpy.column_stack.html#numpy.column_stack\n",
    "\n",
    "sums = np.sum(x_mat, axis=1)\n",
    "print(np.column_stack((np.arange(0, x_mat.shape[0]), sums)))"
   ]
  }
 ],
 "metadata": {
  "kernelspec": {
   "display_name": "Python 3 (ipykernel)",
   "language": "python",
   "name": "python3"
  },
  "language_info": {
   "codemirror_mode": {
    "name": "ipython",
    "version": 3
   },
   "file_extension": ".py",
   "mimetype": "text/x-python",
   "name": "python",
   "nbconvert_exporter": "python",
   "pygments_lexer": "ipython3",
   "version": "3.11.5"
  }
 },
 "nbformat": 4,
 "nbformat_minor": 5
}

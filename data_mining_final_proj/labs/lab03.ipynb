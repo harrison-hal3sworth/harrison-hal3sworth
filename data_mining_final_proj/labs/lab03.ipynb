{
 "cells": [
  {
   "cell_type": "markdown",
   "metadata": {},
   "source": [
    "# Lab 03 - pandas I\n",
    "\n",
    "Name: Harrison Halesworth  \n",
    "Class: CSCI 349 - Intro to Data Mining  \n",
    "Section: 01 - 11am\n",
    "Semester: Spring 2024\n",
    "Instructors: Brian King, Joshua Stough\n"
   ]
  },
  {
   "cell_type": "markdown",
   "metadata": {},
   "source": [
    "**Submission:** \n",
    "* `lab03.ipynb`, pushed to your Git repo on master.   \n",
    "* `lab03.pdf` generated and turned in on Gradescope\n",
    "\n",
    "**Points**: 10\n",
    "\n",
    "**Due**: NOTE: This is part 1. Part 2 (lab04) will be released early next week. Both are due on Friday, Feb 2, 11:59 PM."
   ]
  },
  {
   "cell_type": "markdown",
   "metadata": {},
   "source": [
    "# Objectives\n",
    "\n",
    "-   pandas.\n",
    "\n",
    "# Introduction\n",
    "\n",
    "Numpy is a core, foundational Python library for use in many domains. And, it works well. It is efficient, designed for high performance computing, having been mostly written in the C language. And, it works quite well when your data is clean, structured, and uniform types. However, most real-world data is large, messy, heterogeneous, and often incomplete, with missing values. `pandas` has been developed for the data science community to aid in dealing with real world data. It will help you handle the vast majority of the data prepping, cleaning, filtering, munging, etc. that you will be doing. It also does a fantastic job providing you with a pretty impressive data selection API. Therefore, you MUST become confident with pandas. This is the first part of a 2-part lab designed to help you become familiar with pandas.\n",
    "\n",
    "## Useful References\n",
    "\n",
    "- [10 minute `pandas` intro](http://pandas.pydata.org/pandas-docs/stable/10min.html)\n",
    "- [`pandas` docs](http://pandas.pydata.org/pandas-docs/stable/index.html)\n",
    "\n",
    "A large portion of this lab is taken from snippets scattered throughout the enormous documentation and tutorials from the pandas website. In particular, the [short intro video](http://pandas.pydata.org/pandas-docs/stable/10min.html) linked above will get you going pretty quickly with the most common tasks you'll be doing. It doesn't do a great job really explaining the \"how\" and \"why\" that's happening behind the scenes, but you'll learn those through experience. I recommend that you work through the 10 minute introduction above first. Doing so will make the work in this lab so much easier to follow through. Then come back here to work through the exercises. More advanced pandas exercises are coming in part 2!\n"
   ]
  },
  {
   "cell_type": "markdown",
   "metadata": {},
   "source": [
    "# Imports\n",
    "We'll set up the imports for you...\n"
   ]
  },
  {
   "cell_type": "code",
   "execution_count": 2,
   "metadata": {},
   "outputs": [],
   "source": [
    "import sys\n",
    "import numpy as np\n",
    "import pandas as pd"
   ]
  },
  {
   "cell_type": "markdown",
   "metadata": {},
   "source": [
    "# Exercises\n",
    "\n",
    "Add Code or Markdown cells below each exercise as required."
   ]
  },
  {
   "cell_type": "markdown",
   "metadata": {},
   "source": [
    "**1** [P] Report the Python, Numpy and Pandas version numbers."
   ]
  },
  {
   "cell_type": "code",
   "execution_count": 3,
   "metadata": {},
   "outputs": [
    {
     "name": "stdout",
     "output_type": "stream",
     "text": [
      "sys version : 3.11.5 | packaged by Anaconda, Inc. | (main, Sep 11 2023, 13:26:23) [MSC v.1916 64 bit (AMD64)]\n",
      "\n",
      "numpy version : <module 'numpy.version' from 'C:\\\\Users\\\\hhale\\\\anaconda3\\\\Lib\\\\site-packages\\\\numpy\\\\version.py'>\n",
      "\n",
      "pandas version : 2.1.4\n"
     ]
    }
   ],
   "source": [
    "print(\"sys version : \" + str(sys.version) + \"\\n\")\n",
    "print(\"numpy version : \" + str(np.version) + \"\\n\")\n",
    "print(\"pandas version : \" + pd.__version__)"
   ]
  },
  {
   "cell_type": "markdown",
   "metadata": {},
   "source": [
    "**2** [P] Now, show the result of pd.show_versions(). Write a comment in the cell about what this shows."
   ]
  },
  {
   "cell_type": "code",
   "execution_count": 4,
   "metadata": {},
   "outputs": [
    {
     "name": "stderr",
     "output_type": "stream",
     "text": [
      "C:\\Users\\hhale\\anaconda3\\Lib\\site-packages\\_distutils_hack\\__init__.py:33: UserWarning: Setuptools is replacing distutils.\n",
      "  warnings.warn(\"Setuptools is replacing distutils.\")\n"
     ]
    },
    {
     "name": "stdout",
     "output_type": "stream",
     "text": [
      "\n",
      "INSTALLED VERSIONS\n",
      "------------------\n",
      "commit              : a671b5a8bf5dd13fb19f0e88edc679bc9e15c673\n",
      "python              : 3.11.5.final.0\n",
      "python-bits         : 64\n",
      "OS                  : Windows\n",
      "OS-release          : 10\n",
      "Version             : 10.0.22621\n",
      "machine             : AMD64\n",
      "processor           : Intel64 Family 6 Model 141 Stepping 1, GenuineIntel\n",
      "byteorder           : little\n",
      "LC_ALL              : None\n",
      "LANG                : en_US.UTF-8\n",
      "LOCALE              : English_United States.1252\n",
      "\n",
      "pandas              : 2.1.4\n",
      "numpy               : 1.26.3\n",
      "pytz                : 2023.3.post1\n",
      "dateutil            : 2.8.2\n",
      "setuptools          : 68.2.2\n",
      "pip                 : 23.3.1\n",
      "Cython              : None\n",
      "pytest              : 7.4.0\n",
      "hypothesis          : None\n",
      "sphinx              : 5.0.2\n",
      "blosc               : None\n",
      "feather             : None\n",
      "xlsxwriter          : None\n",
      "lxml.etree          : 4.9.3\n",
      "html5lib            : None\n",
      "pymysql             : None\n",
      "psycopg2            : None\n",
      "jinja2              : 3.1.2\n",
      "IPython             : 8.20.0\n",
      "pandas_datareader   : None\n",
      "bs4                 : 4.12.2\n",
      "bottleneck          : 1.3.5\n",
      "dataframe-api-compat: None\n",
      "fastparquet         : None\n",
      "fsspec              : 2023.10.0\n",
      "gcsfs               : None\n",
      "matplotlib          : 3.8.0\n",
      "numba               : 0.58.1\n",
      "numexpr             : 2.8.7\n",
      "odfpy               : None\n",
      "openpyxl            : 3.0.10\n",
      "pandas_gbq          : None\n",
      "pyarrow             : 11.0.0\n",
      "pyreadstat          : None\n",
      "pyxlsb              : None\n",
      "s3fs                : 2023.10.0\n",
      "scipy               : 1.11.4\n",
      "sqlalchemy          : 2.0.25\n",
      "tables              : 3.8.0\n",
      "tabulate            : 0.9.0\n",
      "xarray              : 2023.6.0\n",
      "xlrd                : None\n",
      "zstandard           : 0.19.0\n",
      "tzdata              : 2023.3\n",
      "qtpy                : 2.4.1\n",
      "pyqt5               : None\n"
     ]
    }
   ],
   "source": [
    "pd.show_versions()\n",
    "\n",
    "# pd.show_versions() shows the versions of most of the software we installed to use in tandem with anaconda earlier in lab 1\n",
    "# In other words, it lists the versions of the software we are using in our python environment"
   ]
  },
  {
   "cell_type": "markdown",
   "metadata": {
    "collapsed": false,
    "jupyter": {
     "outputs_hidden": false
    }
   },
   "source": [
    "The start of Chapter 5 in McKinney's book, [\"Python for Data Analysis\"](https://learning.oreilly.com/library/view/python-for-data/9781098104023/ch05.html), has an excellent explanation about the relationship between numpy and pandas. Also, don't forget the pandas user guide!\n",
    "\n",
    "Let's go through some interview questions about pandas. This document will serve as a good reference for yourself as you move forward, so resist laziness! Write good answers that you could use to help you review and prepare for a data science, data mining, or machine learning interview!"
   ]
  },
  {
   "cell_type": "markdown",
   "metadata": {},
   "source": [
    "**3** [M] Explain the relationship between numpy and pandas. How are they tied together? How are they different? What core functionality does pandas add to numpy?"
   ]
  },
  {
   "cell_type": "markdown",
   "metadata": {
    "collapsed": false,
    "jupyter": {
     "outputs_hidden": false
    }
   },
   "source": [
    "ANSWER: From Chaoter 5 of the McKinney book, I gathered that the relationship between numpy and pandas is that they are both tools utilized in data science in tandem with Python for fast and convenient data manipulation, processing and analysis. They are tied together as two extremely useful and commonly used tools for data mining along the entire pipeline. The main difference between the two is that Pandas is good for heterogenous tabular (tables) data while NumPy is good for homogenous array data. Pandas adds specialized data structures that become usable in NumPy as well as functionality for indexing and manipulating data within these more advanced tables.\n",
    "\n",
    "https://learning.oreilly.com/library/view/python-for-data/9781098104023/ch05.html"
   ]
  },
  {
   "cell_type": "markdown",
   "metadata": {},
   "source": [
    "\n",
    "**4** [M] Compare and contrast Series and DataFrame."
   ]
  },
  {
   "cell_type": "markdown",
   "metadata": {},
   "source": [
    "ANSWER: A series is a 1D object similar to an array as it can only contain one data type but it also has an associated array containing labels that act as indeces (similar function to a dictionary) while a DataFrame is sort of a table that is a collection of series, as its columns may have different types but the type is uniform throughout that column."
   ]
  },
  {
   "cell_type": "markdown",
   "metadata": {},
   "source": [
    "**5** [M] What are the data types that can be used to create a Series object in pandas?"
   ]
  },
  {
   "cell_type": "markdown",
   "metadata": {},
   "source": [
    "ANSWER: Most if not every data type can be used to create a series in pandas. Some custom Python objects and complex numbers may not work well with it though. It is up to your judgement really, most data types in Python that reflect a real world type of data that can be collected will work.\n",
    "\n",
    "https://pandas.pydata.org/docs/reference/api/pandas.Series.html#pandas.Series"
   ]
  },
  {
   "cell_type": "markdown",
   "metadata": {},
   "source": [
    "**6** [M] What are the data structures that can be used to create a DataFrame object in pandas?"
   ]
  },
  {
   "cell_type": "markdown",
   "metadata": {},
   "source": [
    "ANSWER: The data structures that can be used to create a pandas DataFrame are things like dictionaries, arrays, dataclass or list-like objects. \n",
    "\n",
    "https://pandas.pydata.org/docs/reference/api/pandas.DataFrame.html#pandas.DataFrame"
   ]
  },
  {
   "cell_type": "markdown",
   "metadata": {},
   "source": [
    "**7** [M] When creating a Series object, what role does the index parameter play? Does the index always need to be specified? If not, what happens?"
   ]
  },
  {
   "cell_type": "markdown",
   "metadata": {},
   "source": [
    "ANSWER: The index parameter makes it so that the data in the series are hashable, it will default to 0,1,2,...,n if not specified.\n",
    "\n",
    "https://pandas.pydata.org/docs/reference/api/pandas.Series.html#pandas.Series"
   ]
  },
  {
   "cell_type": "markdown",
   "metadata": {},
   "source": [
    "**8** [P] Create a numpy array of 10 random 8-bit integers in the range [10,20) using numpy's randint function. Print the type of x, and show x. You may end up with something like:\n",
    "\n",
    "```python\n",
    "type(arr): <class 'numpy.ndarray'>\n",
    "[0]: 10\n",
    "[1]: 19\n",
    "[2]: 18\n",
    "[3]: 11\n",
    "[4]: 17\n",
    "[5]: 12\n",
    "[6]: 18\n",
    "[7]: 14\n",
    "[8]: 13\n",
    "[9]: 15\n",
    "```"
   ]
  },
  {
   "cell_type": "code",
   "execution_count": 5,
   "metadata": {},
   "outputs": [
    {
     "name": "stdout",
     "output_type": "stream",
     "text": [
      "type(x) : <class 'numpy.ndarray'>\n",
      "[0]: 15\n",
      "[1]: 19\n",
      "[2]: 14\n",
      "[3]: 14\n",
      "[4]: 12\n",
      "[5]: 18\n",
      "[6]: 12\n",
      "[7]: 15\n",
      "[8]: 13\n",
      "[9]: 10\n"
     ]
    }
   ],
   "source": [
    "x = np.random.randint(10,20,size=10, dtype=\"int8\")\n",
    "print(\"type(x) : \" + str(type(x)))\n",
    "\n",
    "for i in range(len(x)):\n",
    "    print(\"[\"+str(i)+\"]: \" + str(x[i]))\n"
   ]
  },
  {
   "cell_type": "markdown",
   "metadata": {},
   "source": [
    "Then in a subsequent cell, wrap x in a pandas `Series` object called x2, with an index of 0, 10, 20, 30, …, 90. Show the type and the contents of x2. You should have something like the following, clearly showing your index label on each number:\n",
    "\n",
    "```python\n",
    "type(x2): <class 'pandas.core.series.Series'>\n",
    "0     10\n",
    "10    19\n",
    "20    18\n",
    "30    11\n",
    "40    17\n",
    "50    12\n",
    "60    18\n",
    "70    14\n",
    "80    13\n",
    "90    15\n",
    "dtype: int64\n",
    "```"
   ]
  },
  {
   "cell_type": "code",
   "execution_count": 6,
   "metadata": {},
   "outputs": [
    {
     "name": "stdout",
     "output_type": "stream",
     "text": [
      "type(x2): <class 'pandas.core.series.Series'>\n",
      "0     15\n",
      "10    19\n",
      "20    14\n",
      "30    14\n",
      "40    12\n",
      "50    18\n",
      "60    12\n",
      "70    15\n",
      "80    13\n",
      "90    10\n",
      "dtype: int8\n"
     ]
    }
   ],
   "source": [
    "# https://pandas.pydata.org/docs/reference/api/pandas.Series.html#pandas.Series\n",
    "\n",
    "x2 = pd.Series(x, index=list(range(0,100,10)))\n",
    "print(\"type(x2): \" + str(type(x2)))\n",
    "print(x2)"
   ]
  },
  {
   "cell_type": "markdown",
   "metadata": {},
   "source": [
    "**9** [P] Create a `DataFrame` object called df_x that has x2 as the first variable with the name of \"x2\", and an additional variable named \"x3\" that is 10 random floating point numbers in the range [100,200). Show the types of your dataframe using `print(df_x.dtypes)`, and show the contents of your dataframe. Your index should remain as 0, 10, 20, … , 90. It should look something like this (though your numbers may differ):```\n",
    "\n",
    "```python\n",
    "df_x.dtypes:\n",
    "x2      int64\n",
    "x3    float64\n",
    "dtype: object\n",
    "df_x:\n",
    "    x2          x3\n",
    "0   16  172.896501\n",
    "10  13  185.673105\n",
    "20  17  179.285031\n",
    "30  12  113.509989\n",
    "40  12  166.289903\n",
    "50  11  176.019581\n",
    "60  11  184.072302\n",
    "70  18  182.045494\n",
    "80  11  160.123833\n",
    "90  19  154.065640\n",
    "```\n"
   ]
  },
  {
   "cell_type": "code",
   "execution_count": 7,
   "metadata": {},
   "outputs": [
    {
     "name": "stdout",
     "output_type": "stream",
     "text": [
      "x2       int8\n",
      "x3    float64\n",
      "dtype: object\n",
      "    x2          x3\n",
      "0   15  139.690693\n",
      "10  19  167.437237\n",
      "20  14  156.621381\n",
      "30  14  170.043924\n",
      "40  12  169.815690\n",
      "50  18  188.135136\n",
      "60  12  193.489976\n",
      "70  15  167.210820\n",
      "80  13  158.373392\n",
      "90  10  116.681371\n"
     ]
    }
   ],
   "source": [
    "# https://pandas.pydata.org/docs/reference/frame.html\n",
    "x3=np.random.uniform(100,200, size = 10)\n",
    "df_x = pd.DataFrame({'x2': x2, 'x3': x3})\n",
    "print(df_x.dtypes)\n",
    "print(df_x)"
   ]
  },
  {
   "cell_type": "markdown",
   "metadata": {},
   "source": [
    "**10** [M] Consider the `copy()` method of a DataFrame object. What is this method for? Explain the difference between a shallow copy and a deep copy of a DataFrame? Why would I use a shallow copy?"
   ]
  },
  {
   "cell_type": "markdown",
   "metadata": {
    "collapsed": false,
    "jupyter": {
     "outputs_hidden": false
    }
   },
   "source": [
    "ANSWER: The copy() method is used to make deep and shallow copies of a DataFrame. The difference between a shallow and a deep copy is that if you edit a shallow copy of a DataFrame, the original DataFrame will also be edited while a deep copy will copy each piece of the original into the new one and they are completely separate. You would use a shallow copy if you wanted to do some manipulation with sub-portions of data rather than specific datapoints.\n",
    "\n",
    "https://pandas.pydata.org/docs/reference/api/pandas.DataFrame.copy.html"
   ]
  },
  {
   "cell_type": "markdown",
   "metadata": {},
   "source": [
    "\n",
    "Next, we're going to work with a very simple set of data of quiz scores similar to the previous lab, just to get you started. Enter the following Python lists in a cell in your notebook. They will represent some fictitious daily quiz scores for a couple of weeks of some course you are taking:\n",
    "\n",
    "```python\n",
    "days = [\"Mon\",\"Tue\",\"Wed\",\"Thu\",\"Fri\"] \n",
    "scores_1 = [9.5, 8.75, 8, 10, 7.75] \n",
    "scores_2 = [9, 8, 10, 8.75, 7.25]\n",
    "```"
   ]
  },
  {
   "cell_type": "code",
   "execution_count": 8,
   "metadata": {},
   "outputs": [],
   "source": [
    "days = [\"Mon\",\"Tue\",\"Wed\",\"Thu\",\"Fri\"] \n",
    "scores_1 = [9.5, 8.75, 8, 10, 7.75] \n",
    "scores_2 = [9, 8, 10, 8.75, 7.25]"
   ]
  },
  {
   "cell_type": "markdown",
   "metadata": {},
   "source": [
    "**11** [P] Convert `scores_1` and `scores_2` into two `Series` objects. Use days as your index. You should name each Series object using the name parameter as \"week_1\", and \"week_2\". Do not show the result, only store the variables.\n"
   ]
  },
  {
   "cell_type": "code",
   "execution_count": 9,
   "metadata": {},
   "outputs": [],
   "source": [
    "week_1 = pd.Series(data=scores_1, index=days, name=\"week_1\")\n",
    "week_2 = pd.Series(data=scores_2, index=days, name=\"week_2\")"
   ]
  },
  {
   "cell_type": "markdown",
   "metadata": {},
   "source": [
    "\n",
    "**12** [P] Create a pandas `DataFrame` called `scores` that represents the above data. Show your data frame. Your results should be arranged as shown below:\n",
    "\n",
    "```python\n",
    "scores:\n",
    "        Mon   Tue   Wed    Thu   Fri\n",
    "week_1  9.5  8.75   8.0  10.00  7.75\n",
    "week_2  9.0  8.00  10.0   8.75  7.25\n",
    "```"
   ]
  },
  {
   "cell_type": "code",
   "execution_count": 10,
   "metadata": {},
   "outputs": [
    {
     "name": "stdout",
     "output_type": "stream",
     "text": [
      "        Mon   Tue   Wed    Thu   Fri\n",
      "week_1  9.5  8.75   8.0  10.00  7.75\n",
      "week_2  9.0  8.00  10.0   8.75  7.25\n"
     ]
    }
   ],
   "source": [
    "scores = pd.DataFrame({\"week_1\": week_1, \"week_2\": week_2})\n",
    "scores = scores.T\n",
    "print(scores)"
   ]
  },
  {
   "cell_type": "markdown",
   "metadata": {},
   "source": [
    "**13** [P] Use the `pd.concat` function to add the following data to the end of scores: `[8.5,8,9.75,9,8.25]`. The row label on the new week is \"week_3\". Show your updated data frame. It should look like the following:\n",
    "\n",
    "```python\n",
    "scores:\n",
    "        Mon   Tue    Wed    Thu   Fri\n",
    "week_1  9.5  8.75   8.00  10.00  7.75\n",
    "week_2  9.0  8.00  10.00   8.75  7.25\n",
    "week_3  8.5  8.00   9.75   9.00  8.25\n",
    "```"
   ]
  },
  {
   "cell_type": "code",
   "execution_count": 11,
   "metadata": {},
   "outputs": [
    {
     "data": {
      "text/html": [
       "<div>\n",
       "<style scoped>\n",
       "    .dataframe tbody tr th:only-of-type {\n",
       "        vertical-align: middle;\n",
       "    }\n",
       "\n",
       "    .dataframe tbody tr th {\n",
       "        vertical-align: top;\n",
       "    }\n",
       "\n",
       "    .dataframe thead th {\n",
       "        text-align: right;\n",
       "    }\n",
       "</style>\n",
       "<table border=\"1\" class=\"dataframe\">\n",
       "  <thead>\n",
       "    <tr style=\"text-align: right;\">\n",
       "      <th></th>\n",
       "      <th>Mon</th>\n",
       "      <th>Tue</th>\n",
       "      <th>Wed</th>\n",
       "      <th>Thu</th>\n",
       "      <th>Fri</th>\n",
       "    </tr>\n",
       "  </thead>\n",
       "  <tbody>\n",
       "    <tr>\n",
       "      <th>week_1</th>\n",
       "      <td>9.5</td>\n",
       "      <td>8.75</td>\n",
       "      <td>8.00</td>\n",
       "      <td>10.00</td>\n",
       "      <td>7.75</td>\n",
       "    </tr>\n",
       "    <tr>\n",
       "      <th>week_2</th>\n",
       "      <td>9.0</td>\n",
       "      <td>8.00</td>\n",
       "      <td>10.00</td>\n",
       "      <td>8.75</td>\n",
       "      <td>7.25</td>\n",
       "    </tr>\n",
       "    <tr>\n",
       "      <th>week_3</th>\n",
       "      <td>8.5</td>\n",
       "      <td>8.00</td>\n",
       "      <td>9.75</td>\n",
       "      <td>9.00</td>\n",
       "      <td>8.25</td>\n",
       "    </tr>\n",
       "  </tbody>\n",
       "</table>\n",
       "</div>"
      ],
      "text/plain": [
       "        Mon   Tue    Wed    Thu   Fri\n",
       "week_1  9.5  8.75   8.00  10.00  7.75\n",
       "week_2  9.0  8.00  10.00   8.75  7.25\n",
       "week_3  8.5  8.00   9.75   9.00  8.25"
      ]
     },
     "execution_count": 11,
     "metadata": {},
     "output_type": "execute_result"
    }
   ],
   "source": [
    "# https://pandas.pydata.org/docs/reference/api/pandas.concat.html\n",
    "\n",
    "week_3 = pd.DataFrame({\"week_3\": pd.Series(data=[8.5,8,9.75,9,8.25], index=days, name=\"week_3\")})\n",
    "week_3 = week_3.T\n",
    "scores = pd.concat([scores, week_3], axis=0)\n",
    "scores"
   ]
  },
  {
   "cell_type": "markdown",
   "metadata": {},
   "source": [
    "---\n",
    "## Selecting Data\n",
    "\n",
    "You are about to practice a lot of data selection and manipulation techniques. Developing the ability to quickly select data you are looking for is an important skill."
   ]
  },
  {
   "cell_type": "markdown",
   "metadata": {},
   "source": [
    "**14** [M] `numpy` and `pandas` have an ENORMOUS number of ways for selecting data. At first, the flexibility will confuse and drive you nuts. In time, it becomes amazing and intuitive (with less nuts.) From their 10 minute tutorial: \n",
    "\n",
    "> Note: While standard Python / Numpy expressions for selecting and setting are intuitive and come in handy for interactive work, for production code, we recommend the optimized pandas data access methods, `.at`, `.iat`, `.loc`, and `.iloc`\n",
    "\n",
    "\n",
    "Write yourself a quick one sentence reference for each access method listed above, with one example for each using the `scores` DataFrame."
   ]
  },
  {
   "cell_type": "markdown",
   "metadata": {},
   "source": [
    "ANSWER: \n",
    "\n",
    ".at allows you to access a single datapoint in a dataframe attached to whatever you put as arguments\n",
    "\n",
    ".iat does the same thing as .at but it uses integer indeces\n",
    "\n",
    ".loc accesses rows and columns at arguments\n",
    "\n",
    ".iloc same thing as loc but with integer indeces\n",
    "\n",
    "https://pandas.pydata.org/docs/reference/api/pandas.DataFrame.at.html\n",
    "https://pandas.pydata.org/docs/reference/api/pandas.DataFrame.iat.html\n",
    "https://pandas.pydata.org/docs/reference/api/pandas.DataFrame.loc.html\n",
    "https://pandas.pydata.org/docs/reference/api/pandas.DataFrame.iloc.html"
   ]
  },
  {
   "cell_type": "code",
   "execution_count": 12,
   "metadata": {},
   "outputs": [
    {
     "name": "stdout",
     "output_type": "stream",
     "text": [
      "9.5\n",
      "9.5\n",
      "Mon    9.50\n",
      "Wed    8.00\n",
      "Fri    7.75\n",
      "Name: week_1, dtype: float64\n",
      "Mon    9.50\n",
      "Wed    8.00\n",
      "Fri    7.75\n",
      "Name: week_1, dtype: float64\n"
     ]
    }
   ],
   "source": [
    "# Your examples using scores go here.\n",
    "\n",
    "val = scores.at[\"week_1\", \"Mon\"]\n",
    "print(val)\n",
    "\n",
    "val = scores.iat[0,0]\n",
    "print(val)\n",
    "\n",
    "vals = scores.loc[\"week_1\", [\"Mon\", \"Wed\", \"Fri\"]]\n",
    "print(vals)\n",
    "\n",
    "vals = scores.iloc[0, 0:6:2]\n",
    "print(vals)"
   ]
  },
  {
   "cell_type": "markdown",
   "metadata": {},
   "source": [
    "You are going to see many ways to select data in a DataFrame. It will be confusing at first. For example, in addition to the above access methods, you can also use the `[ ]` operator directly to access your data. Want to see just how flexible data selection is in Pandas? Suppose you simply wanted to grab the data for Mondays over all three weeks. How would you do that? I've seen all these as possible answers. Try out the following, placing each in separate cells by themselves: \n",
    "\n",
    "```python\n",
    "scores.iloc[0]\n",
    "scores.iloc[0:1]\n",
    "scores.iloc[:,0:1]\n",
    "scores[0:1]\n",
    "scores.Mon\n",
    "scores[\"Mon\"]\n",
    "scores.loc[:,\"Mon\"] \n",
    "scores.loc[:,[\"Mon\"]] \n",
    "```\n",
    "\n",
    "and understand how they are the same (or different!) Be careful, because many of these may appear to return the same result, but the actual pandas type represented is entirely different. (For example, `scores.iloc[0]` returns a Series. `scores.iloc[0:1]` returns a DataFrame.)"
   ]
  },
  {
   "cell_type": "code",
   "execution_count": 13,
   "metadata": {
    "collapsed": false,
    "jupyter": {
     "outputs_hidden": false
    }
   },
   "outputs": [
    {
     "data": {
      "text/plain": [
       "Mon     9.50\n",
       "Tue     8.75\n",
       "Wed     8.00\n",
       "Thu    10.00\n",
       "Fri     7.75\n",
       "Name: week_1, dtype: float64"
      ]
     },
     "execution_count": 13,
     "metadata": {},
     "output_type": "execute_result"
    }
   ],
   "source": [
    "scores.iloc[0]"
   ]
  },
  {
   "cell_type": "code",
   "execution_count": 14,
   "metadata": {
    "collapsed": false,
    "jupyter": {
     "outputs_hidden": false
    }
   },
   "outputs": [
    {
     "data": {
      "text/html": [
       "<div>\n",
       "<style scoped>\n",
       "    .dataframe tbody tr th:only-of-type {\n",
       "        vertical-align: middle;\n",
       "    }\n",
       "\n",
       "    .dataframe tbody tr th {\n",
       "        vertical-align: top;\n",
       "    }\n",
       "\n",
       "    .dataframe thead th {\n",
       "        text-align: right;\n",
       "    }\n",
       "</style>\n",
       "<table border=\"1\" class=\"dataframe\">\n",
       "  <thead>\n",
       "    <tr style=\"text-align: right;\">\n",
       "      <th></th>\n",
       "      <th>Mon</th>\n",
       "      <th>Tue</th>\n",
       "      <th>Wed</th>\n",
       "      <th>Thu</th>\n",
       "      <th>Fri</th>\n",
       "    </tr>\n",
       "  </thead>\n",
       "  <tbody>\n",
       "    <tr>\n",
       "      <th>week_1</th>\n",
       "      <td>9.5</td>\n",
       "      <td>8.75</td>\n",
       "      <td>8.0</td>\n",
       "      <td>10.0</td>\n",
       "      <td>7.75</td>\n",
       "    </tr>\n",
       "  </tbody>\n",
       "</table>\n",
       "</div>"
      ],
      "text/plain": [
       "        Mon   Tue  Wed   Thu   Fri\n",
       "week_1  9.5  8.75  8.0  10.0  7.75"
      ]
     },
     "execution_count": 14,
     "metadata": {},
     "output_type": "execute_result"
    }
   ],
   "source": [
    "scores.iloc[0:1]"
   ]
  },
  {
   "cell_type": "code",
   "execution_count": 15,
   "metadata": {
    "collapsed": false,
    "jupyter": {
     "outputs_hidden": false
    }
   },
   "outputs": [
    {
     "data": {
      "text/html": [
       "<div>\n",
       "<style scoped>\n",
       "    .dataframe tbody tr th:only-of-type {\n",
       "        vertical-align: middle;\n",
       "    }\n",
       "\n",
       "    .dataframe tbody tr th {\n",
       "        vertical-align: top;\n",
       "    }\n",
       "\n",
       "    .dataframe thead th {\n",
       "        text-align: right;\n",
       "    }\n",
       "</style>\n",
       "<table border=\"1\" class=\"dataframe\">\n",
       "  <thead>\n",
       "    <tr style=\"text-align: right;\">\n",
       "      <th></th>\n",
       "      <th>Mon</th>\n",
       "    </tr>\n",
       "  </thead>\n",
       "  <tbody>\n",
       "    <tr>\n",
       "      <th>week_1</th>\n",
       "      <td>9.5</td>\n",
       "    </tr>\n",
       "    <tr>\n",
       "      <th>week_2</th>\n",
       "      <td>9.0</td>\n",
       "    </tr>\n",
       "    <tr>\n",
       "      <th>week_3</th>\n",
       "      <td>8.5</td>\n",
       "    </tr>\n",
       "  </tbody>\n",
       "</table>\n",
       "</div>"
      ],
      "text/plain": [
       "        Mon\n",
       "week_1  9.5\n",
       "week_2  9.0\n",
       "week_3  8.5"
      ]
     },
     "execution_count": 15,
     "metadata": {},
     "output_type": "execute_result"
    }
   ],
   "source": [
    "scores.iloc[:,0:1]"
   ]
  },
  {
   "cell_type": "code",
   "execution_count": 16,
   "metadata": {
    "collapsed": false,
    "jupyter": {
     "outputs_hidden": false
    }
   },
   "outputs": [
    {
     "data": {
      "text/html": [
       "<div>\n",
       "<style scoped>\n",
       "    .dataframe tbody tr th:only-of-type {\n",
       "        vertical-align: middle;\n",
       "    }\n",
       "\n",
       "    .dataframe tbody tr th {\n",
       "        vertical-align: top;\n",
       "    }\n",
       "\n",
       "    .dataframe thead th {\n",
       "        text-align: right;\n",
       "    }\n",
       "</style>\n",
       "<table border=\"1\" class=\"dataframe\">\n",
       "  <thead>\n",
       "    <tr style=\"text-align: right;\">\n",
       "      <th></th>\n",
       "      <th>Mon</th>\n",
       "      <th>Tue</th>\n",
       "      <th>Wed</th>\n",
       "      <th>Thu</th>\n",
       "      <th>Fri</th>\n",
       "    </tr>\n",
       "  </thead>\n",
       "  <tbody>\n",
       "    <tr>\n",
       "      <th>week_1</th>\n",
       "      <td>9.5</td>\n",
       "      <td>8.75</td>\n",
       "      <td>8.0</td>\n",
       "      <td>10.0</td>\n",
       "      <td>7.75</td>\n",
       "    </tr>\n",
       "  </tbody>\n",
       "</table>\n",
       "</div>"
      ],
      "text/plain": [
       "        Mon   Tue  Wed   Thu   Fri\n",
       "week_1  9.5  8.75  8.0  10.0  7.75"
      ]
     },
     "execution_count": 16,
     "metadata": {},
     "output_type": "execute_result"
    }
   ],
   "source": [
    "scores[0:1]"
   ]
  },
  {
   "cell_type": "code",
   "execution_count": 17,
   "metadata": {
    "collapsed": false,
    "jupyter": {
     "outputs_hidden": false
    }
   },
   "outputs": [
    {
     "data": {
      "text/plain": [
       "week_1    9.5\n",
       "week_2    9.0\n",
       "week_3    8.5\n",
       "Name: Mon, dtype: float64"
      ]
     },
     "execution_count": 17,
     "metadata": {},
     "output_type": "execute_result"
    }
   ],
   "source": [
    "scores.Mon"
   ]
  },
  {
   "cell_type": "code",
   "execution_count": 18,
   "metadata": {
    "collapsed": false,
    "jupyter": {
     "outputs_hidden": false
    }
   },
   "outputs": [
    {
     "data": {
      "text/plain": [
       "week_1    9.5\n",
       "week_2    9.0\n",
       "week_3    8.5\n",
       "Name: Mon, dtype: float64"
      ]
     },
     "execution_count": 18,
     "metadata": {},
     "output_type": "execute_result"
    }
   ],
   "source": [
    "scores[\"Mon\"]"
   ]
  },
  {
   "cell_type": "code",
   "execution_count": 19,
   "metadata": {
    "collapsed": false,
    "jupyter": {
     "outputs_hidden": false
    }
   },
   "outputs": [
    {
     "data": {
      "text/plain": [
       "week_1    9.5\n",
       "week_2    9.0\n",
       "week_3    8.5\n",
       "Name: Mon, dtype: float64"
      ]
     },
     "execution_count": 19,
     "metadata": {},
     "output_type": "execute_result"
    }
   ],
   "source": [
    "scores.loc[:,\"Mon\"] "
   ]
  },
  {
   "cell_type": "code",
   "execution_count": 20,
   "metadata": {
    "collapsed": false,
    "jupyter": {
     "outputs_hidden": false
    }
   },
   "outputs": [
    {
     "data": {
      "text/html": [
       "<div>\n",
       "<style scoped>\n",
       "    .dataframe tbody tr th:only-of-type {\n",
       "        vertical-align: middle;\n",
       "    }\n",
       "\n",
       "    .dataframe tbody tr th {\n",
       "        vertical-align: top;\n",
       "    }\n",
       "\n",
       "    .dataframe thead th {\n",
       "        text-align: right;\n",
       "    }\n",
       "</style>\n",
       "<table border=\"1\" class=\"dataframe\">\n",
       "  <thead>\n",
       "    <tr style=\"text-align: right;\">\n",
       "      <th></th>\n",
       "      <th>Mon</th>\n",
       "    </tr>\n",
       "  </thead>\n",
       "  <tbody>\n",
       "    <tr>\n",
       "      <th>week_1</th>\n",
       "      <td>9.5</td>\n",
       "    </tr>\n",
       "    <tr>\n",
       "      <th>week_2</th>\n",
       "      <td>9.0</td>\n",
       "    </tr>\n",
       "    <tr>\n",
       "      <th>week_3</th>\n",
       "      <td>8.5</td>\n",
       "    </tr>\n",
       "  </tbody>\n",
       "</table>\n",
       "</div>"
      ],
      "text/plain": [
       "        Mon\n",
       "week_1  9.5\n",
       "week_2  9.0\n",
       "week_3  8.5"
      ]
     },
     "execution_count": 20,
     "metadata": {},
     "output_type": "execute_result"
    }
   ],
   "source": [
    "scores.loc[:,[\"Mon\"]]"
   ]
  },
  {
   "cell_type": "markdown",
   "metadata": {},
   "source": [
    "Also, notice above that DataFrames dynamically create attributes for each column of data you have (assuming the columns are named with strings.) That's why you could do `scores.Mon` to get Monday's data as a Series. You'll see all the above techniques used in practice. Again, if you're not convinced yet, I strongly recommend that you go through the 10 minute tutorial carefully, and briefly summarize what you can in your own notes. Find some good cheat sheets for pandas online, or even make your own! AND – PAY CLOSE ATTENTION TO THE RETURN TYPES! It's very important to understand when `DataFrame` objects vs. `Series` objects are returned. It will save you lots of frustration down the road.\n",
    "\n",
    "Let's continue"
   ]
  },
  {
   "cell_type": "markdown",
   "metadata": {},
   "source": [
    "**15** [P] Show at least two different techniques to select scores for Tuesday using the string \"Tue\" as a `Series`"
   ]
  },
  {
   "cell_type": "code",
   "execution_count": 21,
   "metadata": {},
   "outputs": [
    {
     "data": {
      "text/plain": [
       "week_1    8.75\n",
       "week_2    8.00\n",
       "week_3    8.00\n",
       "Name: Tue, dtype: float64"
      ]
     },
     "execution_count": 21,
     "metadata": {},
     "output_type": "execute_result"
    }
   ],
   "source": [
    "vals = scores.loc[:, \"Tue\"]\n",
    "vals"
   ]
  },
  {
   "cell_type": "code",
   "execution_count": 22,
   "metadata": {},
   "outputs": [
    {
     "data": {
      "text/plain": [
       "week_1    8.75\n",
       "week_2    8.00\n",
       "week_3    8.00\n",
       "Name: Tue, dtype: float64"
      ]
     },
     "execution_count": 22,
     "metadata": {},
     "output_type": "execute_result"
    }
   ],
   "source": [
    "vals = scores[\"Tue\"]\n",
    "vals"
   ]
  },
  {
   "cell_type": "markdown",
   "metadata": {},
   "source": [
    "**16** [P] Show how to retrieve the scores for Tuesday using the named attribute `Tue`"
   ]
  },
  {
   "cell_type": "code",
   "execution_count": 23,
   "metadata": {},
   "outputs": [
    {
     "data": {
      "text/plain": [
       "week_1    8.75\n",
       "week_2    8.00\n",
       "week_3    8.00\n",
       "Name: Tue, dtype: float64"
      ]
     },
     "execution_count": 23,
     "metadata": {},
     "output_type": "execute_result"
    }
   ],
   "source": [
    "vals = scores.Tue\n",
    "vals"
   ]
  },
  {
   "cell_type": "markdown",
   "metadata": {},
   "source": [
    "**17** [P] Show at least three techniques to select scores for Wednesday using an integer. The return type can be either a DataFrame or a Series.\n"
   ]
  },
  {
   "cell_type": "code",
   "execution_count": 24,
   "metadata": {},
   "outputs": [
    {
     "data": {
      "text/plain": [
       "week_1     8.00\n",
       "week_2    10.00\n",
       "week_3     9.75\n",
       "Name: Wed, dtype: float64"
      ]
     },
     "execution_count": 24,
     "metadata": {},
     "output_type": "execute_result"
    }
   ],
   "source": [
    "# https://pandas.pydata.org/docs/reference/api/pandas.DataFrame.iloc.html#\n",
    "\n",
    "vals = scores.iloc[:,2]\n",
    "vals"
   ]
  },
  {
   "cell_type": "code",
   "execution_count": 25,
   "metadata": {},
   "outputs": [
    {
     "data": {
      "text/html": [
       "<div>\n",
       "<style scoped>\n",
       "    .dataframe tbody tr th:only-of-type {\n",
       "        vertical-align: middle;\n",
       "    }\n",
       "\n",
       "    .dataframe tbody tr th {\n",
       "        vertical-align: top;\n",
       "    }\n",
       "\n",
       "    .dataframe thead th {\n",
       "        text-align: right;\n",
       "    }\n",
       "</style>\n",
       "<table border=\"1\" class=\"dataframe\">\n",
       "  <thead>\n",
       "    <tr style=\"text-align: right;\">\n",
       "      <th></th>\n",
       "      <th>Wed</th>\n",
       "    </tr>\n",
       "  </thead>\n",
       "  <tbody>\n",
       "    <tr>\n",
       "      <th>week_1</th>\n",
       "      <td>8.00</td>\n",
       "    </tr>\n",
       "    <tr>\n",
       "      <th>week_2</th>\n",
       "      <td>10.00</td>\n",
       "    </tr>\n",
       "    <tr>\n",
       "      <th>week_3</th>\n",
       "      <td>9.75</td>\n",
       "    </tr>\n",
       "  </tbody>\n",
       "</table>\n",
       "</div>"
      ],
      "text/plain": [
       "          Wed\n",
       "week_1   8.00\n",
       "week_2  10.00\n",
       "week_3   9.75"
      ]
     },
     "execution_count": 25,
     "metadata": {},
     "output_type": "execute_result"
    }
   ],
   "source": [
    "# https://pandas.pydata.org/docs/reference/api/pandas.DataFrame.iloc.html#\n",
    "\n",
    "vals = scores.iloc[:,2:3]\n",
    "vals"
   ]
  },
  {
   "cell_type": "code",
   "execution_count": 26,
   "metadata": {},
   "outputs": [
    {
     "data": {
      "text/html": [
       "<div>\n",
       "<style scoped>\n",
       "    .dataframe tbody tr th:only-of-type {\n",
       "        vertical-align: middle;\n",
       "    }\n",
       "\n",
       "    .dataframe tbody tr th {\n",
       "        vertical-align: top;\n",
       "    }\n",
       "\n",
       "    .dataframe thead th {\n",
       "        text-align: right;\n",
       "    }\n",
       "</style>\n",
       "<table border=\"1\" class=\"dataframe\">\n",
       "  <thead>\n",
       "    <tr style=\"text-align: right;\">\n",
       "      <th></th>\n",
       "      <th>Wed</th>\n",
       "    </tr>\n",
       "  </thead>\n",
       "  <tbody>\n",
       "    <tr>\n",
       "      <th>week_1</th>\n",
       "      <td>8.00</td>\n",
       "    </tr>\n",
       "    <tr>\n",
       "      <th>week_2</th>\n",
       "      <td>10.00</td>\n",
       "    </tr>\n",
       "    <tr>\n",
       "      <th>week_3</th>\n",
       "      <td>9.75</td>\n",
       "    </tr>\n",
       "  </tbody>\n",
       "</table>\n",
       "</div>"
      ],
      "text/plain": [
       "          Wed\n",
       "week_1   8.00\n",
       "week_2  10.00\n",
       "week_3   9.75"
      ]
     },
     "execution_count": 26,
     "metadata": {},
     "output_type": "execute_result"
    }
   ],
   "source": [
    "# https://pandas.pydata.org/docs/reference/api/pandas.DataFrame.iloc.html#\n",
    "\n",
    "vals = scores.iloc[:, [2]]\n",
    "vals"
   ]
  },
  {
   "cell_type": "markdown",
   "metadata": {},
   "source": [
    "\n",
    "**18** [P] Select the data for the first week using the string \"week_1\". Your result should return a Series representing the scores for week 1.\n"
   ]
  },
  {
   "cell_type": "code",
   "execution_count": 27,
   "metadata": {},
   "outputs": [
    {
     "data": {
      "text/plain": [
       "Mon     9.50\n",
       "Tue     8.75\n",
       "Wed     8.00\n",
       "Thu    10.00\n",
       "Fri     7.75\n",
       "Name: week_1, dtype: float64"
      ]
     },
     "execution_count": 27,
     "metadata": {},
     "output_type": "execute_result"
    }
   ],
   "source": [
    "vals = scores.loc[\"week_1\"]\n",
    "vals"
   ]
  },
  {
   "cell_type": "markdown",
   "metadata": {},
   "source": [
    "\n",
    "**19** [P] Select the data for the first week using the string \"week_1\". Your result should return a DataFrame, representing the subset of the scores DataFrame for week 1 only.\n"
   ]
  },
  {
   "cell_type": "code",
   "execution_count": 28,
   "metadata": {},
   "outputs": [
    {
     "data": {
      "text/html": [
       "<div>\n",
       "<style scoped>\n",
       "    .dataframe tbody tr th:only-of-type {\n",
       "        vertical-align: middle;\n",
       "    }\n",
       "\n",
       "    .dataframe tbody tr th {\n",
       "        vertical-align: top;\n",
       "    }\n",
       "\n",
       "    .dataframe thead th {\n",
       "        text-align: right;\n",
       "    }\n",
       "</style>\n",
       "<table border=\"1\" class=\"dataframe\">\n",
       "  <thead>\n",
       "    <tr style=\"text-align: right;\">\n",
       "      <th></th>\n",
       "      <th>Mon</th>\n",
       "      <th>Tue</th>\n",
       "      <th>Wed</th>\n",
       "      <th>Thu</th>\n",
       "      <th>Fri</th>\n",
       "    </tr>\n",
       "  </thead>\n",
       "  <tbody>\n",
       "    <tr>\n",
       "      <th>week_1</th>\n",
       "      <td>9.5</td>\n",
       "      <td>8.75</td>\n",
       "      <td>8.0</td>\n",
       "      <td>10.0</td>\n",
       "      <td>7.75</td>\n",
       "    </tr>\n",
       "  </tbody>\n",
       "</table>\n",
       "</div>"
      ],
      "text/plain": [
       "        Mon   Tue  Wed   Thu   Fri\n",
       "week_1  9.5  8.75  8.0  10.0  7.75"
      ]
     },
     "execution_count": 28,
     "metadata": {},
     "output_type": "execute_result"
    }
   ],
   "source": [
    "vals = scores.loc[[\"week_1\"]]\n",
    "vals"
   ]
  },
  {
   "cell_type": "markdown",
   "metadata": {},
   "source": [
    "\n",
    "**20** [P] Select the data for the first week using a slice."
   ]
  },
  {
   "cell_type": "code",
   "execution_count": 29,
   "metadata": {},
   "outputs": [
    {
     "data": {
      "text/plain": [
       "Mon     9.50\n",
       "Tue     8.75\n",
       "Wed     8.00\n",
       "Thu    10.00\n",
       "Fri     7.75\n",
       "Name: week_1, dtype: float64"
      ]
     },
     "execution_count": 29,
     "metadata": {},
     "output_type": "execute_result"
    }
   ],
   "source": [
    "vals = scores.iloc[0, :]\n",
    "vals"
   ]
  },
  {
   "cell_type": "markdown",
   "metadata": {},
   "source": [
    "\n",
    "**21** [P] Use `.iloc` to select Monday and Friday of the first and third week. Your result should be a `DataFrame` that looks something as follows:\n",
    "\n",
    "```python\n",
    "        Mon   Fri\n",
    "week_1\t9.5\t7.75\n",
    "week_3\t8.5\t8.25\n",
    "```"
   ]
  },
  {
   "cell_type": "code",
   "execution_count": 30,
   "metadata": {},
   "outputs": [
    {
     "data": {
      "text/html": [
       "<div>\n",
       "<style scoped>\n",
       "    .dataframe tbody tr th:only-of-type {\n",
       "        vertical-align: middle;\n",
       "    }\n",
       "\n",
       "    .dataframe tbody tr th {\n",
       "        vertical-align: top;\n",
       "    }\n",
       "\n",
       "    .dataframe thead th {\n",
       "        text-align: right;\n",
       "    }\n",
       "</style>\n",
       "<table border=\"1\" class=\"dataframe\">\n",
       "  <thead>\n",
       "    <tr style=\"text-align: right;\">\n",
       "      <th></th>\n",
       "      <th>Mon</th>\n",
       "      <th>Fri</th>\n",
       "    </tr>\n",
       "  </thead>\n",
       "  <tbody>\n",
       "    <tr>\n",
       "      <th>week_1</th>\n",
       "      <td>9.5</td>\n",
       "      <td>7.75</td>\n",
       "    </tr>\n",
       "    <tr>\n",
       "      <th>week_3</th>\n",
       "      <td>8.5</td>\n",
       "      <td>8.25</td>\n",
       "    </tr>\n",
       "  </tbody>\n",
       "</table>\n",
       "</div>"
      ],
      "text/plain": [
       "        Mon   Fri\n",
       "week_1  9.5  7.75\n",
       "week_3  8.5  8.25"
      ]
     },
     "execution_count": 30,
     "metadata": {},
     "output_type": "execute_result"
    }
   ],
   "source": [
    "vals = scores.iloc[[0,-1], [0,-1]]\n",
    "vals"
   ]
  },
  {
   "cell_type": "markdown",
   "metadata": {},
   "source": [
    "**22** [P] Repeat the previous exercise, but use the `.loc` selector. You should have the same result.\n"
   ]
  },
  {
   "cell_type": "code",
   "execution_count": 31,
   "metadata": {},
   "outputs": [
    {
     "data": {
      "text/html": [
       "<div>\n",
       "<style scoped>\n",
       "    .dataframe tbody tr th:only-of-type {\n",
       "        vertical-align: middle;\n",
       "    }\n",
       "\n",
       "    .dataframe tbody tr th {\n",
       "        vertical-align: top;\n",
       "    }\n",
       "\n",
       "    .dataframe thead th {\n",
       "        text-align: right;\n",
       "    }\n",
       "</style>\n",
       "<table border=\"1\" class=\"dataframe\">\n",
       "  <thead>\n",
       "    <tr style=\"text-align: right;\">\n",
       "      <th></th>\n",
       "      <th>Mon</th>\n",
       "      <th>Fri</th>\n",
       "    </tr>\n",
       "  </thead>\n",
       "  <tbody>\n",
       "    <tr>\n",
       "      <th>week_1</th>\n",
       "      <td>9.5</td>\n",
       "      <td>7.75</td>\n",
       "    </tr>\n",
       "    <tr>\n",
       "      <th>week_3</th>\n",
       "      <td>8.5</td>\n",
       "      <td>8.25</td>\n",
       "    </tr>\n",
       "  </tbody>\n",
       "</table>\n",
       "</div>"
      ],
      "text/plain": [
       "        Mon   Fri\n",
       "week_1  9.5  7.75\n",
       "week_3  8.5  8.25"
      ]
     },
     "execution_count": 31,
     "metadata": {},
     "output_type": "execute_result"
    }
   ],
   "source": [
    "vals = scores.loc[[\"week_1\",\"week_3\"],[\"Mon\", \"Fri\"]]\n",
    "vals"
   ]
  },
  {
   "cell_type": "markdown",
   "metadata": {},
   "source": [
    "**23** [P] Report the mean score for each day. \n",
    "\n",
    "Your answer should look like:\n",
    "\n",
    "```python\n",
    "Mon    9.00\n",
    "Tue    8.25\n",
    "Wed    9.25\n",
    "Thu    9.25\n",
    "Fri    7.75\n",
    "dtype: float64\n",
    "```"
   ]
  },
  {
   "cell_type": "code",
   "execution_count": 32,
   "metadata": {},
   "outputs": [
    {
     "data": {
      "text/plain": [
       "Mon    9.00\n",
       "Tue    8.25\n",
       "Wed    9.25\n",
       "Thu    9.25\n",
       "Fri    7.75\n",
       "dtype: float64"
      ]
     },
     "execution_count": 32,
     "metadata": {},
     "output_type": "execute_result"
    }
   ],
   "source": [
    "# https://pandas.pydata.org/docs/reference/api/pandas.DataFrame.mean.html\n",
    "\n",
    "means_days = scores.mean(axis=0)\n",
    "means_days"
   ]
  },
  {
   "cell_type": "markdown",
   "metadata": {},
   "source": [
    "**24** [P] Report the mean score for each week.\n",
    "\n",
    "Your answer should look like: \n",
    "\n",
    "```python\n",
    "week_1    8.8\n",
    "week_2    8.6\n",
    "week_3    8.7\n",
    "dtype: float64\n",
    "```"
   ]
  },
  {
   "cell_type": "code",
   "execution_count": 33,
   "metadata": {},
   "outputs": [
    {
     "data": {
      "text/plain": [
       "week_1    8.8\n",
       "week_2    8.6\n",
       "week_3    8.7\n",
       "dtype: float64"
      ]
     },
     "execution_count": 33,
     "metadata": {},
     "output_type": "execute_result"
    }
   ],
   "source": [
    "# https://pandas.pydata.org/docs/reference/api/pandas.DataFrame.mean.html\n",
    "\n",
    "means_week = scores.mean(axis=1)\n",
    "means_week"
   ]
  },
  {
   "cell_type": "markdown",
   "metadata": {},
   "source": [
    "**25** [P] For each week, report how much each day's score for that week differed from the mean for the week. Your result should be one `DataFrame` that looks like this:\n",
    "\n",
    "```python\n",
    "\tMon\tTue\tWed\tThu\tFri\n",
    "week_1\t0.7\t-0.05\t-0.80\t1.20\t-1.05\n",
    "week_2\t0.4\t-0.60\t1.40\t0.15\t-1.35\n",
    "week_3\t-0.2\t-0.70\t1.05\t0.30\t-0.45\n",
    "```\n"
   ]
  },
  {
   "cell_type": "code",
   "execution_count": 34,
   "metadata": {},
   "outputs": [
    {
     "data": {
      "text/html": [
       "<div>\n",
       "<style scoped>\n",
       "    .dataframe tbody tr th:only-of-type {\n",
       "        vertical-align: middle;\n",
       "    }\n",
       "\n",
       "    .dataframe tbody tr th {\n",
       "        vertical-align: top;\n",
       "    }\n",
       "\n",
       "    .dataframe thead th {\n",
       "        text-align: right;\n",
       "    }\n",
       "</style>\n",
       "<table border=\"1\" class=\"dataframe\">\n",
       "  <thead>\n",
       "    <tr style=\"text-align: right;\">\n",
       "      <th></th>\n",
       "      <th>Mon</th>\n",
       "      <th>Tue</th>\n",
       "      <th>Wed</th>\n",
       "      <th>Thu</th>\n",
       "      <th>Fri</th>\n",
       "    </tr>\n",
       "  </thead>\n",
       "  <tbody>\n",
       "    <tr>\n",
       "      <th>week_1</th>\n",
       "      <td>0.7</td>\n",
       "      <td>-0.05</td>\n",
       "      <td>-0.80</td>\n",
       "      <td>1.20</td>\n",
       "      <td>-1.05</td>\n",
       "    </tr>\n",
       "    <tr>\n",
       "      <th>week_2</th>\n",
       "      <td>0.4</td>\n",
       "      <td>-0.60</td>\n",
       "      <td>1.40</td>\n",
       "      <td>0.15</td>\n",
       "      <td>-1.35</td>\n",
       "    </tr>\n",
       "    <tr>\n",
       "      <th>week_3</th>\n",
       "      <td>-0.2</td>\n",
       "      <td>-0.70</td>\n",
       "      <td>1.05</td>\n",
       "      <td>0.30</td>\n",
       "      <td>-0.45</td>\n",
       "    </tr>\n",
       "  </tbody>\n",
       "</table>\n",
       "</div>"
      ],
      "text/plain": [
       "        Mon   Tue   Wed   Thu   Fri\n",
       "week_1  0.7 -0.05 -0.80  1.20 -1.05\n",
       "week_2  0.4 -0.60  1.40  0.15 -1.35\n",
       "week_3 -0.2 -0.70  1.05  0.30 -0.45"
      ]
     },
     "execution_count": 34,
     "metadata": {},
     "output_type": "execute_result"
    }
   ],
   "source": [
    "# https://pandas.pydata.org/docs/reference/api/pandas.DataFrame.sub.html\n",
    "\n",
    "scores.sub(means_week, axis=0)"
   ]
  },
  {
   "cell_type": "markdown",
   "metadata": {},
   "source": [
    "**26** [P] Report the maximum score for each week. Your result should be a `Series`."
   ]
  },
  {
   "cell_type": "code",
   "execution_count": 35,
   "metadata": {},
   "outputs": [
    {
     "name": "stdout",
     "output_type": "stream",
     "text": [
      "The max score for each week was : \n",
      "week_1    10.00\n",
      "week_2    10.00\n",
      "week_3     9.75\n",
      "dtype: float64\n"
     ]
    }
   ],
   "source": [
    "print(\"The max score for each week was : \\n\" + str(scores.max(axis=1)))"
   ]
  },
  {
   "cell_type": "markdown",
   "metadata": {},
   "source": [
    "**27** [P] For each week, report which day had the largest score. (Again, you should be reporting your result as a `Series`. And hint, `idxmax()` is pretty cool.)\n"
   ]
  },
  {
   "cell_type": "code",
   "execution_count": 36,
   "metadata": {},
   "outputs": [
    {
     "name": "stdout",
     "output_type": "stream",
     "text": [
      "These days had the largest score in their respective week : \n",
      "week_1    Thu\n",
      "week_2    Wed\n",
      "week_3    Wed\n",
      "dtype: object\n"
     ]
    }
   ],
   "source": [
    "# https://pandas.pydata.org/docs/reference/api/pandas.Series.idxmax.html\n",
    "\n",
    "print(\"These days had the largest score in their respective week : \\n\" + str(scores.idxmax(axis=1)))"
   ]
  },
  {
   "cell_type": "markdown",
   "metadata": {},
   "source": [
    "\n",
    "**28** [P] Report the week that had the highest total quiz score. Your answer should only be the name of the week from the index.\n"
   ]
  },
  {
   "cell_type": "code",
   "execution_count": 37,
   "metadata": {},
   "outputs": [
    {
     "name": "stdout",
     "output_type": "stream",
     "text": [
      "The week with the highest total quiz score was: week_1\n"
     ]
    }
   ],
   "source": [
    "print(\"The week with the highest total quiz score was: \" + str(scores.sum(axis=1).idxmax()))"
   ]
  },
  {
   "cell_type": "markdown",
   "metadata": {},
   "source": [
    "\n",
    "**29** [P] How many days over the entire dataset had a score >= 9.25?\n"
   ]
  },
  {
   "cell_type": "code",
   "execution_count": 38,
   "metadata": {},
   "outputs": [
    {
     "name": "stdout",
     "output_type": "stream",
     "text": [
      "There were 4 scores greater than or equal to 9.25\n"
     ]
    }
   ],
   "source": [
    "# https://pandas.pydata.org/docs/reference/api/pandas.Series.sum.html\n",
    "\n",
    "threshold = 9.25\n",
    "count = (scores >= threshold).sum().sum()\n",
    "print(\"There were \" + str(count) + \" scores greater than or equal to \" + str(threshold))"
   ]
  },
  {
   "cell_type": "markdown",
   "metadata": {},
   "source": [
    "\n",
    "**30** [P] Report the number of days of each week that had a score >= 9.25. Your answer should be a `Series` that looks like the following:\n",
    "\n",
    "```python\n",
    "week_1    2\n",
    "week_2    1\n",
    "week_3    1\n",
    "dtype: int64\n",
    "```"
   ]
  },
  {
   "cell_type": "code",
   "execution_count": 39,
   "metadata": {},
   "outputs": [
    {
     "name": "stdout",
     "output_type": "stream",
     "text": [
      "week_1    2\n",
      "week_2    1\n",
      "week_3    1\n",
      "dtype: int64\n"
     ]
    }
   ],
   "source": [
    "# https://pandas.pydata.org/docs/reference/api/pandas.Series.sum.html\n",
    "\n",
    "threshold = 9.25\n",
    "count = (scores >= threshold).sum(axis=1)\n",
    "print(count)"
   ]
  },
  {
   "cell_type": "markdown",
   "metadata": {},
   "source": [
    "**31** [P] Report the average score for each week with the lowest score for each week dropped. (REMEMBER – NEVER hard code magic numbers. Your solution should work for any number of weeks, and any number of days per week!)"
   ]
  },
  {
   "cell_type": "code",
   "execution_count": 40,
   "metadata": {},
   "outputs": [
    {
     "name": "stdout",
     "output_type": "stream",
     "text": [
      "The average scores for each week (with drop) are : \n",
      "week_1    9.0625\n",
      "week_2    8.9375\n",
      "week_3    8.8750\n",
      "dtype: float64\n"
     ]
    }
   ],
   "source": [
    "# https://pandas.pydata.org/docs/reference/api/pandas.DataFrame.mask.html\n",
    "\n",
    "mins = scores.min(axis=1)\n",
    "tmp = scores.mask(scores.eq(mins, axis=0), 0)\n",
    "means = tmp.sum(axis=1)/(len(tmp.iloc[0])-1)\n",
    "print(\"The average scores for each week (with drop) are : \\n\" + str(means))"
   ]
  },
  {
   "cell_type": "markdown",
   "metadata": {},
   "source": [
    "**32** [P] Report the scores rescaled to fall between 0 and 100, instead of 0 to 10 as they are now."
   ]
  },
  {
   "cell_type": "code",
   "execution_count": 44,
   "metadata": {},
   "outputs": [
    {
     "name": "stdout",
     "output_type": "stream",
     "text": [
      "The rescaled scores are reported here : \n",
      "         Mon   Tue    Wed    Thu   Fri\n",
      "week_1  95.0  87.5   80.0  100.0  77.5\n",
      "week_2  90.0  80.0  100.0   87.5  72.5\n",
      "week_3  85.0  80.0   97.5   90.0  82.5\n"
     ]
    }
   ],
   "source": [
    "tmp = scores*10\n",
    "print(\"The rescaled scores are reported here : \\n\" + str(tmp))"
   ]
  },
  {
   "cell_type": "markdown",
   "metadata": {},
   "source": [
    "**33** [P] How would you convert your scores `DataFrame` to a Numpy array? Demonstrate it by showing the type of your conversion using Python's `type` function."
   ]
  },
  {
   "cell_type": "code",
   "execution_count": 47,
   "metadata": {},
   "outputs": [
    {
     "name": "stdout",
     "output_type": "stream",
     "text": [
      "<class 'pandas.core.frame.DataFrame'>\n",
      "<class 'numpy.ndarray'>\n",
      "[[ 9.5   8.75  8.   10.    7.75]\n",
      " [ 9.    8.   10.    8.75  7.25]\n",
      " [ 8.5   8.    9.75  9.    8.25]]\n"
     ]
    }
   ],
   "source": [
    "print(type(scores))\n",
    "np_arr = scores.to_numpy()\n",
    "print(type(np_arr))\n",
    "print(np_arr)"
   ]
  }
 ],
 "metadata": {
  "kernelspec": {
   "display_name": "Python 3 (ipykernel)",
   "language": "python",
   "name": "python3"
  },
  "language_info": {
   "codemirror_mode": {
    "name": "ipython",
    "version": 3
   },
   "file_extension": ".py",
   "mimetype": "text/x-python",
   "name": "python",
   "nbconvert_exporter": "python",
   "pygments_lexer": "ipython3",
   "version": "3.11.5"
  }
 },
 "nbformat": 4,
 "nbformat_minor": 4
}

{
 "cells": [
  {
   "cell_type": "markdown",
   "metadata": {
    "collapsed": false,
    "jupyter": {
     "outputs_hidden": false
    }
   },
   "source": [
    "# Lab 02 - numpy\n",
    "\n",
    "Name: Harrison Halesworth  \n",
    "Class: CSCI 349 - Intro to Data Mining  \n",
    "Section: 01 - 11am\n",
    "Semester: Spring 2024\n",
    "Instructors: Brian King, Joshua Stough"
   ]
  },
  {
   "cell_type": "markdown",
   "metadata": {
    "collapsed": false,
    "jupyter": {
     "outputs_hidden": false
    }
   },
   "source": [
    "**Submission:** \n",
    "* `lab02.ipynb`, pushed to your Git repo on master.   \n",
    "* `lab02.pdf` generated and turned in on Gradescope\n",
    "\n",
    "**Points**: 10\n",
    "\n",
    "**Due**: Friday, January 26, *before* class"
   ]
  },
  {
   "cell_type": "markdown",
   "metadata": {},
   "source": [
    "# Objectives\n",
    "\n",
    "-   numpy. More numpy. Because, one can never have enough numpy.\n",
    "\n",
    "# Introduction\n",
    "\n",
    "The first lab helped you set up your tools and briefly introduced you to numpy. Hopefully you found good reference material for numpy as you were working through the previous lab. A common challenge that Python programmers who are new to numpy is understanding some of the fundamental differences between Python lists and NumPy arrays (`ndarray`). They are completely *different*! And, understanding their underlying representation makes it very clear just how different they are. NumPy arrays are designed to be ultra-fast on vector or matrix calculations, with most of the underlying library developed in C. This lab is going to dive into NumPy, and by the end, you should have started a good foundation to this fundamental Python package.\n",
    "\n",
    "## Useful References\n",
    "\n",
    "-   <https://numpy.org/doc/stable/>\n",
    "\n",
    "    - The most useful chapter for all beginners is <https://numpy.org/doc/stable/user/absolute_beginners.html>\n",
    "\n",
    "-   Python for Data Analysis, 2nd ed. by Wes McKinney. \n",
    "    - Excellent book. Bookmark this one. The URL is in Moodle in the references section at the bottom.\n",
    "    - Chapter 4 covers NumPy basics"
   ]
  },
  {
   "cell_type": "markdown",
   "metadata": {
    "collapsed": false,
    "jupyter": {
     "outputs_hidden": false
    }
   },
   "source": [
    "# Getting Started\n",
    "\n",
    "Notice that every lab and assignment should have the top cell that has identifying information. Make sure this is your first cell for every Python notebook you submit.\n",
    "\n",
    "Next, you should have a cell that sets up the imports that you'll be using. You should become accustomed to doing this for future labs. These instructions will be reduced in the future, expecting you to understand what you need to do.\n"
   ]
  },
  {
   "cell_type": "code",
   "execution_count": 2,
   "metadata": {
    "collapsed": false,
    "jupyter": {
     "outputs_hidden": false
    }
   },
   "outputs": [
    {
     "name": "stdout",
     "output_type": "stream",
     "text": [
      "which python: C:\\Users\\hhale\\anaconda3\\python.exe.\n",
      "python: 3.11.5 | packaged by Anaconda, Inc. | (main, Sep 11 2023, 13:26:23) [MSC v.1916 64 bit (AMD64)].\n",
      "numpy: 1.26.3.\n"
     ]
    }
   ],
   "source": [
    "# Setting things up\n",
    "import sys\n",
    "import numpy as np\n",
    "print(f'which python: {sys.executable}.')\n",
    "print(f'python: {sys.version}.')\n",
    "print(f'numpy: {np.__version__}.')"
   ]
  },
  {
   "cell_type": "markdown",
   "metadata": {
    "collapsed": false,
    "jupyter": {
     "outputs_hidden": false
    }
   },
   "source": [
    "You'll notice that version numbers of important packages are printed out, including Python itself. Why? From personal experience, we use Python for almost all of our data science research, studies and experiments that we are involved with. Packages are *frequently* updated, and sometimes behaviors change that are unintended and dependent on a particular package, resulting in broken code. Including this output in generated reports can ensure others who want to run your code will install matching versions in their own environment.\n",
    "\n",
    "We will usually provide a skeleton `.ipynb` file much like this file, with general background and introductory material to cover what you need, followed by numerous questions to gauge your understaanding. \n",
    "\n",
    "* Questions with **[P]** are questions you need to write Python code that produces your answer. **No answer should just show hard coded output!** If there is output required, then your code should clearly print the answer desired. \n",
    "* Questions with **[M]** are questions that require a written response in makrdown. You should double click on the cell to edit it, and write your response in markdown.\n",
    "\n",
    "Generally, any variable on a line by itself as the last line of a cell will automatically be shown in the output. When you have multiple lines of output, however, use either the `display()` function, or the Python `print()` function. If the answer is going to produce multiple pages of output, then please do **not** print all of the data, but only the first few observations in your data."
   ]
  },
  {
   "cell_type": "markdown",
   "metadata": {
    "collapsed": false,
    "jupyter": {
     "outputs_hidden": false
    }
   },
   "source": [
    "Let's start with an example. If a line states\n",
    "\n",
    "**[P] \"Create a 2x3 matrix of zeros, single precision floating point format, stored as X\"** \n",
    "\n",
    "Your answer should be something like:"
   ]
  },
  {
   "cell_type": "code",
   "execution_count": 3,
   "metadata": {
    "collapsed": false,
    "jupyter": {
     "outputs_hidden": false
    }
   },
   "outputs": [
    {
     "data": {
      "text/plain": [
       "array([[0., 0., 0.],\n",
       "       [0., 0., 0.]], dtype=float32)"
      ]
     },
     "execution_count": 3,
     "metadata": {},
     "output_type": "execute_result"
    }
   ],
   "source": [
    "X = np.zeros((2,3), dtype=np.float32)\n",
    "X"
   ]
  },
  {
   "cell_type": "markdown",
   "metadata": {
    "collapsed": false,
    "jupyter": {
     "outputs_hidden": false
    }
   },
   "source": [
    "Notice that we did not use the `print` function. The variable `X` on the last line of the cell is enough. Jupyter will automatically print the contents of the last expression in every cell. However, more interestingly (especially when we get into Pandas), Jupyter will try to do some formatting. If you used print, notice you lose a lot of formatting:"
   ]
  },
  {
   "cell_type": "code",
   "execution_count": 4,
   "metadata": {
    "collapsed": false,
    "jupyter": {
     "outputs_hidden": false
    }
   },
   "outputs": [
    {
     "name": "stdout",
     "output_type": "stream",
     "text": [
      "[[0. 0. 0.]\n",
      " [0. 0. 0.]]\n"
     ]
    }
   ],
   "source": [
    "print(X)"
   ]
  },
  {
   "cell_type": "markdown",
   "metadata": {
    "collapsed": false,
    "jupyter": {
     "outputs_hidden": false
    }
   },
   "source": [
    "Finally, remember not to show the output of enormous tables of data. For example:\n",
    "\n",
    "**[P] Create a numpy array of 10000 rows and 100 columns of 32-bit integer zeros:**\n",
    "\n",
    "I could show the first couple of rows using `print`:"
   ]
  },
  {
   "cell_type": "code",
   "execution_count": 5,
   "metadata": {
    "collapsed": false,
    "jupyter": {
     "outputs_hidden": false
    }
   },
   "outputs": [
    {
     "name": "stdout",
     "output_type": "stream",
     "text": [
      "[[0 0 0 ... 0 0 0]\n",
      " [0 0 0 ... 0 0 0]\n",
      " [0 0 0 ... 0 0 0]\n",
      " ...\n",
      " [0 0 0 ... 0 0 0]\n",
      " [0 0 0 ... 0 0 0]\n",
      " [0 0 0 ... 0 0 0]]\n"
     ]
    }
   ],
   "source": [
    "X = np.zeros((10000,100), dtype=np.int32)\n",
    "print(X)"
   ]
  },
  {
   "cell_type": "markdown",
   "metadata": {
    "collapsed": false,
    "jupyter": {
     "outputs_hidden": false
    }
   },
   "source": [
    "Better, just show the shape and the first couple of lines or so of the data. For example:"
   ]
  },
  {
   "cell_type": "code",
   "execution_count": 6,
   "metadata": {
    "collapsed": false,
    "jupyter": {
     "outputs_hidden": false
    }
   },
   "outputs": [
    {
     "name": "stdout",
     "output_type": "stream",
     "text": [
      "(10000, 100)\n",
      "1000000\n"
     ]
    },
    {
     "data": {
      "text/plain": [
       "array([[0, 0, 0, 0, 0, 0, 0, 0, 0, 0, 0, 0, 0, 0, 0, 0, 0, 0, 0, 0, 0, 0,\n",
       "        0, 0, 0, 0, 0, 0, 0, 0, 0, 0, 0, 0, 0, 0, 0, 0, 0, 0, 0, 0, 0, 0,\n",
       "        0, 0, 0, 0, 0, 0, 0, 0, 0, 0, 0, 0, 0, 0, 0, 0, 0, 0, 0, 0, 0, 0,\n",
       "        0, 0, 0, 0, 0, 0, 0, 0, 0, 0, 0, 0, 0, 0, 0, 0, 0, 0, 0, 0, 0, 0,\n",
       "        0, 0, 0, 0, 0, 0, 0, 0, 0, 0, 0, 0],\n",
       "       [0, 0, 0, 0, 0, 0, 0, 0, 0, 0, 0, 0, 0, 0, 0, 0, 0, 0, 0, 0, 0, 0,\n",
       "        0, 0, 0, 0, 0, 0, 0, 0, 0, 0, 0, 0, 0, 0, 0, 0, 0, 0, 0, 0, 0, 0,\n",
       "        0, 0, 0, 0, 0, 0, 0, 0, 0, 0, 0, 0, 0, 0, 0, 0, 0, 0, 0, 0, 0, 0,\n",
       "        0, 0, 0, 0, 0, 0, 0, 0, 0, 0, 0, 0, 0, 0, 0, 0, 0, 0, 0, 0, 0, 0,\n",
       "        0, 0, 0, 0, 0, 0, 0, 0, 0, 0, 0, 0]])"
      ]
     },
     "execution_count": 6,
     "metadata": {},
     "output_type": "execute_result"
    }
   ],
   "source": [
    "print(X.shape)\n",
    "print(X.size)\n",
    "X[0:2,:]"
   ]
  },
  {
   "cell_type": "markdown",
   "metadata": {},
   "source": [
    "Additionally, you could put a useful function somewhere to return useful info about an array."
   ]
  },
  {
   "cell_type": "code",
   "execution_count": 7,
   "metadata": {},
   "outputs": [
    {
     "data": {
      "text/plain": [
       "'shape: (10000, 100), size: 1000000, dtype: int32, min: 0, max: 0'"
      ]
     },
     "execution_count": 7,
     "metadata": {},
     "output_type": "execute_result"
    }
   ],
   "source": [
    "def arr_info(arr):\n",
    "    assert(type(arr) == np.ndarray)\n",
    "    return f'shape: {arr.shape}, size: {arr.size}, dtype: {arr.dtype}, min: {arr.min()}, max: {arr.max()}'\n",
    "\n",
    "arr_info(X)"
   ]
  },
  {
   "cell_type": "markdown",
   "metadata": {
    "collapsed": false,
    "jupyter": {
     "outputs_hidden": false
    }
   },
   "source": [
    "---\n",
    "# Exercises"
   ]
  },
  {
   "cell_type": "markdown",
   "metadata": {
    "collapsed": false,
    "jupyter": {
     "outputs_hidden": false
    }
   },
   "source": [
    "### Some of you did not fill out your README.md. Please do that and push that file to your remote Git repo ASAP."
   ]
  },
  {
   "cell_type": "markdown",
   "metadata": {},
   "source": [
    "**1. [P]** Create a 100000 x 75 matrix of zeros, stored as `X`. Then print out the shape of the matrix, the base data type, the individual item size in the array, and the total size of the array in bytes (as an integer), Also print out the total size in megabytes with 3 places of significance.\n",
    "\n",
    "(Note: Megabyte is a loosely defined term these days. A megabyte used to mean $2^{20}$ bytes, before companies selling storage devices started skimming by using $10^6$ as the measure. Now that the marketers stole our word, $2^{20}$ bytes is a *mebibyte*. Use either measure, but be consistent.)"
   ]
  },
  {
   "cell_type": "code",
   "execution_count": 8,
   "metadata": {
    "collapsed": false,
    "jupyter": {
     "outputs_hidden": false
    }
   },
   "outputs": [
    {
     "name": "stdout",
     "output_type": "stream",
     "text": [
      "shape = (100000, 75)\n",
      "type = float64\n",
      "item size = 8\n",
      "size = 60000000\n",
      "size (in MB) = 2727272.727\n"
     ]
    }
   ],
   "source": [
    "# https://numpy.org/doc/stable/reference/arrays.ndarray.html\n",
    "\n",
    "X = np.zeros((100000,75))\n",
    "print(\"shape = \" + str(X.shape))\n",
    "print(\"type = \" + str(X.dtype))\n",
    "print(\"item size = \" + str(X.itemsize))\n",
    "print(\"size = \" + str(X.nbytes))\n",
    "print(\"size (in MB) = \" + \"{:.3f}\".format(X.nbytes/(2^20)))"
   ]
  },
  {
   "cell_type": "markdown",
   "metadata": {},
   "source": [
    "**2. [P]** Resize X to have the same number of elements, but with 100 columns. Show the shape.  Show the number of bytes (it should be the same as the previous answer)"
   ]
  },
  {
   "cell_type": "code",
   "execution_count": 9,
   "metadata": {
    "collapsed": false,
    "jupyter": {
     "outputs_hidden": false
    }
   },
   "outputs": [
    {
     "name": "stdout",
     "output_type": "stream",
     "text": [
      "shape = (75000, 100)\n",
      "size = 60000000\n"
     ]
    }
   ],
   "source": [
    "# https://numpy.org/doc/stable/reference/generated/numpy.resize.html#numpy-resize\n",
    "\n",
    "X = np.resize(X,(75000, 100))\n",
    "print(\"shape = \" + str(X.shape))\n",
    "print(\"size = \" + str(X.nbytes))"
   ]
  },
  {
   "cell_type": "markdown",
   "metadata": {},
   "source": [
    "**3. [P]** Redo #1, but use a base datatype of 16-bit integers.\n",
    "\n",
    "**You should have a reduction in memory by a factor of 4.** There are times when this type of change is simple, but highly effective in speeding up your algorithm. *Integer computations will always outperform floating point computations!* Use the simplest data type available that can accurately store your data.\n",
    "\n"
   ]
  },
  {
   "cell_type": "code",
   "execution_count": 10,
   "metadata": {
    "collapsed": false,
    "jupyter": {
     "outputs_hidden": false
    }
   },
   "outputs": [
    {
     "name": "stdout",
     "output_type": "stream",
     "text": [
      "shape = (100000, 75)\n",
      "type = int16\n",
      "item size = 2\n",
      "size = 15000000\n",
      "size (in MB) = 681818.182\n"
     ]
    }
   ],
   "source": [
    "X = np.zeros((100000,75), dtype = \"int16\")\n",
    "print(\"shape = \" + str(X.shape))\n",
    "print(\"type = \" + str(X.dtype))\n",
    "print(\"item size = \" + str(X.itemsize))\n",
    "print(\"size = \" + str(X.nbytes))\n",
    "print(\"size (in MB) = \" + \"{:.3f}\".format(X.nbytes/(2^20)))"
   ]
  },
  {
   "cell_type": "markdown",
   "metadata": {},
   "source": [
    "**4. [P]** How many dimensions does X have? Answer using the appropriate property of np.ndarray objects."
   ]
  },
  {
   "cell_type": "code",
   "execution_count": 11,
   "metadata": {
    "collapsed": false,
    "jupyter": {
     "outputs_hidden": false
    }
   },
   "outputs": [
    {
     "data": {
      "text/plain": [
       "2"
      ]
     },
     "execution_count": 11,
     "metadata": {},
     "output_type": "execute_result"
    }
   ],
   "source": [
    "X.ndim"
   ]
  },
  {
   "cell_type": "markdown",
   "metadata": {},
   "source": [
    "**5. [P]** Enter the following Python list in your cell:\n",
    "\n",
    "`str_nums = ['2.14', '-9.300', '42']`\n",
    "\n",
    "Convert this to a numpy array named `X`. What is the base type? Show the contents of X.\n",
    "\n",
    "Then, convert X to an array of single precision floating point numbers. (HINT: use `astype`). Show X again."
   ]
  },
  {
   "cell_type": "code",
   "execution_count": 12,
   "metadata": {
    "collapsed": false,
    "jupyter": {
     "outputs_hidden": false
    }
   },
   "outputs": [
    {
     "name": "stdout",
     "output_type": "stream",
     "text": [
      "<U6\n",
      "['2.14' '-9.300' '42']\n",
      "float32\n",
      "[ 2.14 -9.3  42.  ]\n"
     ]
    }
   ],
   "source": [
    "# https://numpy.org/doc/stable/reference/generated/numpy.ndarray.astype.html#numpy-ndarray-astype\n",
    "\n",
    "str_nums = ['2.14', '-9.300', '42']\n",
    "X = np.array(str_nums)\n",
    "print(X.dtype)\n",
    "print(X)\n",
    "X = X.astype(\"float32\")\n",
    "print(X.dtype)\n",
    "print(X)"
   ]
  },
  {
   "cell_type": "markdown",
   "metadata": {},
   "source": [
    "---\n",
    "Let's assume you have two weeks' worth of quiz scores. Quizzes are out of 10 points, and are given every day. Suppose you had a rather simplistic way of storing the data using Python lists:  \n",
    "\n",
    "```\n",
    "days = [\"Mon\",\"Tue\",\"Wed\",\"Thu\",\"Fri\"]  \n",
    "scores_1 = [9.5, 8.75, 8, 10, 7.75]  \n",
    "scores_2 = [9, 8, 9.5, 8.75, 7.25]  \n",
    "```\n",
    "\n",
    "The array `scores_1` represents quiz scores from week 1, and `scores_2` is week 2. The `days` array will be used for data selection purposes.\n",
    "\n",
    "**6. [P]** Copy the three definitions above for `days`, `scores_1`, and `scores_2`. Create a numpy array called `scores` that has `scores_1` as the first row and `scores_2` as the second row, using `np.concatenate`. Then, change `days` into a `np.array` from the list `days`. Show the contents of `scores` and `days`, and output their shape."
   ]
  },
  {
   "cell_type": "code",
   "execution_count": 13,
   "metadata": {
    "collapsed": false,
    "jupyter": {
     "outputs_hidden": false
    }
   },
   "outputs": [
    {
     "name": "stdout",
     "output_type": "stream",
     "text": [
      "[[ 9.5   8.75  8.   10.    7.75]\n",
      " [ 9.    8.    9.5   8.75  7.25]]\n",
      "(2, 5)\n",
      "['Mon' 'Tue' 'Wed' 'Thu' 'Fri']\n",
      "(5,)\n"
     ]
    }
   ],
   "source": [
    "# https://numpy.org/doc/stable/reference/generated/numpy.concatenate.html#numpy-concatenate\n",
    "\n",
    "days = [\"Mon\",\"Tue\",\"Wed\",\"Thu\",\"Fri\"]\n",
    "scores_1 = [9.5, 8.75, 8, 10, 7.75]\n",
    "scores_2 = [9, 8, 9.5, 8.75, 7.25]\n",
    "\n",
    "scores = np.concatenate(([scores_1], [scores_2]))\n",
    "days = np.array(days)\n",
    "print(scores)\n",
    "print(scores.shape)\n",
    "print(days)\n",
    "print(days.shape)"
   ]
  },
  {
   "cell_type": "markdown",
   "metadata": {},
   "source": [
    "**7. [P]** Repeat the previous problem with the creation of `scores` from `scores_1` and `scores_2`, but repeat it with `np.vstack`. The array should be identical.\n",
    "\n",
    "> REMINDER – As stressed in earlier courses, do not simply answer questions using functions or methods you know nothing about! If you have never used vstack before, then look it up! Understand it!\n",
    "\n"
   ]
  },
  {
   "cell_type": "code",
   "execution_count": 14,
   "metadata": {
    "collapsed": false,
    "jupyter": {
     "outputs_hidden": false
    }
   },
   "outputs": [
    {
     "data": {
      "text/plain": [
       "array([[ 9.5 ,  8.75,  8.  , 10.  ,  7.75],\n",
       "       [ 9.  ,  8.  ,  9.5 ,  8.75,  7.25]])"
      ]
     },
     "execution_count": 14,
     "metadata": {},
     "output_type": "execute_result"
    }
   ],
   "source": [
    "# https://numpy.org/doc/stable/reference/generated/numpy.vstack.html#numpy-vstack\n",
    "\n",
    "scores = np.vstack(([scores_1],[scores_2]))\n",
    "scores"
   ]
  },
  {
   "cell_type": "markdown",
   "metadata": {},
   "source": [
    "For the next several questions, you are going to exercise some advanced data selection techniques using the days array to assist with looking up data. For example, if you are asked to reveal the scores from only Friday, then you must write the numpy selection expression to do this. For example, the following shows the scores only from Friday:\n",
    "\n",
    "`scores[:, days == \"Fri\"]`\n",
    "\n",
    "**8. [P/M]** Compare the result of the expression `days == \"Fri\"` if the variable `days` was a Python list as entered above, vs. `days` being a numpy array. What is the difference in the result? In general, how does numpy deal with standard comparison operators?**\n",
    "      \n",
    " **Be sure `days` is your numpy array before going to the next problem.**\n",
    "\n"
   ]
  },
  {
   "cell_type": "code",
   "execution_count": 15,
   "metadata": {
    "collapsed": false,
    "jupyter": {
     "outputs_hidden": false
    }
   },
   "outputs": [
    {
     "name": "stdout",
     "output_type": "stream",
     "text": [
      "[[7.75]\n",
      " [7.25]]\n",
      "[]\n"
     ]
    }
   ],
   "source": [
    "print(scores[:, days == \"Fri\"])\n",
    "days = [\"Mon\",\"Tue\",\"Wed\",\"Thu\",\"Fri\"]\n",
    "print(scores[:, days == \"Fri\"])"
   ]
  },
  {
   "cell_type": "markdown",
   "metadata": {},
   "source": [
    "The difference is when days is a regular Python list it doesn't work properly but when days is an ndarray it will check the index at which the element is \"Fri\"."
   ]
  },
  {
   "cell_type": "markdown",
   "metadata": {
    "collapsed": false,
    "jupyter": {
     "outputs_hidden": false
    }
   },
   "source": [
    "**9. [P]** The scores array represents quizzes that are out of 10 pts. Show the scores array scaled to be out of 100 pts.\n",
    "\n",
    "HINT: Your first row should be 95.0, 87.5, 80.0, 100.0, 77.5"
   ]
  },
  {
   "cell_type": "code",
   "execution_count": 16,
   "metadata": {
    "collapsed": false,
    "jupyter": {
     "outputs_hidden": false
    }
   },
   "outputs": [
    {
     "data": {
      "text/plain": [
       "array([[ 95. ,  87.5,  80. , 100. ,  77.5],\n",
       "       [ 90. ,  80. ,  95. ,  87.5,  72.5]])"
      ]
     },
     "execution_count": 16,
     "metadata": {},
     "output_type": "execute_result"
    }
   ],
   "source": [
    "scores = scores*10\n",
    "scores"
   ]
  },
  {
   "cell_type": "markdown",
   "metadata": {},
   "source": [
    "**10. [P]** Select the scores that fell on Tuesday"
   ]
  },
  {
   "cell_type": "code",
   "execution_count": 17,
   "metadata": {
    "collapsed": false,
    "jupyter": {
     "outputs_hidden": false
    }
   },
   "outputs": [
    {
     "data": {
      "text/plain": [
       "array([[8.75],\n",
       "       [8.  ]])"
      ]
     },
     "execution_count": 17,
     "metadata": {},
     "output_type": "execute_result"
    }
   ],
   "source": [
    "scores = scores/10\n",
    "days = np.array(days)\n",
    "tue = scores[:, days == \"Tue\"]\n",
    "tue"
   ]
  },
  {
   "cell_type": "markdown",
   "metadata": {},
   "source": [
    "**11. [P]** Select all of the scores that are NOT on Tuesday (Hint – look up the ~ operator)"
   ]
  },
  {
   "cell_type": "code",
   "execution_count": 18,
   "metadata": {
    "collapsed": false,
    "jupyter": {
     "outputs_hidden": false
    }
   },
   "outputs": [
    {
     "data": {
      "text/plain": [
       "array([[ 9.5 ,  8.  , 10.  ,  7.75],\n",
       "       [ 9.  ,  9.5 ,  8.75,  7.25]])"
      ]
     },
     "execution_count": 18,
     "metadata": {},
     "output_type": "execute_result"
    }
   ],
   "source": [
    "not_tue = scores[:, days != \"Tue\"]\n",
    "not_tue"
   ]
  },
  {
   "cell_type": "markdown",
   "metadata": {},
   "source": [
    "**12. [P]** Select the scores that were on Tuesday or Thursday"
   ]
  },
  {
   "cell_type": "code",
   "execution_count": 19,
   "metadata": {
    "collapsed": false,
    "jupyter": {
     "outputs_hidden": false
    }
   },
   "outputs": [
    {
     "data": {
      "text/plain": [
       "array([[ 8.75, 10.  ],\n",
       "       [ 8.  ,  8.75]])"
      ]
     },
     "execution_count": 19,
     "metadata": {},
     "output_type": "execute_result"
    }
   ],
   "source": [
    "tue_thu = scores[:, (days == \"Tue\") | (days == \"Thu\")]\n",
    "tue_thu"
   ]
  },
  {
   "cell_type": "markdown",
   "metadata": {},
   "source": [
    "**13. [P]** Show the minimum and maximum scores for the entire array of scores\n",
    "\n",
    "A correct result should look like:\n",
    "```\n",
    "min =  7.25\n",
    "max =  10.0\n",
    "```"
   ]
  },
  {
   "cell_type": "code",
   "execution_count": 20,
   "metadata": {
    "collapsed": false,
    "jupyter": {
     "outputs_hidden": false
    }
   },
   "outputs": [
    {
     "name": "stdout",
     "output_type": "stream",
     "text": [
      "min = 7.25\n",
      "max = 10.0\n"
     ]
    }
   ],
   "source": [
    "print(\"min = \" + str(np.min(scores)))\n",
    "print(\"max = \" + str(np.max(scores)))"
   ]
  },
  {
   "cell_type": "markdown",
   "metadata": {},
   "source": [
    "**14. [P] Show the maximum scores for each week as a new array. The result should have the same dimensions (hint – use the `keepdims` parameter of `np.max`). Your result should be something like:**\n",
    "\n",
    "|   | 0    |\n",
    "|---|------|\n",
    "| 0 | 10.0 |\n",
    "| 1 | 9.5  |"
   ]
  },
  {
   "cell_type": "code",
   "execution_count": 24,
   "metadata": {
    "collapsed": false,
    "jupyter": {
     "outputs_hidden": false
    }
   },
   "outputs": [
    {
     "data": {
      "text/plain": [
       "array([[10. ],\n",
       "       [ 9.5]])"
      ]
     },
     "execution_count": 24,
     "metadata": {},
     "output_type": "execute_result"
    }
   ],
   "source": [
    "# https://numpy.org/doc/stable/reference/generated/numpy.max.html\n",
    "\n",
    "new_arr = np.max(scores, axis=1, keepdims=True)\n",
    "new_arr"
   ]
  },
  {
   "cell_type": "markdown",
   "metadata": {},
   "source": [
    "**15. [P]** Report the day that the maximum score occurred each week. (HINT: use `argmax` and use that result to index `days`.)"
   ]
  },
  {
   "cell_type": "code",
   "execution_count": 28,
   "metadata": {
    "collapsed": false,
    "jupyter": {
     "outputs_hidden": false
    }
   },
   "outputs": [
    {
     "name": "stdout",
     "output_type": "stream",
     "text": [
      "Week 1 max occurs on Thu\n",
      "Week 2 max occurs on Wed\n"
     ]
    }
   ],
   "source": [
    "# https://numpy.org/doc/stable/reference/generated/numpy.argmax.html#numpy-argmax\n",
    "\n",
    "max_wk1 = np.argmax(scores[0])\n",
    "print(\"Week 1 max occurs on \" + days[max_wk1])\n",
    "\n",
    "max_wk2 = np.argmax(scores[1])\n",
    "print(\"Week 2 max occurs on \" + days[max_wk2])"
   ]
  },
  {
   "cell_type": "markdown",
   "metadata": {},
   "source": [
    "**16. [P]** Report the mean of the scores of each week"
   ]
  },
  {
   "cell_type": "code",
   "execution_count": 29,
   "metadata": {
    "collapsed": false,
    "jupyter": {
     "outputs_hidden": false
    }
   },
   "outputs": [
    {
     "name": "stdout",
     "output_type": "stream",
     "text": [
      "The mean of week 1 is : 8.8\n",
      "The mean of week 2 is : 8.5\n"
     ]
    }
   ],
   "source": [
    "# https://numpy.org/doc/stable/reference/generated/numpy.mean.html#numpy.mean\n",
    "\n",
    "mean_wk1 = np.mean(scores[0])\n",
    "print(\"The mean of week 1 is : \" + str(mean_wk1))\n",
    "\n",
    "mean_wk2 = np.mean(scores[1])\n",
    "print(\"The mean of week 2 is : \" + str(mean_wk2))"
   ]
  },
  {
   "cell_type": "markdown",
   "metadata": {},
   "source": [
    "**17. [P]** Suppose the lowest score was dropped from each week. Report the mean of each week, but without the minimum score for that week."
   ]
  },
  {
   "cell_type": "code",
   "execution_count": 40,
   "metadata": {
    "collapsed": false,
    "jupyter": {
     "outputs_hidden": false
    }
   },
   "outputs": [
    {
     "name": "stdout",
     "output_type": "stream",
     "text": [
      "The scores without each weeks minimum are : [[ 9.5   8.75  8.   10.  ]\n",
      " [ 9.    8.    9.5   8.75]]\n"
     ]
    }
   ],
   "source": [
    "# https://numpy.org/doc/stable/reference/generated/numpy.delete.html#numpy-delete\n",
    "\n",
    "alt_scores = np.delete(scores, np.argmin(scores, axis=1), axis=1)\n",
    "print(\"The scores without each weeks minimum are : \" + str(alt_scores))"
   ]
  },
  {
   "cell_type": "markdown",
   "metadata": {
    "collapsed": false,
    "jupyter": {
     "outputs_hidden": false
    }
   },
   "source": [
    "**18. [P]** Show the number of scores that were > 9 each week as an array."
   ]
  },
  {
   "cell_type": "code",
   "execution_count": 62,
   "metadata": {
    "collapsed": false,
    "jupyter": {
     "outputs_hidden": false
    }
   },
   "outputs": [
    {
     "name": "stdout",
     "output_type": "stream",
     "text": [
      "[[ 9.5   8.75  8.   10.    7.75]\n",
      " [ 9.    8.    9.5   8.75  7.25]]\n",
      "[[2]\n",
      " [1]]\n"
     ]
    }
   ],
   "source": [
    "scores = np.concatenate(([[9.5, 8.75, 8, 10, 7.75]],[[9, 8, 9.5, 8.75, 7.25]]))\n",
    "count1 = np.sum(scores[0] > 9, axis=0)\n",
    "count2 = np.sum(scores[1] > 9, axis=0)\n",
    "greater_than_nine = np.vstack((count1, count2))\n",
    "print(greater_than_nine)"
   ]
  },
  {
   "cell_type": "markdown",
   "metadata": {
    "collapsed": false,
    "jupyter": {
     "outputs_hidden": false
    }
   },
   "source": [
    "---\n",
    "For the next exercise, we will set up a new 'X' array of random inteegers between 1 and 100, with 10 rows and 5 columns. We will also set the random seed to 1234 to ensure everyone gets the same results."
   ]
  },
  {
   "cell_type": "code",
   "execution_count": 87,
   "metadata": {
    "collapsed": false,
    "jupyter": {
     "outputs_hidden": false
    }
   },
   "outputs": [],
   "source": [
    "# https://numpy.org/doc/stable/reference/random/generated/numpy.random.randint.html#numpy-random-randint\n",
    "\n",
    "np.random.seed(1234)\n",
    "X = np.random.randint(1, 101, size=(10,5))"
   ]
  },
  {
   "cell_type": "markdown",
   "metadata": {
    "collapsed": false,
    "jupyter": {
     "outputs_hidden": false
    }
   },
   "source": [
    "You may use standard selection techniques with integers and slicing for the following exercises. Be sure to show your results of each. (Most of these are one-line statements, and thus you won't need a `print` or `display` call.) For each of these, you should only show the result of the selection. Do NOT reassign `X`."
   ]
  },
  {
   "cell_type": "markdown",
   "metadata": {},
   "source": [
    "**19. [P]** Select the first row of X"
   ]
  },
  {
   "cell_type": "code",
   "execution_count": 88,
   "metadata": {
    "collapsed": false,
    "jupyter": {
     "outputs_hidden": false
    }
   },
   "outputs": [
    {
     "data": {
      "text/plain": [
       "array([48, 84, 39, 54, 77])"
      ]
     },
     "execution_count": 88,
     "metadata": {},
     "output_type": "execute_result"
    }
   ],
   "source": [
    "X[0]"
   ]
  },
  {
   "cell_type": "markdown",
   "metadata": {},
   "source": [
    "**20. [P]** Select the last column of X"
   ]
  },
  {
   "cell_type": "code",
   "execution_count": 89,
   "metadata": {
    "collapsed": false,
    "jupyter": {
     "outputs_hidden": false
    }
   },
   "outputs": [
    {
     "name": "stdout",
     "output_type": "stream",
     "text": [
      "[[77]\n",
      " [27]\n",
      " [59]\n",
      " [48]\n",
      " [39]\n",
      " [81]\n",
      " [66]\n",
      " [61]\n",
      " [14]\n",
      " [32]]\n"
     ]
    }
   ],
   "source": [
    "print(X[:,[-1]])"
   ]
  },
  {
   "cell_type": "markdown",
   "metadata": {},
   "source": [
    "**21. [P]** Select the first AND last column of X"
   ]
  },
  {
   "cell_type": "code",
   "execution_count": 90,
   "metadata": {
    "collapsed": false,
    "jupyter": {
     "outputs_hidden": false
    }
   },
   "outputs": [
    {
     "data": {
      "text/plain": [
       "array([[48, 77],\n",
       "       [25, 27],\n",
       "       [31, 59],\n",
       "       [93, 48],\n",
       "       [51, 39],\n",
       "       [68, 81],\n",
       "       [ 4, 66],\n",
       "       [76, 61],\n",
       "       [47, 14],\n",
       "       [97, 32]])"
      ]
     },
     "execution_count": 90,
     "metadata": {},
     "output_type": "execute_result"
    }
   ],
   "source": [
    "X[:, [0,-1]]"
   ]
  },
  {
   "cell_type": "markdown",
   "metadata": {},
   "source": [
    "**22. [P]** Select every other row of X"
   ]
  },
  {
   "cell_type": "code",
   "execution_count": 91,
   "metadata": {
    "collapsed": false,
    "jupyter": {
     "outputs_hidden": false
    }
   },
   "outputs": [
    {
     "data": {
      "text/plain": [
       "array([[48, 84, 39, 54, 77],\n",
       "       [31, 44, 31, 27, 59],\n",
       "       [51, 77, 38, 35, 39],\n",
       "       [ 4,  3, 20, 13, 66],\n",
       "       [47, 29, 82, 88, 14]])"
      ]
     },
     "execution_count": 91,
     "metadata": {},
     "output_type": "execute_result"
    }
   ],
   "source": [
    "# https://numpy.org/doc/stable/user/basics.indexing.html\n",
    "\n",
    "X[::2]"
   ]
  },
  {
   "cell_type": "markdown",
   "metadata": {},
   "source": [
    "**23. [P]** Show the transpose of X, but don't change X itself"
   ]
  },
  {
   "cell_type": "code",
   "execution_count": 92,
   "metadata": {
    "collapsed": false,
    "jupyter": {
     "outputs_hidden": false
    }
   },
   "outputs": [
    {
     "data": {
      "text/plain": [
       "array([[48, 25, 31, 93, 51, 68,  4, 76, 47, 97],\n",
       "       [84, 16, 44, 70, 77, 12,  3, 82, 29, 13],\n",
       "       [39, 50, 31, 81, 38,  1, 20, 15, 82, 70],\n",
       "       [54, 24, 27, 74, 35, 76, 13, 72, 88, 96],\n",
       "       [77, 27, 59, 48, 39, 81, 66, 61, 14, 32]])"
      ]
     },
     "execution_count": 92,
     "metadata": {},
     "output_type": "execute_result"
    }
   ],
   "source": [
    "np.transpose(X)"
   ]
  },
  {
   "cell_type": "markdown",
   "metadata": {},
   "source": [
    "**24. [P]** Select the first column of X and set the result to Y."
   ]
  },
  {
   "cell_type": "code",
   "execution_count": 93,
   "metadata": {
    "collapsed": false,
    "jupyter": {
     "outputs_hidden": false
    }
   },
   "outputs": [
    {
     "data": {
      "text/plain": [
       "array([[48],\n",
       "       [25],\n",
       "       [31],\n",
       "       [93],\n",
       "       [51],\n",
       "       [68],\n",
       "       [ 4],\n",
       "       [76],\n",
       "       [47],\n",
       "       [97]])"
      ]
     },
     "execution_count": 93,
     "metadata": {},
     "output_type": "execute_result"
    }
   ],
   "source": [
    "Y = X[:, [0]]\n",
    "Y"
   ]
  },
  {
   "cell_type": "markdown",
   "metadata": {},
   "source": [
    "**25. [P]** Increment the first value of Y, then show the corresponding value of X. Did both values in X and Y change?"
   ]
  },
  {
   "cell_type": "code",
   "execution_count": 94,
   "metadata": {
    "collapsed": false,
    "jupyter": {
     "outputs_hidden": false
    }
   },
   "outputs": [
    {
     "data": {
      "text/plain": [
       "array([[48, 84, 39, 54, 77],\n",
       "       [25, 16, 50, 24, 27],\n",
       "       [31, 44, 31, 27, 59],\n",
       "       [93, 70, 81, 74, 48],\n",
       "       [51, 77, 38, 35, 39],\n",
       "       [68, 12,  1, 76, 81],\n",
       "       [ 4,  3, 20, 13, 66],\n",
       "       [76, 82, 15, 72, 61],\n",
       "       [47, 29, 82, 88, 14],\n",
       "       [97, 13, 70, 96, 32]])"
      ]
     },
     "execution_count": 94,
     "metadata": {},
     "output_type": "execute_result"
    }
   ],
   "source": [
    "Y[0,0] += 1\n",
    "X\n",
    "# X value did not change"
   ]
  },
  {
   "cell_type": "markdown",
   "metadata": {},
   "source": [
    "**26. [P]** Repeat exercise 23, but ensure that Y is assigned a copy of the selected data. Increment the first value of Y again and ensure that the corresponding value of X did not change."
   ]
  },
  {
   "cell_type": "code",
   "execution_count": 95,
   "metadata": {
    "collapsed": false,
    "jupyter": {
     "outputs_hidden": false
    }
   },
   "outputs": [
    {
     "data": {
      "text/plain": [
       "array([[48, 84, 39, 54, 77],\n",
       "       [25, 16, 50, 24, 27],\n",
       "       [31, 44, 31, 27, 59],\n",
       "       [93, 70, 81, 74, 48],\n",
       "       [51, 77, 38, 35, 39],\n",
       "       [68, 12,  1, 76, 81],\n",
       "       [ 4,  3, 20, 13, 66],\n",
       "       [76, 82, 15, 72, 61],\n",
       "       [47, 29, 82, 88, 14],\n",
       "       [97, 13, 70, 96, 32]])"
      ]
     },
     "execution_count": 95,
     "metadata": {},
     "output_type": "execute_result"
    }
   ],
   "source": [
    "# https://numpy.org/doc/stable/reference/generated/numpy.copy.html#numpy-copy\n",
    "\n",
    "Y = np.copy(np.transpose(X))\n",
    "Y[0,0] += 1\n",
    "X\n",
    "#X value did not change"
   ]
  },
  {
   "cell_type": "markdown",
   "metadata": {},
   "source": [
    "**27. [P]** Create an array that contains the sequence of numbers 0, 0.1, 0.2, … 9.8, 9.9 using arange, as a 10x10 matrix, stored as X."
   ]
  },
  {
   "cell_type": "code",
   "execution_count": 99,
   "metadata": {
    "collapsed": false,
    "jupyter": {
     "outputs_hidden": false
    }
   },
   "outputs": [
    {
     "data": {
      "text/plain": [
       "array([[0. , 0.1, 0.2, 0.3, 0.4, 0.5, 0.6, 0.7, 0.8, 0.9],\n",
       "       [1. , 1.1, 1.2, 1.3, 1.4, 1.5, 1.6, 1.7, 1.8, 1.9],\n",
       "       [2. , 2.1, 2.2, 2.3, 2.4, 2.5, 2.6, 2.7, 2.8, 2.9],\n",
       "       [3. , 3.1, 3.2, 3.3, 3.4, 3.5, 3.6, 3.7, 3.8, 3.9],\n",
       "       [4. , 4.1, 4.2, 4.3, 4.4, 4.5, 4.6, 4.7, 4.8, 4.9],\n",
       "       [5. , 5.1, 5.2, 5.3, 5.4, 5.5, 5.6, 5.7, 5.8, 5.9],\n",
       "       [6. , 6.1, 6.2, 6.3, 6.4, 6.5, 6.6, 6.7, 6.8, 6.9],\n",
       "       [7. , 7.1, 7.2, 7.3, 7.4, 7.5, 7.6, 7.7, 7.8, 7.9],\n",
       "       [8. , 8.1, 8.2, 8.3, 8.4, 8.5, 8.6, 8.7, 8.8, 8.9],\n",
       "       [9. , 9.1, 9.2, 9.3, 9.4, 9.5, 9.6, 9.7, 9.8, 9.9]])"
      ]
     },
     "execution_count": 99,
     "metadata": {},
     "output_type": "execute_result"
    }
   ],
   "source": [
    "# https://numpy.org/doc/stable/reference/generated/numpy.arange.html#numpy-arange\n",
    "\n",
    "X = np.arange(0, 10, 0.1).reshape(10,10)\n",
    "X"
   ]
  },
  {
   "cell_type": "markdown",
   "metadata": {},
   "source": [
    "**28. [P]** Set the RNG seed to 1234. Then create an array X of 100 uniformly distributed numbers, with all values between 1.0 and 10.0. Then, show the mean, the median, the minimum and maximum values of X."
   ]
  },
  {
   "cell_type": "code",
   "execution_count": 103,
   "metadata": {
    "collapsed": false,
    "jupyter": {
     "outputs_hidden": false
    }
   },
   "outputs": [
    {
     "name": "stdout",
     "output_type": "stream",
     "text": [
      "The mean of X is : 5.665266170909222\n",
      "The median of X is : 5.827284349552116\n",
      "The max of X is : 9.928733195695253\n",
      "The min of X is : 1.0558766492841647\n"
     ]
    }
   ],
   "source": [
    "np.random.seed(1234)\n",
    "X = np.random.uniform(1,10, size=(1,100))\n",
    "print(\"The mean of X is : \" + str(np.mean(X)))\n",
    "print(\"The median of X is : \" + str(np.median(X)))\n",
    "print(\"The max of X is : \" + str(np.max(X)))\n",
    "print(\"The min of X is : \" + str(np.min(X)))"
   ]
  },
  {
   "cell_type": "markdown",
   "metadata": {},
   "source": [
    "**29. [M]** Define what is meant by a normal distribution. What are the parameters of a normal distribution?"
   ]
  },
  {
   "cell_type": "markdown",
   "metadata": {},
   "source": [
    "**ANSWER**: A normal distribution is a probibility distribution that depicts the probability of certain possibilities, it is really dependent on the parameters, but it depicts a bell-shape that implies that the probability of possibilities close to the average are more likely to happen than possibilities that are very far away in a positive or negative direction. The parameters for a normal distribution are the mean and variance of the data set.\n",
    "\n",
    "https://www.techtarget.com/whatis/definition/normal-distribution"
   ]
  },
  {
   "cell_type": "markdown",
   "metadata": {},
   "source": [
    "**30. [M]** In simple terms, using a normal distribution, what does the Law of Large Numbers tell us?"
   ]
  },
  {
   "cell_type": "markdown",
   "metadata": {},
   "source": [
    "**ANSWER:** From my understanding, the Law of Large Numbers tells us that with larger and larger samples, our sample values will converge to that of the population, and the normal distribution graph will converge to a centered bell-curve."
   ]
  },
  {
   "cell_type": "markdown",
   "metadata": {
    "collapsed": false,
    "jupyter": {
     "outputs_hidden": false
    }
   },
   "source": [
    "**31. [P]** Write a function called `test_normal_dist`. The purpose of this function is to evaluate the law of large numbers. It should have four parameters:** \n",
    "\n",
    "* `mu` = mean of distribution  \n",
    "* `sd` = standard deviation  \n",
    "* `vec_length` = length of the vector to generate randomly from a normal distribution, with mu and sd as parameters\n",
    "* `num_trials` = number of times to repeat the experiment  \n",
    "\n",
    "The function should behave as follows. First, initialize the seed value to 1000 before your loop. Then, loop for num_trials, generating vec_length numbers from a normal distribution. Compute the mean and the deviation of the vetor, where deviation is the absolute value of (observed mean - expected mean). This should be repeated for all trials. Return the *average* of this deviation over all trials.\n"
   ]
  },
  {
   "cell_type": "code",
   "execution_count": 104,
   "metadata": {
    "collapsed": false,
    "jupyter": {
     "outputs_hidden": false
    }
   },
   "outputs": [],
   "source": [
    "# https://numpy.org/doc/stable/reference/random/generated/numpy.random.normal.html#numpy-random-normal\n",
    "\n",
    "def test_normal_dist(mu, sd, vec_length, num_trials):\n",
    "    \"\"\"\n",
    "    Test out a normal distribution, and return the average deviation\n",
    "\n",
    "    Parameters:\n",
    "    mu = mean\n",
    "    sd = standard deviation\n",
    "    vec_length = size of each individual vector to generate\n",
    "    num_trials = number of vectors to generate\n",
    "    \"\"\"\n",
    "    \n",
    "    # Set seed to 1000 and initialize total deviation\n",
    "    np.random.seed(1000)\n",
    "    tot_deviation = 0\n",
    "\n",
    "    # Randomly generate vec_length numbers num_trials times, \n",
    "    # calculate mean of current trial, then finally\n",
    "    # take deviation each time and add to total deviation\n",
    "    for trial in range(num_trials):\n",
    "        vec = np.random.normal(mu, sd, vec_length)\n",
    "        curr_mean = np.mean(vec)\n",
    "        curr_deviation = np.abs(mu - curr_mean)\n",
    "\n",
    "        tot_deviation += curr_deviation\n",
    "\n",
    "    # total deviation divided by the number of trials will give you\n",
    "    # the average trial mean deviation from the actual mean\n",
    "    return tot_deviation / num_trials"
   ]
  },
  {
   "cell_type": "markdown",
   "metadata": {},
   "source": [
    "**32. [P]** Use `test_normal_dist` to obtain the deviation for vector lengths of 10, 100, 1000, 10000, and 100000. Use a fixed number of trials of 100 for each experiment. Report the results as a numpy array with two dimensions. the first being the vector length, and the second being the average deviation resulting from your test_normal_dist function.**\n",
    "  \n",
    "Example: Using a mu = 10 and sd = 2, your resulting array should look something like:\n",
    "\n",
    "|        |        |\n",
    "|--------|--------|\n",
    "| 10     | 0.4474 |\n",
    "| 100    | 0.1638 |\n",
    "| 1000   | 0.0427 |\n",
    "| 10000  | 0.015  |\n",
    "| 100000 | 0.0047 |\n",
    "\n"
   ]
  },
  {
   "cell_type": "code",
   "execution_count": 135,
   "metadata": {
    "collapsed": false,
    "jupyter": {
     "outputs_hidden": false
    }
   },
   "outputs": [
    {
     "name": "stdout",
     "output_type": "stream",
     "text": [
      "[[1.00000000e+01 4.47356805e-01]\n",
      " [1.00000000e+02 1.63805884e-01]\n",
      " [1.00000000e+03 4.26737793e-02]\n",
      " [1.00000000e+04 1.50443904e-02]\n",
      " [1.00000000e+05 4.72044942e-03]]\n"
     ]
    }
   ],
   "source": [
    "mu = 10\n",
    "sd = 2\n",
    "\n",
    "# For values [10, 1000, ..., 100000,], use that value as vec_length\n",
    "# and do 100 trials within test_normal_dist for each vec_length\n",
    "for i in range(1,6):\n",
    "    if i == 1:\n",
    "        results = np.array([10**i, test_normal_dist(mu, sd, 10**i, 100)])\n",
    "    else:\n",
    "        results = np.vstack((results, np.array([10**i, test_normal_dist(mu, sd, 10**i, 100)])))\n",
    "\n",
    "print(results)"
   ]
  }
 ],
 "metadata": {
  "kernelspec": {
   "display_name": "Python 3 (ipykernel)",
   "language": "python",
   "name": "python3"
  },
  "language_info": {
   "codemirror_mode": {
    "name": "ipython",
    "version": 3
   },
   "file_extension": ".py",
   "mimetype": "text/x-python",
   "name": "python",
   "nbconvert_exporter": "python",
   "pygments_lexer": "ipython3",
   "version": "3.11.5"
  }
 },
 "nbformat": 4,
 "nbformat_minor": 4
}

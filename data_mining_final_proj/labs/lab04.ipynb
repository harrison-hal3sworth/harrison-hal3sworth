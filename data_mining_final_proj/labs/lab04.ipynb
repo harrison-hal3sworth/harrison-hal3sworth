{
 "cells": [
  {
   "cell_type": "markdown",
   "metadata": {},
   "source": [
    "# Lab 04 - pandas II\n",
    "\n",
    "Name: Harrison Halesworth\n",
    "Class: CSCI 349 - Intro to Data Mining  \n",
    "Section: 01 - 11am\n",
    "Semester: Spring 2024\n",
    "Instructors: Brian King, Joshua Stough\n"
   ]
  },
  {
   "cell_type": "markdown",
   "metadata": {
    "collapsed": false,
    "jupyter": {
     "outputs_hidden": false
    }
   },
   "source": [
    "**Submission:**  lab04.ipynb  \n",
    "**Points**: 10  \n",
    "**Due**: Friday, February 2  \n",
    "**Pair Programming:** OPTIONAL (welcome and encouraged!)  \n",
    "\n",
    "# Objectives\n",
    "-   Continuing from where lab03 left off, it's all about more experience with pandas\n",
    "\n",
    "# Reminder – Pair Programming\n",
    "If you are working with a partner, please make sure only one of you uploads the PDF to Gradescope and clearly choose both members in Gradescope so you both get credit. And, if you are working with a partner, please make sure you are following the pair programming guidelines, and be sure to put the names of both partners at the top of your submitted notebook!\n",
    "\n",
    "# Introduction\n",
    "As mentioned in the previous lab, a large portion of this lab is taken from snippets scattered throughout the enormous documentation and tutorials from the [pandas website](http://pandas.pydata.org/pandas-docs/stable/index.html).\n",
    "\n",
    "Just a friendly reminder to not neglect the O'Reilly books referenced on Moodle. One book in particular, **Python for Data Analysis**, is written by the developer of pandas, Wes McKinney. This is one of our favorite reference books for using Python for Data Science.\n",
    "\n",
    "We'll get you started with critical imports required for the lab:"
   ]
  },
  {
   "cell_type": "code",
   "execution_count": 1,
   "metadata": {
    "collapsed": false,
    "jupyter": {
     "outputs_hidden": false
    }
   },
   "outputs": [],
   "source": [
    "import sys\n",
    "import numpy as np\n",
    "import pandas as pd"
   ]
  },
  {
   "cell_type": "code",
   "execution_count": 2,
   "metadata": {},
   "outputs": [
    {
     "name": "stdout",
     "output_type": "stream",
     "text": [
      "1.26.3\n",
      "2.1.4\n"
     ]
    }
   ],
   "source": [
    "print(np.__version__)\n",
    "print(pd.__version__)"
   ]
  },
  {
   "cell_type": "markdown",
   "metadata": {
    "collapsed": false,
    "jupyter": {
     "outputs_hidden": false
    }
   },
   "source": [
    "---\n",
    "# Exercises\n",
    "\n",
    "Let's create a bigger version of the quiz scores dataset with the following features:\n",
    "\n",
    "-   We have two students, Bob and Jane  \n",
    "-   We have four weeks of data. Notice we can have duplicate names in our index. (However, columns must be unique! You can't have duplicate variable names!)  \n",
    "-   There are missing quizzes, indicated with a zero in those locations.  \n"
   ]
  },
  {
   "cell_type": "code",
   "execution_count": 3,
   "metadata": {
    "collapsed": false,
    "jupyter": {
     "outputs_hidden": false
    }
   },
   "outputs": [
    {
     "data": {
      "text/html": [
       "<div>\n",
       "<style scoped>\n",
       "    .dataframe tbody tr th:only-of-type {\n",
       "        vertical-align: middle;\n",
       "    }\n",
       "\n",
       "    .dataframe tbody tr th {\n",
       "        vertical-align: top;\n",
       "    }\n",
       "\n",
       "    .dataframe thead th {\n",
       "        text-align: right;\n",
       "    }\n",
       "</style>\n",
       "<table border=\"1\" class=\"dataframe\">\n",
       "  <thead>\n",
       "    <tr style=\"text-align: right;\">\n",
       "      <th></th>\n",
       "      <th>Mon</th>\n",
       "      <th>Tues</th>\n",
       "      <th>Wed</th>\n",
       "      <th>Thu</th>\n",
       "      <th>Fri</th>\n",
       "      <th>Student</th>\n",
       "    </tr>\n",
       "  </thead>\n",
       "  <tbody>\n",
       "    <tr>\n",
       "      <th>week_1</th>\n",
       "      <td>8.75</td>\n",
       "      <td>9.50</td>\n",
       "      <td>8.00</td>\n",
       "      <td>10.00</td>\n",
       "      <td>7.75</td>\n",
       "      <td>Bob</td>\n",
       "    </tr>\n",
       "    <tr>\n",
       "      <th>week_1</th>\n",
       "      <td>8.00</td>\n",
       "      <td>9.00</td>\n",
       "      <td>10.00</td>\n",
       "      <td>8.75</td>\n",
       "      <td>7.25</td>\n",
       "      <td>Jane</td>\n",
       "    </tr>\n",
       "    <tr>\n",
       "      <th>week_2</th>\n",
       "      <td>0.00</td>\n",
       "      <td>8.00</td>\n",
       "      <td>9.75</td>\n",
       "      <td>9.00</td>\n",
       "      <td>6.00</td>\n",
       "      <td>Bob</td>\n",
       "    </tr>\n",
       "    <tr>\n",
       "      <th>week_2</th>\n",
       "      <td>8.25</td>\n",
       "      <td>7.00</td>\n",
       "      <td>0.00</td>\n",
       "      <td>9.25</td>\n",
       "      <td>8.00</td>\n",
       "      <td>Jane</td>\n",
       "    </tr>\n",
       "    <tr>\n",
       "      <th>week_3</th>\n",
       "      <td>8.50</td>\n",
       "      <td>7.00</td>\n",
       "      <td>9.25</td>\n",
       "      <td>0.00</td>\n",
       "      <td>0.00</td>\n",
       "      <td>Bob</td>\n",
       "    </tr>\n",
       "    <tr>\n",
       "      <th>week_3</th>\n",
       "      <td>8.25</td>\n",
       "      <td>8.25</td>\n",
       "      <td>0.00</td>\n",
       "      <td>8.00</td>\n",
       "      <td>7.50</td>\n",
       "      <td>Jane</td>\n",
       "    </tr>\n",
       "    <tr>\n",
       "      <th>week_4</th>\n",
       "      <td>6.50</td>\n",
       "      <td>8.75</td>\n",
       "      <td>8.50</td>\n",
       "      <td>8.00</td>\n",
       "      <td>6.00</td>\n",
       "      <td>Bob</td>\n",
       "    </tr>\n",
       "    <tr>\n",
       "      <th>week_4</th>\n",
       "      <td>10.00</td>\n",
       "      <td>9.25</td>\n",
       "      <td>8.50</td>\n",
       "      <td>7.75</td>\n",
       "      <td>7.50</td>\n",
       "      <td>Jane</td>\n",
       "    </tr>\n",
       "  </tbody>\n",
       "</table>\n",
       "</div>"
      ],
      "text/plain": [
       "          Mon  Tues    Wed    Thu   Fri Student\n",
       "week_1   8.75  9.50   8.00  10.00  7.75     Bob\n",
       "week_1   8.00  9.00  10.00   8.75  7.25    Jane\n",
       "week_2   0.00  8.00   9.75   9.00  6.00     Bob\n",
       "week_2   8.25  7.00   0.00   9.25  8.00    Jane\n",
       "week_3   8.50  7.00   9.25   0.00  0.00     Bob\n",
       "week_3   8.25  8.25   0.00   8.00  7.50    Jane\n",
       "week_4   6.50  8.75   8.50   8.00  6.00     Bob\n",
       "week_4  10.00  9.25   8.50   7.75  7.50    Jane"
      ]
     },
     "execution_count": 3,
     "metadata": {},
     "output_type": "execute_result"
    }
   ],
   "source": [
    "days = [\"Mon\",\"Tues\",\"Wed\",\"Thu\",\"Fri\",\"Student\"]\n",
    "scores = pd.DataFrame([pd.Series([8.75, 9.5, 8, 10, 7.75, \"Bob\"], index=days, name=\"week_1\"),\n",
    "                       pd.Series([8, 9, 10, 8.75, 7.25, \"Jane\"], index=days, name=\"week_1\"),\n",
    "                       pd.Series([0, 8, 9.75, 9, 6, \"Bob\"], index=days, name=\"week_2\"),\n",
    "                       pd.Series([8.25, 7, 0, 9.25, 8, \"Jane\"], index=days, name=\"week_2\"),\n",
    "                       pd.Series([8.5, 7, 9.25, 0, 0, \"Bob\"], index=days, name=\"week_3\"),\n",
    "                       pd.Series([8.25, 8.25, 0, 8, 7.5, \"Jane\"], index=days, name=\"week_3\"),\n",
    "                       pd.Series([6.5, 8.75, 8.5, 8, 6, \"Bob\"], index=days, name=\"week_4\"),\n",
    "                       pd.Series([10, 9.25, 8.5, 7.75, 7.5, \"Jane\"], index=days, name=\"week_4\"),\n",
    "                      ])\n",
    "scores"
   ]
  },
  {
   "cell_type": "markdown",
   "metadata": {
    "collapsed": false,
    "jupyter": {
     "outputs_hidden": false
    }
   },
   "source": [
    "Always start by learning a bit about your data. Generally, we look at the structure first, and then we explore it."
   ]
  },
  {
   "cell_type": "markdown",
   "metadata": {},
   "source": [
    "**1)**\t [P] Report the shape, the number of dimensions, the size of the data, and the data types of each column. Do this separately. Then create a separate cell that just shows the results of `scores.info()`."
   ]
  },
  {
   "cell_type": "code",
   "execution_count": 4,
   "metadata": {
    "collapsed": false,
    "jupyter": {
     "outputs_hidden": false
    }
   },
   "outputs": [
    {
     "name": "stdout",
     "output_type": "stream",
     "text": [
      "The shape of the data is : (8, 6)\n",
      "The number of dimensions : 2\n",
      "The size of the data is : 48\n",
      "The data types of each column are : \n",
      "Mon        float64\n",
      "Tues       float64\n",
      "Wed        float64\n",
      "Thu        float64\n",
      "Fri        float64\n",
      "Student     object\n",
      "dtype: object\n"
     ]
    }
   ],
   "source": [
    "print(\"The shape of the data is : \" + str(scores.shape) + \n",
    "     \"\\nThe number of dimensions : \" + str(scores.ndim) +\n",
    "     \"\\nThe size of the data is : \" + str(scores.size) +\n",
    "     \"\\nThe data types of each column are : \\n\" + str(scores.dtypes))"
   ]
  },
  {
   "cell_type": "code",
   "execution_count": 5,
   "metadata": {},
   "outputs": [
    {
     "name": "stdout",
     "output_type": "stream",
     "text": [
      "<class 'pandas.core.frame.DataFrame'>\n",
      "Index: 8 entries, week_1 to week_4\n",
      "Data columns (total 6 columns):\n",
      " #   Column   Non-Null Count  Dtype  \n",
      "---  ------   --------------  -----  \n",
      " 0   Mon      8 non-null      float64\n",
      " 1   Tues     8 non-null      float64\n",
      " 2   Wed      8 non-null      float64\n",
      " 3   Thu      8 non-null      float64\n",
      " 4   Fri      8 non-null      float64\n",
      " 5   Student  8 non-null      object \n",
      "dtypes: float64(5), object(1)\n",
      "memory usage: 448.0+ bytes\n",
      "None\n"
     ]
    }
   ],
   "source": [
    "print(scores.info())"
   ]
  },
  {
   "cell_type": "markdown",
   "metadata": {},
   "source": [
    "**2)**\t[P] Show two different ways to report the number of observations in scores."
   ]
  },
  {
   "cell_type": "code",
   "execution_count": 6,
   "metadata": {},
   "outputs": [
    {
     "name": "stdout",
     "output_type": "stream",
     "text": [
      "8\n"
     ]
    }
   ],
   "source": [
    "# https://pandas.pydata.org/docs/reference/api/pandas.DataFrame.shape.html\n",
    "\n",
    "print(scores.shape[0])"
   ]
  },
  {
   "cell_type": "code",
   "execution_count": 7,
   "metadata": {
    "collapsed": false,
    "jupyter": {
     "outputs_hidden": false
    }
   },
   "outputs": [
    {
     "name": "stdout",
     "output_type": "stream",
     "text": [
      "8\n"
     ]
    }
   ],
   "source": [
    "# https://www.w3schools.com/python/ref_func_len.asp\n",
    "\n",
    "print(len(scores))"
   ]
  },
  {
   "cell_type": "markdown",
   "metadata": {},
   "source": [
    "**3)**\t[P] Show the variables (i.e. columns) in scores"
   ]
  },
  {
   "cell_type": "code",
   "execution_count": 8,
   "metadata": {},
   "outputs": [
    {
     "name": "stdout",
     "output_type": "stream",
     "text": [
      "Index(['Mon', 'Tues', 'Wed', 'Thu', 'Fri', 'Student'], dtype='object')\n"
     ]
    }
   ],
   "source": [
    "# https://pandas.pydata.org/docs/reference/api/pandas.DataFrame.columns.html\n",
    "\n",
    "print(scores.columns)"
   ]
  },
  {
   "cell_type": "markdown",
   "metadata": {},
   "source": [
    "**4)**\t[P] There are repetitive names in the index. This happens quite a bit, depending on how the data is organized. For now. print the unique index names in `scores`\n"
   ]
  },
  {
   "cell_type": "code",
   "execution_count": 9,
   "metadata": {},
   "outputs": [
    {
     "name": "stdout",
     "output_type": "stream",
     "text": [
      "Index(['week_1', 'week_2', 'week_3', 'week_4'], dtype='object')\n"
     ]
    }
   ],
   "source": [
    "# https://pandas.pydata.org/docs/reference/api/pandas.Series.unique.html\n",
    "\n",
    "print(scores.index.unique())"
   ]
  },
  {
   "cell_type": "markdown",
   "metadata": {},
   "source": [
    "**5)**\t[P] Rename the 'Tues' column header to be 'Tue' . (Hint: Changing `scores.columns[1]` directly will not work, not to mention it would be a poor approach to hard code a location this way! Magic numbers are never a good idea when referencing index or column locations. They may change!) Show the new scores data frame. This should be the same, except with Tues changed to Tue.\n",
    "\n"
   ]
  },
  {
   "cell_type": "code",
   "execution_count": 10,
   "metadata": {},
   "outputs": [
    {
     "data": {
      "text/html": [
       "<div>\n",
       "<style scoped>\n",
       "    .dataframe tbody tr th:only-of-type {\n",
       "        vertical-align: middle;\n",
       "    }\n",
       "\n",
       "    .dataframe tbody tr th {\n",
       "        vertical-align: top;\n",
       "    }\n",
       "\n",
       "    .dataframe thead th {\n",
       "        text-align: right;\n",
       "    }\n",
       "</style>\n",
       "<table border=\"1\" class=\"dataframe\">\n",
       "  <thead>\n",
       "    <tr style=\"text-align: right;\">\n",
       "      <th></th>\n",
       "      <th>Mon</th>\n",
       "      <th>Tue</th>\n",
       "      <th>Wed</th>\n",
       "      <th>Thu</th>\n",
       "      <th>Fri</th>\n",
       "      <th>Student</th>\n",
       "    </tr>\n",
       "  </thead>\n",
       "  <tbody>\n",
       "    <tr>\n",
       "      <th>week_1</th>\n",
       "      <td>8.75</td>\n",
       "      <td>9.50</td>\n",
       "      <td>8.00</td>\n",
       "      <td>10.00</td>\n",
       "      <td>7.75</td>\n",
       "      <td>Bob</td>\n",
       "    </tr>\n",
       "    <tr>\n",
       "      <th>week_1</th>\n",
       "      <td>8.00</td>\n",
       "      <td>9.00</td>\n",
       "      <td>10.00</td>\n",
       "      <td>8.75</td>\n",
       "      <td>7.25</td>\n",
       "      <td>Jane</td>\n",
       "    </tr>\n",
       "    <tr>\n",
       "      <th>week_2</th>\n",
       "      <td>0.00</td>\n",
       "      <td>8.00</td>\n",
       "      <td>9.75</td>\n",
       "      <td>9.00</td>\n",
       "      <td>6.00</td>\n",
       "      <td>Bob</td>\n",
       "    </tr>\n",
       "    <tr>\n",
       "      <th>week_2</th>\n",
       "      <td>8.25</td>\n",
       "      <td>7.00</td>\n",
       "      <td>0.00</td>\n",
       "      <td>9.25</td>\n",
       "      <td>8.00</td>\n",
       "      <td>Jane</td>\n",
       "    </tr>\n",
       "    <tr>\n",
       "      <th>week_3</th>\n",
       "      <td>8.50</td>\n",
       "      <td>7.00</td>\n",
       "      <td>9.25</td>\n",
       "      <td>0.00</td>\n",
       "      <td>0.00</td>\n",
       "      <td>Bob</td>\n",
       "    </tr>\n",
       "    <tr>\n",
       "      <th>week_3</th>\n",
       "      <td>8.25</td>\n",
       "      <td>8.25</td>\n",
       "      <td>0.00</td>\n",
       "      <td>8.00</td>\n",
       "      <td>7.50</td>\n",
       "      <td>Jane</td>\n",
       "    </tr>\n",
       "    <tr>\n",
       "      <th>week_4</th>\n",
       "      <td>6.50</td>\n",
       "      <td>8.75</td>\n",
       "      <td>8.50</td>\n",
       "      <td>8.00</td>\n",
       "      <td>6.00</td>\n",
       "      <td>Bob</td>\n",
       "    </tr>\n",
       "    <tr>\n",
       "      <th>week_4</th>\n",
       "      <td>10.00</td>\n",
       "      <td>9.25</td>\n",
       "      <td>8.50</td>\n",
       "      <td>7.75</td>\n",
       "      <td>7.50</td>\n",
       "      <td>Jane</td>\n",
       "    </tr>\n",
       "  </tbody>\n",
       "</table>\n",
       "</div>"
      ],
      "text/plain": [
       "          Mon   Tue    Wed    Thu   Fri Student\n",
       "week_1   8.75  9.50   8.00  10.00  7.75     Bob\n",
       "week_1   8.00  9.00  10.00   8.75  7.25    Jane\n",
       "week_2   0.00  8.00   9.75   9.00  6.00     Bob\n",
       "week_2   8.25  7.00   0.00   9.25  8.00    Jane\n",
       "week_3   8.50  7.00   9.25   0.00  0.00     Bob\n",
       "week_3   8.25  8.25   0.00   8.00  7.50    Jane\n",
       "week_4   6.50  8.75   8.50   8.00  6.00     Bob\n",
       "week_4  10.00  9.25   8.50   7.75  7.50    Jane"
      ]
     },
     "execution_count": 10,
     "metadata": {},
     "output_type": "execute_result"
    }
   ],
   "source": [
    "# https://pandas.pydata.org/docs/reference/api/pandas.DataFrame.rename.html\n",
    "\n",
    "scores.rename(columns={\"Tues\":\"Tue\"},inplace=True)\n",
    "scores"
   ]
  },
  {
   "cell_type": "markdown",
   "metadata": {},
   "source": [
    "**6)**\t[P] Now, make a bigger change. Let's rename 'week_1' to be 'w1', 'week_2' to be 'w2', and so on. Also, suppose you decide to use only 2 letter abbreviations for the days. Rename the days in the column names to be 'Mo', 'Tu', 'We', 'Th', 'Fr'. Show the updated scores dataframe. It should appear something like the following:\n",
    "\n",
    "```\n",
    "       Mo    Tu     We     Th    Fr Student\n",
    "w1   8.75  9.50   8.00  10.00  7.75     Bob\n",
    "w1   8.00  9.00  10.00   8.75  7.25    Jane\n",
    "w2   0.00  8.00   9.75   9.00  6.00     Bob\n",
    "w2   8.25  7.00   0.00   9.25  8.00    Jane\n",
    "w3   8.50  7.00   9.25   0.00  0.00     Bob\n",
    "w3   8.25  8.25   0.00   8.00  7.50    Jane\n",
    "w4   6.50  8.75   8.50   8.00  6.00     Bob\n",
    "w4  10.00  9.25   8.50   7.75  7.50    Jane\n",
    "```"
   ]
  },
  {
   "cell_type": "code",
   "execution_count": 11,
   "metadata": {},
   "outputs": [
    {
     "data": {
      "text/html": [
       "<div>\n",
       "<style scoped>\n",
       "    .dataframe tbody tr th:only-of-type {\n",
       "        vertical-align: middle;\n",
       "    }\n",
       "\n",
       "    .dataframe tbody tr th {\n",
       "        vertical-align: top;\n",
       "    }\n",
       "\n",
       "    .dataframe thead th {\n",
       "        text-align: right;\n",
       "    }\n",
       "</style>\n",
       "<table border=\"1\" class=\"dataframe\">\n",
       "  <thead>\n",
       "    <tr style=\"text-align: right;\">\n",
       "      <th></th>\n",
       "      <th>Mo</th>\n",
       "      <th>Tu</th>\n",
       "      <th>We</th>\n",
       "      <th>Th</th>\n",
       "      <th>Fr</th>\n",
       "      <th>Student</th>\n",
       "    </tr>\n",
       "  </thead>\n",
       "  <tbody>\n",
       "    <tr>\n",
       "      <th>w1</th>\n",
       "      <td>8.75</td>\n",
       "      <td>9.50</td>\n",
       "      <td>8.00</td>\n",
       "      <td>10.00</td>\n",
       "      <td>7.75</td>\n",
       "      <td>Bob</td>\n",
       "    </tr>\n",
       "    <tr>\n",
       "      <th>w1</th>\n",
       "      <td>8.00</td>\n",
       "      <td>9.00</td>\n",
       "      <td>10.00</td>\n",
       "      <td>8.75</td>\n",
       "      <td>7.25</td>\n",
       "      <td>Jane</td>\n",
       "    </tr>\n",
       "    <tr>\n",
       "      <th>w2</th>\n",
       "      <td>0.00</td>\n",
       "      <td>8.00</td>\n",
       "      <td>9.75</td>\n",
       "      <td>9.00</td>\n",
       "      <td>6.00</td>\n",
       "      <td>Bob</td>\n",
       "    </tr>\n",
       "    <tr>\n",
       "      <th>w2</th>\n",
       "      <td>8.25</td>\n",
       "      <td>7.00</td>\n",
       "      <td>0.00</td>\n",
       "      <td>9.25</td>\n",
       "      <td>8.00</td>\n",
       "      <td>Jane</td>\n",
       "    </tr>\n",
       "    <tr>\n",
       "      <th>w3</th>\n",
       "      <td>8.50</td>\n",
       "      <td>7.00</td>\n",
       "      <td>9.25</td>\n",
       "      <td>0.00</td>\n",
       "      <td>0.00</td>\n",
       "      <td>Bob</td>\n",
       "    </tr>\n",
       "    <tr>\n",
       "      <th>w3</th>\n",
       "      <td>8.25</td>\n",
       "      <td>8.25</td>\n",
       "      <td>0.00</td>\n",
       "      <td>8.00</td>\n",
       "      <td>7.50</td>\n",
       "      <td>Jane</td>\n",
       "    </tr>\n",
       "    <tr>\n",
       "      <th>w4</th>\n",
       "      <td>6.50</td>\n",
       "      <td>8.75</td>\n",
       "      <td>8.50</td>\n",
       "      <td>8.00</td>\n",
       "      <td>6.00</td>\n",
       "      <td>Bob</td>\n",
       "    </tr>\n",
       "    <tr>\n",
       "      <th>w4</th>\n",
       "      <td>10.00</td>\n",
       "      <td>9.25</td>\n",
       "      <td>8.50</td>\n",
       "      <td>7.75</td>\n",
       "      <td>7.50</td>\n",
       "      <td>Jane</td>\n",
       "    </tr>\n",
       "  </tbody>\n",
       "</table>\n",
       "</div>"
      ],
      "text/plain": [
       "       Mo    Tu     We     Th    Fr Student\n",
       "w1   8.75  9.50   8.00  10.00  7.75     Bob\n",
       "w1   8.00  9.00  10.00   8.75  7.25    Jane\n",
       "w2   0.00  8.00   9.75   9.00  6.00     Bob\n",
       "w2   8.25  7.00   0.00   9.25  8.00    Jane\n",
       "w3   8.50  7.00   9.25   0.00  0.00     Bob\n",
       "w3   8.25  8.25   0.00   8.00  7.50    Jane\n",
       "w4   6.50  8.75   8.50   8.00  6.00     Bob\n",
       "w4  10.00  9.25   8.50   7.75  7.50    Jane"
      ]
     },
     "execution_count": 11,
     "metadata": {},
     "output_type": "execute_result"
    }
   ],
   "source": [
    "# https://pandas.pydata.org/docs/reference/api/pandas.DataFrame.rename.html\n",
    "\n",
    "scores.rename(index={\"week_1\":\"w1\", \"week_2\":\"w2\", \"week_3\":\"w3\", \"week_4\":\"w4\"}, \n",
    "              columns={\"Mon\":\"Mo\", \"Tue\":\"Tu\", \"Wed\":\"We\", \"Thu\":\"Th\", \"Fri\":\"Fr\"},\n",
    "              inplace=True)\n",
    "scores"
   ]
  },
  {
   "cell_type": "markdown",
   "metadata": {},
   "source": [
    "**7)**\t[M] Compare the type of the expression `scores['Mo']` vs. `scores[['Mo']]`. What is the difference? (HINT: Use the `type()` Python function on both.) Explain."
   ]
  },
  {
   "cell_type": "code",
   "execution_count": 12,
   "metadata": {},
   "outputs": [
    {
     "name": "stdout",
     "output_type": "stream",
     "text": [
      "w1     8.75\n",
      "w1     8.00\n",
      "w2     0.00\n",
      "w2     8.25\n",
      "w3     8.50\n",
      "w3     8.25\n",
      "w4     6.50\n",
      "w4    10.00\n",
      "Name: Mo, dtype: float64\n",
      "Type of scores['Mo'] is : <class 'pandas.core.series.Series'>\n",
      "       Mo\n",
      "w1   8.75\n",
      "w1   8.00\n",
      "w2   0.00\n",
      "w2   8.25\n",
      "w3   8.50\n",
      "w3   8.25\n",
      "w4   6.50\n",
      "w4  10.00\n",
      "Type of scores[['Mo']] is : <class 'pandas.core.frame.DataFrame'>\n"
     ]
    }
   ],
   "source": [
    "print(scores['Mo'])\n",
    "print(\"Type of scores['Mo'] is : \" + str(type(scores['Mo'])))\n",
    "print(scores[['Mo']])\n",
    "print(\"Type of scores[['Mo']] is : \" + str(type(scores[['Mo']])))"
   ]
  },
  {
   "cell_type": "markdown",
   "metadata": {
    "collapsed": false,
    "jupyter": {
     "outputs_hidden": false
    }
   },
   "source": [
    "ANSWER: scores['Mo'] gives a Series representation of that column, while scores[['Mo']] gives a DataFrame representation of that column."
   ]
  },
  {
   "cell_type": "markdown",
   "metadata": {},
   "source": [
    "**8)**\t[P] Demonstrate the `describe()` method on scores. What type does it return? (This makes it quite usable!)"
   ]
  },
  {
   "cell_type": "code",
   "execution_count": 13,
   "metadata": {},
   "outputs": [
    {
     "name": "stdout",
     "output_type": "stream",
     "text": [
      "              Mo        Tu         We         Th        Fr\n",
      "count   8.000000  8.000000   8.000000   8.000000  8.000000\n",
      "mean    7.281250  8.343750   6.750000   7.593750  6.250000\n",
      "std     3.095035  0.963045   4.219428   3.159276  2.635608\n",
      "min     0.000000  7.000000   0.000000   0.000000  0.000000\n",
      "25%     7.625000  7.750000   6.000000   7.937500  6.000000\n",
      "50%     8.250000  8.500000   8.500000   8.375000  7.375000\n",
      "75%     8.562500  9.062500   9.375000   9.062500  7.562500\n",
      "max    10.000000  9.500000  10.000000  10.000000  8.000000\n"
     ]
    }
   ],
   "source": [
    "print(scores.describe())"
   ]
  },
  {
   "cell_type": "markdown",
   "metadata": {},
   "source": [
    "It returns an 8 number summary of the data by column, which is very useful for analysis."
   ]
  },
  {
   "cell_type": "markdown",
   "metadata": {},
   "source": [
    "**9)**\t[P] Store the output of `describe()` as a variable. Then, using this data frame, report the day that had the largest standard deviation in quiz scores and its value. Clean your temporary variables when complete (i.e use `del`)\n",
    "\n",
    "Your output should look something like:\n",
    "\n",
    "`We had the highest standard deviation: 4.219`"
   ]
  },
  {
   "cell_type": "code",
   "execution_count": 14,
   "metadata": {},
   "outputs": [
    {
     "name": "stdout",
     "output_type": "stream",
     "text": [
      "We had the highest standard deviation: 4.219\n"
     ]
    }
   ],
   "source": [
    "info = scores.describe()\n",
    "print(\"We had the highest standard deviation: \" + str(\"{:.3f}\".format(info.loc[\"std\"].max())))\n",
    "del(info)"
   ]
  },
  {
   "cell_type": "markdown",
   "metadata": {},
   "source": [
    "**10)**\t[P] Knowing that `describe()` is nothing more than another data frame can be useful. However, it's more important to write code to output the specific results you are looking for. Write the Python code to repeat the previous exercise without using `describe()`."
   ]
  },
  {
   "cell_type": "code",
   "execution_count": 15,
   "metadata": {},
   "outputs": [
    {
     "name": "stdout",
     "output_type": "stream",
     "text": [
      "We had the highest standard deviation: 4.219\n"
     ]
    }
   ],
   "source": [
    "# https://pandas.pydata.org/docs/reference/api/pandas.DataFrame.mean.html\n",
    "\n",
    "print(\"We had the highest standard deviation: \" + str(\"{:.3f}\".format(float(scores.std(numeric_only=True).max()))))"
   ]
  },
  {
   "cell_type": "markdown",
   "metadata": {
    "collapsed": false,
    "jupyter": {
     "outputs_hidden": false
    }
   },
   "source": [
    "---\n",
    "OK. So, here's the point. LOOK AT THAT STANDARD DEVIATION! What is it telling you? If you've been doing everything correctly, then that result should be **\\~4.219 which occurred on Wednesday**, and that is **way too large**!\n",
    "\n",
    "**This is an important part of the preliminary EDA (Exploratory Data Analysis) step that helps you get a sense about the quality of your data.**\n",
    "\n",
    "What does standard deviation measure? **It's a standardized quantity that tells you how much your data are deviating from the mean.* And, something is wrong with the data on Wednesday. Why? Think about it. Developing intuition with your data has immense value for the data scientist. This high s.d. value suggests some outliers or something else that is wrong. Notice, there are two missing values represented by 0 that are being used to compute the deviation, and that's not what we want. (You''ll notice there are other days with high values too, for similar reasons.) Missing data are usually not included with summary statistics (and many other calculations!) **We need to deal with missing data properly**.\n",
    "\n",
    "When we have missing values in data, we almost always use a `na.nan` constant in its place to represent that the data is missing in that specific cell.  \n",
    "\n",
    "Numpy has a variety of very useful constants. [Numpy's API reference on constants](https://numpy.org/doc/stable/reference/constants.html) has more information.  \n",
    "\n",
    "---"
   ]
  },
  {
   "cell_type": "markdown",
   "metadata": {},
   "source": [
    "**11)** [P] Write the code that changes all 0.0 entries to `np.nan`.  (NOTE: You should be able to do this with just one line of code using pandas selection techniques!) Then, show scores. All 0.0 entries should be replaced with NaN."
   ]
  },
  {
   "cell_type": "code",
   "execution_count": 16,
   "metadata": {},
   "outputs": [
    {
     "data": {
      "text/html": [
       "<div>\n",
       "<style scoped>\n",
       "    .dataframe tbody tr th:only-of-type {\n",
       "        vertical-align: middle;\n",
       "    }\n",
       "\n",
       "    .dataframe tbody tr th {\n",
       "        vertical-align: top;\n",
       "    }\n",
       "\n",
       "    .dataframe thead th {\n",
       "        text-align: right;\n",
       "    }\n",
       "</style>\n",
       "<table border=\"1\" class=\"dataframe\">\n",
       "  <thead>\n",
       "    <tr style=\"text-align: right;\">\n",
       "      <th></th>\n",
       "      <th>Mo</th>\n",
       "      <th>Tu</th>\n",
       "      <th>We</th>\n",
       "      <th>Th</th>\n",
       "      <th>Fr</th>\n",
       "      <th>Student</th>\n",
       "    </tr>\n",
       "  </thead>\n",
       "  <tbody>\n",
       "    <tr>\n",
       "      <th>w1</th>\n",
       "      <td>8.75</td>\n",
       "      <td>9.50</td>\n",
       "      <td>8.00</td>\n",
       "      <td>10.00</td>\n",
       "      <td>7.75</td>\n",
       "      <td>Bob</td>\n",
       "    </tr>\n",
       "    <tr>\n",
       "      <th>w1</th>\n",
       "      <td>8.00</td>\n",
       "      <td>9.00</td>\n",
       "      <td>10.00</td>\n",
       "      <td>8.75</td>\n",
       "      <td>7.25</td>\n",
       "      <td>Jane</td>\n",
       "    </tr>\n",
       "    <tr>\n",
       "      <th>w2</th>\n",
       "      <td>NaN</td>\n",
       "      <td>8.00</td>\n",
       "      <td>9.75</td>\n",
       "      <td>9.00</td>\n",
       "      <td>6.00</td>\n",
       "      <td>Bob</td>\n",
       "    </tr>\n",
       "    <tr>\n",
       "      <th>w2</th>\n",
       "      <td>8.25</td>\n",
       "      <td>7.00</td>\n",
       "      <td>NaN</td>\n",
       "      <td>9.25</td>\n",
       "      <td>8.00</td>\n",
       "      <td>Jane</td>\n",
       "    </tr>\n",
       "    <tr>\n",
       "      <th>w3</th>\n",
       "      <td>8.50</td>\n",
       "      <td>7.00</td>\n",
       "      <td>9.25</td>\n",
       "      <td>NaN</td>\n",
       "      <td>NaN</td>\n",
       "      <td>Bob</td>\n",
       "    </tr>\n",
       "    <tr>\n",
       "      <th>w3</th>\n",
       "      <td>8.25</td>\n",
       "      <td>8.25</td>\n",
       "      <td>NaN</td>\n",
       "      <td>8.00</td>\n",
       "      <td>7.50</td>\n",
       "      <td>Jane</td>\n",
       "    </tr>\n",
       "    <tr>\n",
       "      <th>w4</th>\n",
       "      <td>6.50</td>\n",
       "      <td>8.75</td>\n",
       "      <td>8.50</td>\n",
       "      <td>8.00</td>\n",
       "      <td>6.00</td>\n",
       "      <td>Bob</td>\n",
       "    </tr>\n",
       "    <tr>\n",
       "      <th>w4</th>\n",
       "      <td>10.00</td>\n",
       "      <td>9.25</td>\n",
       "      <td>8.50</td>\n",
       "      <td>7.75</td>\n",
       "      <td>7.50</td>\n",
       "      <td>Jane</td>\n",
       "    </tr>\n",
       "  </tbody>\n",
       "</table>\n",
       "</div>"
      ],
      "text/plain": [
       "       Mo    Tu     We     Th    Fr Student\n",
       "w1   8.75  9.50   8.00  10.00  7.75     Bob\n",
       "w1   8.00  9.00  10.00   8.75  7.25    Jane\n",
       "w2    NaN  8.00   9.75   9.00  6.00     Bob\n",
       "w2   8.25  7.00    NaN   9.25  8.00    Jane\n",
       "w3   8.50  7.00   9.25    NaN   NaN     Bob\n",
       "w3   8.25  8.25    NaN   8.00  7.50    Jane\n",
       "w4   6.50  8.75   8.50   8.00  6.00     Bob\n",
       "w4  10.00  9.25   8.50   7.75  7.50    Jane"
      ]
     },
     "execution_count": 16,
     "metadata": {},
     "output_type": "execute_result"
    }
   ],
   "source": [
    "scores[scores==0]=np.nan\n",
    "scores"
   ]
  },
  {
   "cell_type": "markdown",
   "metadata": {
    "collapsed": false,
    "jupyter": {
     "outputs_hidden": false
    }
   },
   "source": [
    "## Important \n",
    "\n",
    "**You must always pay attention to NaN values in your data. These represent missing values and are important to ignore in most calculations, especially when you are conducting your preliminary EDA. We will learn about many techniques for dealing with missing data soon. Many functions have an optional parameter such as skipna to make sure that whatever you are trying to do does not include these missing data. Pay attention to those parameters. Most of the time, the default parameter values for handling NaN values is to skip or ignore them.**\n"
   ]
  },
  {
   "cell_type": "markdown",
   "metadata": {},
   "source": [
    "**12)**\t[P] Show the output of `describe()` again. You should notice much more reasonable SD values. Note how much more informative this output is when properly dealing with missing data. Then, copy your code from above to output the day with the largest standard deviation in quiz scores. You should have a substantially different result than you did before."
   ]
  },
  {
   "cell_type": "code",
   "execution_count": 17,
   "metadata": {},
   "outputs": [
    {
     "name": "stdout",
     "output_type": "stream",
     "text": [
      "              Mo        Tu         We         Th        Fr\n",
      "count   7.000000  8.000000   6.000000   7.000000  7.000000\n",
      "mean    8.321429  8.343750   9.000000   8.678571  7.142857\n",
      "std     1.037970  0.963045   0.790569   0.812843  0.814672\n",
      "min     6.500000  7.000000   8.000000   7.750000  6.000000\n",
      "25%     8.125000  7.750000   8.500000   8.000000  6.625000\n",
      "50%     8.250000  8.500000   8.875000   8.750000  7.500000\n",
      "75%     8.625000  9.062500   9.625000   9.125000  7.625000\n",
      "max    10.000000  9.500000  10.000000  10.000000  8.000000\n",
      "We had the highest standard deviation: 1.038\n"
     ]
    }
   ],
   "source": [
    "print(scores.describe())\n",
    "print(\"We had the highest standard deviation: \" + str(\"{:.3f}\".format(scores.describe().loc[\"std\"].max())))"
   ]
  },
  {
   "cell_type": "markdown",
   "metadata": {},
   "source": [
    "**13)**\t[PM] Show `scores.values`. What does the `.values` attribute do?"
   ]
  },
  {
   "cell_type": "code",
   "execution_count": 18,
   "metadata": {},
   "outputs": [
    {
     "name": "stdout",
     "output_type": "stream",
     "text": [
      "[[8.75 9.5 8.0 10.0 7.75 'Bob']\n",
      " [8.0 9.0 10.0 8.75 7.25 'Jane']\n",
      " [nan 8.0 9.75 9.0 6.0 'Bob']\n",
      " [8.25 7.0 nan 9.25 8.0 'Jane']\n",
      " [8.5 7.0 9.25 nan nan 'Bob']\n",
      " [8.25 8.25 nan 8.0 7.5 'Jane']\n",
      " [6.5 8.75 8.5 8.0 6.0 'Bob']\n",
      " [10.0 9.25 8.5 7.75 7.5 'Jane']]\n"
     ]
    }
   ],
   "source": [
    "print(scores.values)"
   ]
  },
  {
   "cell_type": "markdown",
   "metadata": {
    "collapsed": false,
    "jupyter": {
     "outputs_hidden": false
    }
   },
   "source": [
    "ANSWER: It returns a Numpy ndarray represenation of the DataFrame\n",
    "\n",
    "https://pandas.pydata.org/docs/reference/api/pandas.DataFrame.values.html"
   ]
  },
  {
   "cell_type": "markdown",
   "metadata": {},
   "source": [
    "The `.values` attribute of a DataFrame returns a basic numpy array"
   ]
  },
  {
   "cell_type": "markdown",
   "metadata": {},
   "source": [
    "**14)**\t[P] What is the mean for each day? Do not use `describe()`. Round your result to 3 significant digits."
   ]
  },
  {
   "cell_type": "code",
   "execution_count": 19,
   "metadata": {},
   "outputs": [
    {
     "name": "stdout",
     "output_type": "stream",
     "text": [
      "The mean for each day is : \n",
      "Mo    8.321\n",
      "Tu    8.344\n",
      "We    9.000\n",
      "Th    8.679\n",
      "Fr    7.143\n",
      "dtype: float64\n"
     ]
    }
   ],
   "source": [
    "# https://pandas.pydata.org/docs/reference/api/pandas.DataFrame.mean.html\n",
    "\n",
    "print(\"The mean for each day is : \\n\" + str(scores.mean(numeric_only=True).round(3)))"
   ]
  },
  {
   "cell_type": "markdown",
   "metadata": {},
   "source": [
    "**15)**\t[P] What is the mean quiz score over the entire dataset, ignoring all missing values? (HINT: there are many ways to do this, and no solution should involve writing any loops! **The only right answer is ~8.2786.** If you aren't getting that, then you are not handling NaN values correctly. You only want the mean over all scores that are NOT NaN!)"
   ]
  },
  {
   "cell_type": "code",
   "execution_count": 20,
   "metadata": {},
   "outputs": [
    {
     "name": "stdout",
     "output_type": "stream",
     "text": [
      "The mean quiz score over the entire dataset is : 8.2786\n"
     ]
    }
   ],
   "source": [
    "print(\"The mean quiz score over the entire dataset is : \" + str(\"{:.4f}\".format(scores.mean(axis=None, numeric_only=True))))"
   ]
  },
  {
   "cell_type": "markdown",
   "metadata": {},
   "source": [
    "**16)** [P] Show the mean for each week over all students. (Yes, technically you could write a loop to compute this exhaustively. However, you should rarely need to do that. Use pandas!)\n",
    "\n",
    "HINT: You have the correct result if you report the following\n",
    "```\n",
    "Mean score for each week over all students\n",
    "w1    8.700000\n",
    "w2    8.156250\n",
    "w3    8.107143\n",
    "w4    8.075000\n",
    "```"
   ]
  },
  {
   "cell_type": "code",
   "execution_count": 21,
   "metadata": {
    "collapsed": false,
    "jupyter": {
     "outputs_hidden": false
    }
   },
   "outputs": [
    {
     "name": "stdout",
     "output_type": "stream",
     "text": [
      "Mean score for each week over all students\n",
      "w1    8.70000\n",
      "w2    8.15625\n",
      "w3    8.12500\n",
      "w4    8.07500\n",
      "dtype: float64\n"
     ]
    }
   ],
   "source": [
    "# https://pandas.pydata.org/docs/reference/api/pandas.DataFrame.groupby.html\n",
    "\n",
    "print(\"Mean score for each week over all students\\n\" + str(scores.mean(axis=1, numeric_only=True).groupby(level=0).mean())) "
   ]
  },
  {
   "cell_type": "markdown",
   "metadata": {},
   "source": [
    "**17)** [P] Show the mean score for each student. Again, ignore all missing values.\n",
    "\n",
    "HINT: You have the correct result if these are your results:\n",
    "```\n",
    "Mean score for each student\n",
    "Student\n",
    "Bob     8.191176\n",
    "Jane    8.361111\n",
    "``` "
   ]
  },
  {
   "cell_type": "code",
   "execution_count": 22,
   "metadata": {},
   "outputs": [
    {
     "name": "stdout",
     "output_type": "stream",
     "text": [
      "Mean score for each student\n",
      "Student\n",
      "Bob     8.1375\n",
      "Jane    8.4500\n",
      "dtype: float64\n"
     ]
    }
   ],
   "source": [
    "# https://pandas.pydata.org/docs/reference/api/pandas.DataFrame.groupby.html\n",
    "\n",
    "print(\"Mean score for each student\\n\" + str(scores.groupby(\"Student\").mean(numeric_only=True).mean(axis=1, numeric_only=True)))"
   ]
  },
  {
   "cell_type": "markdown",
   "metadata": {},
   "source": [
    "**18)**\t[P] Select the data frame for only Monday and Student variables using `.loc`, and again using `.iloc`"
   ]
  },
  {
   "cell_type": "code",
   "execution_count": 23,
   "metadata": {},
   "outputs": [
    {
     "name": "stdout",
     "output_type": "stream",
     "text": [
      "       Mo Student\n",
      "w1   8.75     Bob\n",
      "w1   8.00    Jane\n",
      "w2    NaN     Bob\n",
      "w2   8.25    Jane\n",
      "w3   8.50     Bob\n",
      "w3   8.25    Jane\n",
      "w4   6.50     Bob\n",
      "w4  10.00    Jane\n"
     ]
    }
   ],
   "source": [
    "# Using .loc\n",
    "\n",
    "mo = scores.loc[:,[\"Mo\",\"Student\"]]\n",
    "print(mo)"
   ]
  },
  {
   "cell_type": "code",
   "execution_count": 24,
   "metadata": {
    "collapsed": false,
    "jupyter": {
     "outputs_hidden": false
    }
   },
   "outputs": [
    {
     "name": "stdout",
     "output_type": "stream",
     "text": [
      "       Mo Student\n",
      "w1   8.75     Bob\n",
      "w1   8.00    Jane\n",
      "w2    NaN     Bob\n",
      "w2   8.25    Jane\n",
      "w3   8.50     Bob\n",
      "w3   8.25    Jane\n",
      "w4   6.50     Bob\n",
      "w4  10.00    Jane\n"
     ]
    }
   ],
   "source": [
    "# Using .iloc\n",
    "\n",
    "mo = scores.iloc[:,[scores.columns.get_loc(\"Mo\"),scores.columns.get_loc(\"Student\")]]\n",
    "print(mo)"
   ]
  },
  {
   "cell_type": "markdown",
   "metadata": {},
   "source": [
    "**19)**\t[P] Show a new DataFrame containing the week as an index (like the original), but the mean of their scores and the count of the quizzes they took. (HINT: Sometimes, it's just easier to create a new data frame.)\n",
    "\n",
    "You should have results that look like the following:\n",
    "```\n",
    "   Student  count    mean\n",
    "w1     Bob      5  8.8000\n",
    "w1    Jane      5  8.6000\n",
    "w2     Bob      4  8.1875\n",
    "w2    Jane      4  8.1250\n",
    "w3     Bob      3  8.2500\n",
    "w3    Jane      4  8.0000\n",
    "w4     Bob      5  7.5500\n",
    "w4    Jane      5  8.6000\n",
    "```\n"
   ]
  },
  {
   "cell_type": "code",
   "execution_count": 25,
   "metadata": {},
   "outputs": [
    {
     "name": "stdout",
     "output_type": "stream",
     "text": [
      "   Student  count    mean\n",
      "w1     Bob      5  8.8000\n",
      "w1    Jane      5  8.6000\n",
      "w2     Bob      4  8.1875\n",
      "w2    Jane      4  8.1250\n",
      "w3     Bob      3  8.2500\n",
      "w3    Jane      4  8.0000\n",
      "w4     Bob      5  7.5500\n",
      "w4    Jane      5  8.6000\n"
     ]
    }
   ],
   "source": [
    "scores2 = pd.DataFrame({\"Student\": scores[\"Student\"].values, \"count\": scores.count(axis=1, numeric_only=True).values, \"mean\": scores.mean(axis=1, numeric_only=True).values}, index=scores.index.values)\n",
    "print(scores2)"
   ]
  },
  {
   "cell_type": "markdown",
   "metadata": {},
   "source": [
    "**20)**\t[P] This time, show the total number of quizzes taken each week by all students. \n",
    "\n",
    "Your results should look something like the following:\n",
    "```\n",
    "w1    10\n",
    "w2     8\n",
    "w3     7\n",
    "w4    10\n",
    "```"
   ]
  },
  {
   "cell_type": "code",
   "execution_count": 26,
   "metadata": {},
   "outputs": [
    {
     "data": {
      "text/plain": [
       "w1    10\n",
       "w2     8\n",
       "w3     7\n",
       "w4    10\n",
       "dtype: int64"
      ]
     },
     "execution_count": 26,
     "metadata": {},
     "output_type": "execute_result"
    }
   ],
   "source": [
    "# https://pandas.pydata.org/docs/reference/api/pandas.DataFrame.groupby.html\n",
    "\n",
    "scores.drop(columns='Student').groupby(scores.index).count().sum(axis=1)"
   ]
  },
  {
   "cell_type": "markdown",
   "metadata": {},
   "source": [
    "**21)** [P] Show the number of times Friday's score was greater than 7.25 for each student. HINT: Start by selecting a subset of observations, then use value_counts() on the Student variable of the selected data"
   ]
  },
  {
   "cell_type": "code",
   "execution_count": 27,
   "metadata": {},
   "outputs": [
    {
     "name": "stdout",
     "output_type": "stream",
     "text": [
      "The number of times each student had a score greater than 7.25 on Friday : \n",
      "Jane    3\n",
      "Bob     1\n",
      "Name: count, dtype: int64\n"
     ]
    }
   ],
   "source": [
    "# https://pandas.pydata.org/docs/reference/api/pandas.DataFrame.value_counts.html\n",
    "\n",
    "print(\"The number of times each student had a score greater than 7.25 on Friday : \\n\" +\n",
    "      str(scores.loc[scores[\"Fr\"] > 7.25, [\"Fr\", \"Student\"]].value_counts(\"Student\").rename_axis(None)))"
   ]
  },
  {
   "cell_type": "markdown",
   "metadata": {},
   "source": [
    "**22)**\t[P] Repeat the previous exercise, but this time use the `where()` method on scores to select your data. You should have the same output."
   ]
  },
  {
   "cell_type": "code",
   "execution_count": 28,
   "metadata": {},
   "outputs": [
    {
     "name": "stdout",
     "output_type": "stream",
     "text": [
      "The number of times each student had a score greater than 7.25 on Friday : \n",
      "Jane    3\n",
      "Bob     1\n",
      "Name: count, dtype: int64\n"
     ]
    }
   ],
   "source": [
    "# https://pandas.pydata.org/docs/reference/api/pandas.DataFrame.where.html\n",
    "\n",
    "print(\"The number of times each student had a score greater than 7.25 on Friday : \\n\" +\n",
    "      str(scores.where(scores[\"Fr\"] > 7.25).loc[:, [\"Fr\", \"Student\"]].value_counts(\"Student\").rename_axis(None)))"
   ]
  },
  {
   "cell_type": "markdown",
   "metadata": {},
   "source": [
    "**23)**\t[P] Select the scores that were greater than the mean score over the entire dataset (without the missing values). Again, no hard coding values here (i.e. do NOT hard code the mean, but recompute it. Then, report the number of scores for each day that exceeded that global mean. Your result should look like\n",
    "\n",
    "```\n",
    "Mo    3\n",
    "Tu    4\n",
    "We    5\n",
    "Th    4\n",
    "Fr    0\n",
    "```"
   ]
  },
  {
   "cell_type": "code",
   "execution_count": 29,
   "metadata": {},
   "outputs": [
    {
     "name": "stdout",
     "output_type": "stream",
     "text": [
      "Mo    3\n",
      "Tu    4\n",
      "We    5\n",
      "Th    4\n",
      "Fr    0\n",
      "dtype: int64\n"
     ]
    }
   ],
   "source": [
    "# https://pandas.pydata.org/docs/reference/api/pandas.DataFrame.apply.html\n",
    "# https://pandas.pydata.org/docs/reference/api/pandas.to_numeric.html\n",
    "\n",
    "print((scores.drop(columns=['Student']).apply(pd.to_numeric, errors='coerce') > pd.to_numeric(scores.drop(columns=['Student']).stack(), errors='coerce').mean()).sum())"
   ]
  },
  {
   "cell_type": "markdown",
   "metadata": {},
   "source": [
    "**24)**\t[P] Sometimes when we deal with enormous datasets for modeling, we drop all observations that have any missing data. Show a new data frame that has only complete observations (rows). HINT: This is actually very simple to do. Check out the `dropna()` method."
   ]
  },
  {
   "cell_type": "code",
   "execution_count": 30,
   "metadata": {
    "ExecuteTime": {
     "end_time": "2024-01-28T21:20:34.630960Z",
     "start_time": "2024-01-28T21:20:34.623112Z"
    }
   },
   "outputs": [
    {
     "name": "stdout",
     "output_type": "stream",
     "text": [
      "       Mo    Tu    We     Th    Fr Student\n",
      "w1   8.75  9.50   8.0  10.00  7.75     Bob\n",
      "w1   8.00  9.00  10.0   8.75  7.25    Jane\n",
      "w4   6.50  8.75   8.5   8.00  6.00     Bob\n",
      "w4  10.00  9.25   8.5   7.75  7.50    Jane\n"
     ]
    }
   ],
   "source": [
    "# https://pandas.pydata.org/docs/reference/api/pandas.DataFrame.dropna.html\n",
    "\n",
    "print(scores.dropna())"
   ]
  },
  {
   "cell_type": "markdown",
   "metadata": {
    "collapsed": false,
    "jupyter": {
     "outputs_hidden": false
    }
   },
   "source": [
    "**25)** [P] Let's assume that missing quizzes implies that the student earns a zero for that score. Show a dataframe that reports the average quiz score for each student and each week with this assumption. Your result should be organized such that rows are the week, and columns are the student. \n",
    "\n",
    "Warning: Do NOT destroy the original `scores` dataframe that you cleaned! Leave the NaN values in there alone. \n",
    "\n",
    "You should have a result that looks like the following:\n",
    "\n",
    "```\n",
    "Week      w1    w2    w3    w4\n",
    "Student                       \n",
    "Bob      8.8  6.55  4.95  7.55\n",
    "Jane     8.6  6.50  6.40  8.60\n",
    "```\n",
    "\n"
   ]
  },
  {
   "cell_type": "code",
   "execution_count": 31,
   "metadata": {
    "collapsed": false,
    "jupyter": {
     "outputs_hidden": false
    }
   },
   "outputs": [
    {
     "name": "stdout",
     "output_type": "stream",
     "text": [
      "          w1    w2    w3    w4\n",
      "Student                       \n",
      "Bob      8.8  6.55  4.95  7.55\n",
      "Jane     8.6  6.50  6.40  8.60\n"
     ]
    }
   ],
   "source": [
    "# https://pandas.pydata.org/docs/reference/api/pandas.DataFrame.fillna.html\n",
    "# https://pandas.pydata.org/docs/reference/api/pandas.DataFrame.groupby.html\n",
    "\n",
    "print(scores.fillna(0).groupby([\"Student\", scores.index]).mean().mean(axis=1).unstack())"
   ]
  },
  {
   "cell_type": "markdown",
   "metadata": {
    "collapsed": false,
    "jupyter": {
     "outputs_hidden": false
    }
   },
   "source": [
    "**26)** [P] It is quite common that we drop the lowest score for students before computing our stats. Repeat the previous exercise, but remove the lowest score for each student in each week before computing the mean. If a week has NaN, then that is their lowest score.\n",
    "\n",
    "Your result should look like the following:\n",
    "\n",
    "```\n",
    "Week       w1    w2    w3    w4\n",
    "Student                        \n",
    "Bob      9.06  8.19  6.19  7.94\n",
    "Jane     8.94  8.12  8.00  8.88\n",
    "```\n"
   ]
  },
  {
   "cell_type": "code",
   "execution_count": 39,
   "metadata": {
    "scrolled": true
   },
   "outputs": [
    {
     "name": "stdout",
     "output_type": "stream",
     "text": [
      "Week       w1    w2    w3    w4\n",
      "Student                        \n",
      "Bob      9.06  8.19  6.19  7.94\n",
      "Jane     8.94  8.12  8.00  8.88\n"
     ]
    }
   ],
   "source": [
    "tmp = scores.fillna(0)\n",
    "new_index = scores.index.drop_duplicates()\n",
    "\n",
    "result = tmp.apply(lambda row: row.mask(row.apply(lambda x: isinstance(x, (int, float))).eq(True) & (row.eq(row[row.apply(lambda x: isinstance(x, (int, float)))].min()) & row.duplicated().eq(False)), np.nan), axis=1)\n",
    "means = result.mean(numeric_only=True, axis=1).rename(\"Score\")\n",
    "result = pd.concat([means, tmp.loc[:,\"Student\"]], axis=1).rename_axis(index=\"Week\")\n",
    "result = result.groupby([\"Student\", \"Week\"])[\"Score\"].mean().unstack().round(2)\n",
    "print(result)"
   ]
  },
  {
   "cell_type": "code",
   "execution_count": null,
   "metadata": {},
   "outputs": [],
   "source": []
  }
 ],
 "metadata": {
  "kernelspec": {
   "display_name": "Python 3 (ipykernel)",
   "language": "python",
   "name": "python3"
  },
  "language_info": {
   "codemirror_mode": {
    "name": "ipython",
    "version": 3
   },
   "file_extension": ".py",
   "mimetype": "text/x-python",
   "name": "python",
   "nbconvert_exporter": "python",
   "pygments_lexer": "ipython3",
   "version": "3.11.5"
  }
 },
 "nbformat": 4,
 "nbformat_minor": 4
}

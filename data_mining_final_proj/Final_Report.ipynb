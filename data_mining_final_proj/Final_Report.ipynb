{
 "cells": [
  {
   "cell_type": "markdown",
   "id": "2a503fc3-c703-45a1-afc3-a9ad097262b6",
   "metadata": {},
   "source": [
    "# Final Project - Modeling\n",
    "\n",
    "DUE: April 30, 2024 (Tue)  \n",
    "Pair Programming: Optional, but highly encouraged  \n",
    "Name(s): Harrison Halesworth \n",
    "Class: CSCI 349 - Intro to Data Mining  \n",
    "Section: 01-11am\n",
    "Semester: Spring 2024  \n",
    "Instructors: Brian King, Joshua Stough\n",
    "\n",
    "**To be interpreted as a PDF and submitted on Gradescope!"
   ]
  },
  {
   "cell_type": "code",
   "execution_count": 1,
   "id": "137f013b-a5fb-4a68-8466-250d851cec8b",
   "metadata": {},
   "outputs": [],
   "source": [
    "import time\n",
    "import numpy as np\n",
    "import pandas as pd\n",
    "import seaborn as sns\n",
    "import matplotlib.pyplot as plt\n",
    "from sklearn.model_selection import train_test_split, KFold\n",
    "from sklearn.utils import shuffle\n",
    "from sklearn.metrics import classification_report, confusion_matrix, f1_score\n",
    "from sklearn.metrics import roc_curve, roc_auc_score\n",
    "from sklearn.model_selection import cross_validate, cross_val_predict\n",
    "from sklearn.model_selection import GridSearchCV\n",
    "from sklearn.pipeline import Pipeline\n",
    "from sklearn.preprocessing import StandardScaler, LabelBinarizer\n",
    "from sklearn.tree import DecisionTreeClassifier\n",
    "from sklearn.ensemble import RandomForestClassifier, GradientBoostingClassifier\n",
    "from sklearn.model_selection import train_test_split\n",
    "from sklearn.metrics import classification_report\n",
    "from sklearn.preprocessing import label_binarize\n",
    "from sklearn.metrics import roc_curve, auc\n",
    "from sklearn.preprocessing import LabelEncoder\n",
    "\n",
    "import tensorflow as tf\n",
    "from tensorflow import keras\n",
    "from keras import Input, Model\n",
    "from keras.layers import Dense, Activation\n",
    "from keras.optimizers import Adam, SGD\n",
    "from tensorflow.keras.losses import categorical_crossentropy\n",
    "from scikeras.wrappers import KerasClassifier\n",
    "from tensorflow.keras.models import Sequential\n",
    "from keras.activations import relu, tanh\n",
    "from imblearn.over_sampling import SMOTE"
   ]
  },
  {
   "cell_type": "markdown",
   "id": "96ac5627-aeca-449b-8c04-9263670b124e",
   "metadata": {},
   "source": [
    "## Introduction"
   ]
  },
  {
   "cell_type": "markdown",
   "id": "216a23a6-d673-44fa-ac30-d234d7aea473",
   "metadata": {},
   "source": [
    "The problem I am addressing is the diagnosis of Diabetes on hospital patients and trying to use other measured medical data for individual patients to try and understand which are good indicators of Diabetes diagnosis in the future. I am interested in this topic because I myself have Diabetes and even though I ended up being diagnosed with Type 1 Diabetes in my infancy due to genetic predisposure, I am still very interested in what types of things can lead to the dreaded onset Diabetes, Type 2 Diabetes.\n",
    "\n",
    "The data I am using to evaluate this problem is from the labs results of \"The Specializes Center for Endocrinology and Diabetes-Al-Kindy Teaching Hospital\" and it consists of around 1000 instances that are meant to be individual patients, and there are are 12 features in the dataset including the target variable, the diagnosis, which consists of Y, N, or P which is yes, no or pre-diabetic. The other features included are Gender, Age, Urea (Urea is a waste product formed in the liver when the body breaks down proteins, and it is excreted by the kidneys through urine), Creatinine Ratio (The creatinine ratio, often referred to as the urine creatinine-to-serum creatinine ratio, is a measure used to assess kidney function and detect abnormalities in the urinary system), HBA1C (HbA1c, also known as glycated hemoglobin or hemoglobin A1c provides an indication of a person's average blood sugar levels over the past 2-3 months), Cholesterol, Triglycerides (Triglycerides are a type of fat (lipid) found in your blood. When you eat, your body converts any calories it doesn't need to use right away into triglycerides. The triglycerides are stored in your fat cells. Later, hormones release triglycerides for energy between meals), HDL Cholesterol (\"good\" cholesterol), LDL Cholesterol (\"bad\" cholesterol), VLDL (\"really bad\" cholesterol), and Body Mass Index (compares weight to height and indicates how appropriate the weight is for that height).\n",
    "\n",
    "I speculate that age, BMI, and VLDL will have a positive correlation with Positive diagnoses, as typically older and unhealthier people are at higher risk of Diabetes."
   ]
  },
  {
   "cell_type": "markdown",
   "id": "88864053-d76e-4e27-97b3-580585a516d1",
   "metadata": {},
   "source": [
    "## Data"
   ]
  },
  {
   "cell_type": "code",
   "execution_count": 2,
   "id": "9da0d904-e312-4681-bc35-8e4a586e777b",
   "metadata": {},
   "outputs": [
    {
     "data": {
      "text/html": [
       "<div>\n",
       "<style scoped>\n",
       "    .dataframe tbody tr th:only-of-type {\n",
       "        vertical-align: middle;\n",
       "    }\n",
       "\n",
       "    .dataframe tbody tr th {\n",
       "        vertical-align: top;\n",
       "    }\n",
       "\n",
       "    .dataframe thead th {\n",
       "        text-align: right;\n",
       "    }\n",
       "</style>\n",
       "<table border=\"1\" class=\"dataframe\">\n",
       "  <thead>\n",
       "    <tr style=\"text-align: right;\">\n",
       "      <th></th>\n",
       "      <th>ID</th>\n",
       "      <th>No_Pation</th>\n",
       "      <th>Gender</th>\n",
       "      <th>AGE</th>\n",
       "      <th>Urea</th>\n",
       "      <th>Cr</th>\n",
       "      <th>HbA1c</th>\n",
       "      <th>Chol</th>\n",
       "      <th>TG</th>\n",
       "      <th>HDL</th>\n",
       "      <th>LDL</th>\n",
       "      <th>VLDL</th>\n",
       "      <th>BMI</th>\n",
       "      <th>CLASS</th>\n",
       "    </tr>\n",
       "  </thead>\n",
       "  <tbody>\n",
       "    <tr>\n",
       "      <th>0</th>\n",
       "      <td>502</td>\n",
       "      <td>17975</td>\n",
       "      <td>F</td>\n",
       "      <td>50</td>\n",
       "      <td>4.7</td>\n",
       "      <td>46</td>\n",
       "      <td>4.9</td>\n",
       "      <td>4.2</td>\n",
       "      <td>0.9</td>\n",
       "      <td>2.4</td>\n",
       "      <td>1.4</td>\n",
       "      <td>0.5</td>\n",
       "      <td>24.0</td>\n",
       "      <td>N</td>\n",
       "    </tr>\n",
       "    <tr>\n",
       "      <th>1</th>\n",
       "      <td>735</td>\n",
       "      <td>34221</td>\n",
       "      <td>M</td>\n",
       "      <td>26</td>\n",
       "      <td>4.5</td>\n",
       "      <td>62</td>\n",
       "      <td>4.9</td>\n",
       "      <td>3.7</td>\n",
       "      <td>1.4</td>\n",
       "      <td>1.1</td>\n",
       "      <td>2.1</td>\n",
       "      <td>0.6</td>\n",
       "      <td>23.0</td>\n",
       "      <td>N</td>\n",
       "    </tr>\n",
       "    <tr>\n",
       "      <th>2</th>\n",
       "      <td>420</td>\n",
       "      <td>47975</td>\n",
       "      <td>F</td>\n",
       "      <td>50</td>\n",
       "      <td>4.7</td>\n",
       "      <td>46</td>\n",
       "      <td>4.9</td>\n",
       "      <td>4.2</td>\n",
       "      <td>0.9</td>\n",
       "      <td>2.4</td>\n",
       "      <td>1.4</td>\n",
       "      <td>0.5</td>\n",
       "      <td>24.0</td>\n",
       "      <td>N</td>\n",
       "    </tr>\n",
       "    <tr>\n",
       "      <th>3</th>\n",
       "      <td>680</td>\n",
       "      <td>87656</td>\n",
       "      <td>F</td>\n",
       "      <td>50</td>\n",
       "      <td>4.7</td>\n",
       "      <td>46</td>\n",
       "      <td>4.9</td>\n",
       "      <td>4.2</td>\n",
       "      <td>0.9</td>\n",
       "      <td>2.4</td>\n",
       "      <td>1.4</td>\n",
       "      <td>0.5</td>\n",
       "      <td>24.0</td>\n",
       "      <td>N</td>\n",
       "    </tr>\n",
       "    <tr>\n",
       "      <th>4</th>\n",
       "      <td>504</td>\n",
       "      <td>34223</td>\n",
       "      <td>M</td>\n",
       "      <td>33</td>\n",
       "      <td>7.1</td>\n",
       "      <td>46</td>\n",
       "      <td>4.9</td>\n",
       "      <td>4.9</td>\n",
       "      <td>1.0</td>\n",
       "      <td>0.8</td>\n",
       "      <td>2.0</td>\n",
       "      <td>0.4</td>\n",
       "      <td>21.0</td>\n",
       "      <td>N</td>\n",
       "    </tr>\n",
       "  </tbody>\n",
       "</table>\n",
       "</div>"
      ],
      "text/plain": [
       "    ID  No_Pation Gender  AGE  Urea  Cr  HbA1c  Chol   TG  HDL  LDL  VLDL  \\\n",
       "0  502      17975      F   50   4.7  46    4.9   4.2  0.9  2.4  1.4   0.5   \n",
       "1  735      34221      M   26   4.5  62    4.9   3.7  1.4  1.1  2.1   0.6   \n",
       "2  420      47975      F   50   4.7  46    4.9   4.2  0.9  2.4  1.4   0.5   \n",
       "3  680      87656      F   50   4.7  46    4.9   4.2  0.9  2.4  1.4   0.5   \n",
       "4  504      34223      M   33   7.1  46    4.9   4.9  1.0  0.8  2.0   0.4   \n",
       "\n",
       "    BMI CLASS  \n",
       "0  24.0     N  \n",
       "1  23.0     N  \n",
       "2  24.0     N  \n",
       "3  24.0     N  \n",
       "4  21.0     N  "
      ]
     },
     "execution_count": 2,
     "metadata": {},
     "output_type": "execute_result"
    }
   ],
   "source": [
    "df = pd.read_csv('C:\\\\Users\\\\hhale\\\\csci349_2024sp\\\\project\\\\data\\\\diabetes.csv')\n",
    "df.head()"
   ]
  },
  {
   "cell_type": "markdown",
   "id": "a538dd57-69fd-4e09-8aed-ed983bde11a7",
   "metadata": {},
   "source": [
    "\"The data were collected from the Iraqi society, as they data were acquired from the laboratory of Medical City Hospital and (the Specializes Center for Endocrinology and Diabetes-Al-Kindy Teaching Hospital). Patients' files were taken and data extracted from them and entered in to the database to construct the diabetes dataset. The data consist of medical information, laboratory analysis.\" Taken directly from the dataset download page"
   ]
  },
  {
   "cell_type": "code",
   "execution_count": 3,
   "id": "81f4975c-c417-4660-bf48-85f776cad1fd",
   "metadata": {},
   "outputs": [
    {
     "data": {
      "text/plain": [
       "(1000, 14)"
      ]
     },
     "execution_count": 3,
     "metadata": {},
     "output_type": "execute_result"
    }
   ],
   "source": [
    "df.shape"
   ]
  },
  {
   "cell_type": "markdown",
   "id": "e048b1ae-5598-4334-a6b8-31545346bbf9",
   "metadata": {},
   "source": [
    "The dataset has 1000 observations and 14 variables, including one target variable. The attributes are explained in the introduction."
   ]
  },
  {
   "cell_type": "code",
   "execution_count": 4,
   "id": "aaa511d0-c91f-4e12-baa4-ea636bdb2ebe",
   "metadata": {},
   "outputs": [
    {
     "name": "stdout",
     "output_type": "stream",
     "text": [
      "<class 'pandas.core.frame.DataFrame'>\n",
      "RangeIndex: 1000 entries, 0 to 999\n",
      "Data columns (total 14 columns):\n",
      " #   Column     Non-Null Count  Dtype  \n",
      "---  ------     --------------  -----  \n",
      " 0   ID         1000 non-null   int64  \n",
      " 1   No_Pation  1000 non-null   int64  \n",
      " 2   Gender     1000 non-null   object \n",
      " 3   AGE        1000 non-null   int64  \n",
      " 4   Urea       1000 non-null   float64\n",
      " 5   Cr         1000 non-null   int64  \n",
      " 6   HbA1c      1000 non-null   float64\n",
      " 7   Chol       1000 non-null   float64\n",
      " 8   TG         1000 non-null   float64\n",
      " 9   HDL        1000 non-null   float64\n",
      " 10  LDL        1000 non-null   float64\n",
      " 11  VLDL       1000 non-null   float64\n",
      " 12  BMI        1000 non-null   float64\n",
      " 13  CLASS      1000 non-null   object \n",
      "dtypes: float64(8), int64(4), object(2)\n",
      "memory usage: 109.5+ KB\n"
     ]
    }
   ],
   "source": [
    "df.info()"
   ]
  },
  {
   "cell_type": "code",
   "execution_count": 5,
   "id": "44b95620-e789-455c-8c4b-f5e656f7a213",
   "metadata": {},
   "outputs": [
    {
     "data": {
      "text/html": [
       "<div>\n",
       "<style scoped>\n",
       "    .dataframe tbody tr th:only-of-type {\n",
       "        vertical-align: middle;\n",
       "    }\n",
       "\n",
       "    .dataframe tbody tr th {\n",
       "        vertical-align: top;\n",
       "    }\n",
       "\n",
       "    .dataframe thead th {\n",
       "        text-align: right;\n",
       "    }\n",
       "</style>\n",
       "<table border=\"1\" class=\"dataframe\">\n",
       "  <thead>\n",
       "    <tr style=\"text-align: right;\">\n",
       "      <th></th>\n",
       "      <th>ID</th>\n",
       "      <th>No_Pation</th>\n",
       "      <th>AGE</th>\n",
       "      <th>Urea</th>\n",
       "      <th>Cr</th>\n",
       "      <th>HbA1c</th>\n",
       "      <th>Chol</th>\n",
       "      <th>TG</th>\n",
       "      <th>HDL</th>\n",
       "      <th>LDL</th>\n",
       "      <th>VLDL</th>\n",
       "      <th>BMI</th>\n",
       "    </tr>\n",
       "  </thead>\n",
       "  <tbody>\n",
       "    <tr>\n",
       "      <th>count</th>\n",
       "      <td>1000.000000</td>\n",
       "      <td>1.000000e+03</td>\n",
       "      <td>1000.000000</td>\n",
       "      <td>1000.000000</td>\n",
       "      <td>1000.000000</td>\n",
       "      <td>1000.000000</td>\n",
       "      <td>1000.000000</td>\n",
       "      <td>1000.000000</td>\n",
       "      <td>1000.000000</td>\n",
       "      <td>1000.000000</td>\n",
       "      <td>1000.000000</td>\n",
       "      <td>1000.000000</td>\n",
       "    </tr>\n",
       "    <tr>\n",
       "      <th>mean</th>\n",
       "      <td>340.500000</td>\n",
       "      <td>2.705514e+05</td>\n",
       "      <td>53.528000</td>\n",
       "      <td>5.124743</td>\n",
       "      <td>68.943000</td>\n",
       "      <td>8.281160</td>\n",
       "      <td>4.862820</td>\n",
       "      <td>2.349610</td>\n",
       "      <td>1.204750</td>\n",
       "      <td>2.609790</td>\n",
       "      <td>1.854700</td>\n",
       "      <td>29.578020</td>\n",
       "    </tr>\n",
       "    <tr>\n",
       "      <th>std</th>\n",
       "      <td>240.397673</td>\n",
       "      <td>3.380758e+06</td>\n",
       "      <td>8.799241</td>\n",
       "      <td>2.935165</td>\n",
       "      <td>59.984747</td>\n",
       "      <td>2.534003</td>\n",
       "      <td>1.301738</td>\n",
       "      <td>1.401176</td>\n",
       "      <td>0.660414</td>\n",
       "      <td>1.115102</td>\n",
       "      <td>3.663599</td>\n",
       "      <td>4.962388</td>\n",
       "    </tr>\n",
       "    <tr>\n",
       "      <th>min</th>\n",
       "      <td>1.000000</td>\n",
       "      <td>1.230000e+02</td>\n",
       "      <td>20.000000</td>\n",
       "      <td>0.500000</td>\n",
       "      <td>6.000000</td>\n",
       "      <td>0.900000</td>\n",
       "      <td>0.000000</td>\n",
       "      <td>0.300000</td>\n",
       "      <td>0.200000</td>\n",
       "      <td>0.300000</td>\n",
       "      <td>0.100000</td>\n",
       "      <td>19.000000</td>\n",
       "    </tr>\n",
       "    <tr>\n",
       "      <th>25%</th>\n",
       "      <td>125.750000</td>\n",
       "      <td>2.406375e+04</td>\n",
       "      <td>51.000000</td>\n",
       "      <td>3.700000</td>\n",
       "      <td>48.000000</td>\n",
       "      <td>6.500000</td>\n",
       "      <td>4.000000</td>\n",
       "      <td>1.500000</td>\n",
       "      <td>0.900000</td>\n",
       "      <td>1.800000</td>\n",
       "      <td>0.700000</td>\n",
       "      <td>26.000000</td>\n",
       "    </tr>\n",
       "    <tr>\n",
       "      <th>50%</th>\n",
       "      <td>300.500000</td>\n",
       "      <td>3.439550e+04</td>\n",
       "      <td>55.000000</td>\n",
       "      <td>4.600000</td>\n",
       "      <td>60.000000</td>\n",
       "      <td>8.000000</td>\n",
       "      <td>4.800000</td>\n",
       "      <td>2.000000</td>\n",
       "      <td>1.100000</td>\n",
       "      <td>2.500000</td>\n",
       "      <td>0.900000</td>\n",
       "      <td>30.000000</td>\n",
       "    </tr>\n",
       "    <tr>\n",
       "      <th>75%</th>\n",
       "      <td>550.250000</td>\n",
       "      <td>4.538425e+04</td>\n",
       "      <td>59.000000</td>\n",
       "      <td>5.700000</td>\n",
       "      <td>73.000000</td>\n",
       "      <td>10.200000</td>\n",
       "      <td>5.600000</td>\n",
       "      <td>2.900000</td>\n",
       "      <td>1.300000</td>\n",
       "      <td>3.300000</td>\n",
       "      <td>1.500000</td>\n",
       "      <td>33.000000</td>\n",
       "    </tr>\n",
       "    <tr>\n",
       "      <th>max</th>\n",
       "      <td>800.000000</td>\n",
       "      <td>7.543566e+07</td>\n",
       "      <td>79.000000</td>\n",
       "      <td>38.900000</td>\n",
       "      <td>800.000000</td>\n",
       "      <td>16.000000</td>\n",
       "      <td>10.300000</td>\n",
       "      <td>13.800000</td>\n",
       "      <td>9.900000</td>\n",
       "      <td>9.900000</td>\n",
       "      <td>35.000000</td>\n",
       "      <td>47.750000</td>\n",
       "    </tr>\n",
       "  </tbody>\n",
       "</table>\n",
       "</div>"
      ],
      "text/plain": [
       "                ID     No_Pation          AGE         Urea           Cr  \\\n",
       "count  1000.000000  1.000000e+03  1000.000000  1000.000000  1000.000000   \n",
       "mean    340.500000  2.705514e+05    53.528000     5.124743    68.943000   \n",
       "std     240.397673  3.380758e+06     8.799241     2.935165    59.984747   \n",
       "min       1.000000  1.230000e+02    20.000000     0.500000     6.000000   \n",
       "25%     125.750000  2.406375e+04    51.000000     3.700000    48.000000   \n",
       "50%     300.500000  3.439550e+04    55.000000     4.600000    60.000000   \n",
       "75%     550.250000  4.538425e+04    59.000000     5.700000    73.000000   \n",
       "max     800.000000  7.543566e+07    79.000000    38.900000   800.000000   \n",
       "\n",
       "             HbA1c         Chol           TG          HDL          LDL  \\\n",
       "count  1000.000000  1000.000000  1000.000000  1000.000000  1000.000000   \n",
       "mean      8.281160     4.862820     2.349610     1.204750     2.609790   \n",
       "std       2.534003     1.301738     1.401176     0.660414     1.115102   \n",
       "min       0.900000     0.000000     0.300000     0.200000     0.300000   \n",
       "25%       6.500000     4.000000     1.500000     0.900000     1.800000   \n",
       "50%       8.000000     4.800000     2.000000     1.100000     2.500000   \n",
       "75%      10.200000     5.600000     2.900000     1.300000     3.300000   \n",
       "max      16.000000    10.300000    13.800000     9.900000     9.900000   \n",
       "\n",
       "              VLDL          BMI  \n",
       "count  1000.000000  1000.000000  \n",
       "mean      1.854700    29.578020  \n",
       "std       3.663599     4.962388  \n",
       "min       0.100000    19.000000  \n",
       "25%       0.700000    26.000000  \n",
       "50%       0.900000    30.000000  \n",
       "75%       1.500000    33.000000  \n",
       "max      35.000000    47.750000  "
      ]
     },
     "execution_count": 5,
     "metadata": {},
     "output_type": "execute_result"
    }
   ],
   "source": [
    "df.describe()"
   ]
  },
  {
   "cell_type": "markdown",
   "id": "8e7c1630-6de2-4ff6-beb3-17289836924c",
   "metadata": {},
   "source": [
    "## Data Preparation"
   ]
  },
  {
   "cell_type": "code",
   "execution_count": 6,
   "id": "e4fe54cc-9bdb-4c93-a1cf-f108f9f15f04",
   "metadata": {},
   "outputs": [
    {
     "data": {
      "text/plain": [
       "CLASS\n",
       "Y     840\n",
       "N     102\n",
       "P      53\n",
       "Y       4\n",
       "N       1\n",
       "Name: count, dtype: int64"
      ]
     },
     "execution_count": 6,
     "metadata": {},
     "output_type": "execute_result"
    }
   ],
   "source": [
    "df[\"CLASS\"].value_counts()"
   ]
  },
  {
   "cell_type": "markdown",
   "id": "823daf14-0364-4901-b6cf-72bbcc7366bd",
   "metadata": {},
   "source": [
    "For some reason the Y and P categories of this target variable are repeated, so I will combine them down."
   ]
  },
  {
   "cell_type": "code",
   "execution_count": 7,
   "id": "a532f438-0fa3-4db2-933e-4c131c9a2ada",
   "metadata": {},
   "outputs": [
    {
     "data": {
      "text/plain": [
       "CLASS\n",
       "Y    844\n",
       "N    103\n",
       "P     53\n",
       "Name: count, dtype: int64"
      ]
     },
     "execution_count": 7,
     "metadata": {},
     "output_type": "execute_result"
    }
   ],
   "source": [
    "df[\"CLASS\"] = df[\"CLASS\"].str.upper()\n",
    "df[\"CLASS\"] = df[\"CLASS\"].str.strip()\n",
    "df['CLASS'] = pd.Categorical(df['CLASS'])\n",
    "df[\"CLASS\"].value_counts()"
   ]
  },
  {
   "cell_type": "markdown",
   "id": "5465b27f-4382-45ca-8b68-4f7b309cf57b",
   "metadata": {},
   "source": [
    "Fixed! Now let's look at the other categorical attribute, gender."
   ]
  },
  {
   "cell_type": "code",
   "execution_count": 8,
   "id": "beab48eb-200c-41a3-b7ff-b310f64a77bb",
   "metadata": {},
   "outputs": [
    {
     "data": {
      "text/plain": [
       "Gender\n",
       "M    565\n",
       "F    434\n",
       "f      1\n",
       "Name: count, dtype: int64"
      ]
     },
     "execution_count": 8,
     "metadata": {},
     "output_type": "execute_result"
    }
   ],
   "source": [
    "df[\"Gender\"].value_counts()"
   ]
  },
  {
   "cell_type": "markdown",
   "id": "b4e12f00-bada-4ade-8c7d-0300b297c634",
   "metadata": {},
   "source": [
    "Good thing we looked, there seems to be an improper entry! Let's fix that"
   ]
  },
  {
   "cell_type": "code",
   "execution_count": 9,
   "id": "61205437-88fb-4215-9481-cd9f5f977c43",
   "metadata": {},
   "outputs": [
    {
     "data": {
      "text/plain": [
       "Gender\n",
       "M    565\n",
       "F    435\n",
       "Name: count, dtype: int64"
      ]
     },
     "execution_count": 9,
     "metadata": {},
     "output_type": "execute_result"
    }
   ],
   "source": [
    "df[\"Gender\"] = df[\"Gender\"].str.upper()\n",
    "df[\"Gender\"] = df[\"Gender\"].str.strip()\n",
    "df[\"Gender\"] = pd.Categorical(df[\"Gender\"])\n",
    "df[\"Gender\"].value_counts()"
   ]
  },
  {
   "cell_type": "markdown",
   "id": "2425afe5-0b98-46fb-ac4e-14e45d39e896",
   "metadata": {},
   "source": [
    "Let's take a look and make sure that the ID attribute properly represents separate patients and/or observations."
   ]
  },
  {
   "cell_type": "code",
   "execution_count": 10,
   "id": "da57e263-43bf-457f-aaea-dae9314ffd54",
   "metadata": {},
   "outputs": [
    {
     "data": {
      "text/plain": [
       "ID\n",
       "522    1\n",
       "638    1\n",
       "541    1\n",
       "480    1\n",
       "481    1\n",
       "      ..\n",
       "353    1\n",
       "356    1\n",
       "488    1\n",
       "508    1\n",
       "248    1\n",
       "Name: count, Length: 600, dtype: int64"
      ]
     },
     "execution_count": 10,
     "metadata": {},
     "output_type": "execute_result"
    }
   ],
   "source": [
    "not_repeated = df[\"ID\"].value_counts()[df[\"ID\"].value_counts() < 2]\n",
    "not_repeated"
   ]
  },
  {
   "cell_type": "code",
   "execution_count": 11,
   "id": "e223fa35-5a9e-49cc-bf9a-fd6fa3177815",
   "metadata": {},
   "outputs": [
    {
     "data": {
      "text/plain": [
       "ID\n",
       "76     2\n",
       "108    2\n",
       "57     2\n",
       "26     2\n",
       "69     2\n",
       "      ..\n",
       "150    2\n",
       "49     2\n",
       "144    2\n",
       "145    2\n",
       "147    2\n",
       "Name: count, Length: 200, dtype: int64"
      ]
     },
     "execution_count": 11,
     "metadata": {},
     "output_type": "execute_result"
    }
   ],
   "source": [
    "repeated = df[\"ID\"].value_counts()[df[\"ID\"].value_counts() > 1]\n",
    "repeated"
   ]
  },
  {
   "cell_type": "markdown",
   "id": "16f3c72b-ea0d-496b-8bb6-9cc2e594afae",
   "metadata": {},
   "source": [
    "OK, there are 200 repeated IDs and therefore 400 observations that don't have unique IDs, is this intentional? Let's look at some observations with identical IDs."
   ]
  },
  {
   "cell_type": "code",
   "execution_count": 12,
   "id": "2a15e49d-140e-410b-97a2-99f16c6693c7",
   "metadata": {},
   "outputs": [
    {
     "name": "stdout",
     "output_type": "stream",
     "text": [
      "     ID  No_Pation Gender  AGE  Urea  Cr  HbA1c  Chol   TG  HDL  LDL  VLDL  \\\n",
      "249  76       9903      M   73   4.3  79    6.0   5.3  1.4  1.5  3.2   0.6   \n",
      "910  76       8978      M   60   5.4  64   10.4   3.8  1.5  0.8  2.3   0.6   \n",
      "\n",
      "      BMI CLASS  \n",
      "249  27.0     Y  \n",
      "910  31.0     Y  \n",
      "\n",
      "\n",
      "      ID  No_Pation Gender  AGE  Urea  Cr  HbA1c  Chol   TG  HDL  LDL  VLDL  \\\n",
      "183  108      24007      M   38   4.0  67   10.2   5.2  2.0  1.1  3.2  14.0   \n",
      "933  108      24345      M   51   2.5  55   13.0   6.3  7.2  1.2  3.3   2.8   \n",
      "\n",
      "      BMI CLASS  \n",
      "183  47.0     Y  \n",
      "933  35.0     Y  \n",
      "\n",
      "\n",
      "     ID  No_Pation Gender  AGE  Urea  Cr  HbA1c  Chol   TG  HDL  LDL  VLDL  \\\n",
      "165  57      23990      M   35   4.8  64    7.7   3.7  1.0  1.2  2.0   7.2   \n",
      "894  57       6544      M   54   3.0  67    7.0   4.8  1.7  1.3  2.8   0.7   \n",
      "\n",
      "      BMI CLASS  \n",
      "165  27.3     Y  \n",
      "894  26.0     Y  \n",
      "\n",
      "\n",
      "     ID  No_Pation Gender  AGE  Urea  Cr  HbA1c  Chol   TG  HDL  LDL  VLDL  \\\n",
      "748  26      34520      M   60   7.5  83    7.6   4.6  4.6  0.6  2.7   1.4   \n",
      "866  26      78151      M   54   3.8  62    8.8   5.4  2.2  1.1  7.0   0.9   \n",
      "\n",
      "      BMI CLASS  \n",
      "748  33.0     Y  \n",
      "866  30.0     Y  \n",
      "\n",
      "\n",
      "     ID  No_Pation Gender  AGE  Urea  Cr  HbA1c  Chol   TG  HDL  LDL  VLDL  \\\n",
      "167  69      23994      M   45   4.8  82    7.2   4.7  1.8  0.8  3.1  12.7   \n",
      "905  69      34677      F   54   3.8  59    9.1   6.5  2.6  1.4  4.0   1.1   \n",
      "\n",
      "      BMI CLASS  \n",
      "167  31.2     Y  \n",
      "905  33.0     Y  \n",
      "\n",
      "\n"
     ]
    }
   ],
   "source": [
    "for ID in repeated.head().index:\n",
    "    print(df[df[\"ID\"]==ID])\n",
    "    print(\"\\n\")"
   ]
  },
  {
   "cell_type": "markdown",
   "id": "a78faf8e-a668-4447-80ad-2274727da414",
   "metadata": {},
   "source": [
    "Due to some IDs being repeated despite representing different patients, I will just be removing the variable altogether and identify observations with dataframe indeces. I guarantee this will have minimal impact on the analysis."
   ]
  },
  {
   "cell_type": "code",
   "execution_count": 13,
   "id": "e1df57ab-4596-465e-b962-edd3b9537895",
   "metadata": {},
   "outputs": [
    {
     "data": {
      "text/html": [
       "<div>\n",
       "<style scoped>\n",
       "    .dataframe tbody tr th:only-of-type {\n",
       "        vertical-align: middle;\n",
       "    }\n",
       "\n",
       "    .dataframe tbody tr th {\n",
       "        vertical-align: top;\n",
       "    }\n",
       "\n",
       "    .dataframe thead th {\n",
       "        text-align: right;\n",
       "    }\n",
       "</style>\n",
       "<table border=\"1\" class=\"dataframe\">\n",
       "  <thead>\n",
       "    <tr style=\"text-align: right;\">\n",
       "      <th></th>\n",
       "      <th>No_Pation</th>\n",
       "      <th>Gender</th>\n",
       "      <th>AGE</th>\n",
       "      <th>Urea</th>\n",
       "      <th>Cr</th>\n",
       "      <th>HbA1c</th>\n",
       "      <th>Chol</th>\n",
       "      <th>TG</th>\n",
       "      <th>HDL</th>\n",
       "      <th>LDL</th>\n",
       "      <th>VLDL</th>\n",
       "      <th>BMI</th>\n",
       "      <th>CLASS</th>\n",
       "    </tr>\n",
       "  </thead>\n",
       "  <tbody>\n",
       "    <tr>\n",
       "      <th>0</th>\n",
       "      <td>17975</td>\n",
       "      <td>F</td>\n",
       "      <td>50</td>\n",
       "      <td>4.7</td>\n",
       "      <td>46</td>\n",
       "      <td>4.9</td>\n",
       "      <td>4.2</td>\n",
       "      <td>0.9</td>\n",
       "      <td>2.4</td>\n",
       "      <td>1.4</td>\n",
       "      <td>0.5</td>\n",
       "      <td>24.0</td>\n",
       "      <td>N</td>\n",
       "    </tr>\n",
       "    <tr>\n",
       "      <th>1</th>\n",
       "      <td>34221</td>\n",
       "      <td>M</td>\n",
       "      <td>26</td>\n",
       "      <td>4.5</td>\n",
       "      <td>62</td>\n",
       "      <td>4.9</td>\n",
       "      <td>3.7</td>\n",
       "      <td>1.4</td>\n",
       "      <td>1.1</td>\n",
       "      <td>2.1</td>\n",
       "      <td>0.6</td>\n",
       "      <td>23.0</td>\n",
       "      <td>N</td>\n",
       "    </tr>\n",
       "    <tr>\n",
       "      <th>2</th>\n",
       "      <td>47975</td>\n",
       "      <td>F</td>\n",
       "      <td>50</td>\n",
       "      <td>4.7</td>\n",
       "      <td>46</td>\n",
       "      <td>4.9</td>\n",
       "      <td>4.2</td>\n",
       "      <td>0.9</td>\n",
       "      <td>2.4</td>\n",
       "      <td>1.4</td>\n",
       "      <td>0.5</td>\n",
       "      <td>24.0</td>\n",
       "      <td>N</td>\n",
       "    </tr>\n",
       "    <tr>\n",
       "      <th>3</th>\n",
       "      <td>87656</td>\n",
       "      <td>F</td>\n",
       "      <td>50</td>\n",
       "      <td>4.7</td>\n",
       "      <td>46</td>\n",
       "      <td>4.9</td>\n",
       "      <td>4.2</td>\n",
       "      <td>0.9</td>\n",
       "      <td>2.4</td>\n",
       "      <td>1.4</td>\n",
       "      <td>0.5</td>\n",
       "      <td>24.0</td>\n",
       "      <td>N</td>\n",
       "    </tr>\n",
       "    <tr>\n",
       "      <th>4</th>\n",
       "      <td>34223</td>\n",
       "      <td>M</td>\n",
       "      <td>33</td>\n",
       "      <td>7.1</td>\n",
       "      <td>46</td>\n",
       "      <td>4.9</td>\n",
       "      <td>4.9</td>\n",
       "      <td>1.0</td>\n",
       "      <td>0.8</td>\n",
       "      <td>2.0</td>\n",
       "      <td>0.4</td>\n",
       "      <td>21.0</td>\n",
       "      <td>N</td>\n",
       "    </tr>\n",
       "  </tbody>\n",
       "</table>\n",
       "</div>"
      ],
      "text/plain": [
       "   No_Pation Gender  AGE  Urea  Cr  HbA1c  Chol   TG  HDL  LDL  VLDL   BMI  \\\n",
       "0      17975      F   50   4.7  46    4.9   4.2  0.9  2.4  1.4   0.5  24.0   \n",
       "1      34221      M   26   4.5  62    4.9   3.7  1.4  1.1  2.1   0.6  23.0   \n",
       "2      47975      F   50   4.7  46    4.9   4.2  0.9  2.4  1.4   0.5  24.0   \n",
       "3      87656      F   50   4.7  46    4.9   4.2  0.9  2.4  1.4   0.5  24.0   \n",
       "4      34223      M   33   7.1  46    4.9   4.9  1.0  0.8  2.0   0.4  21.0   \n",
       "\n",
       "  CLASS  \n",
       "0     N  \n",
       "1     N  \n",
       "2     N  \n",
       "3     N  \n",
       "4     N  "
      ]
     },
     "execution_count": 13,
     "metadata": {},
     "output_type": "execute_result"
    }
   ],
   "source": [
    "df = df.drop(\"ID\", axis=1)\n",
    "df.head()"
   ]
  },
  {
   "cell_type": "markdown",
   "id": "83b4fdf9-720e-4622-ad89-d132699aeaa8",
   "metadata": {},
   "source": [
    "The variable No_Pation which I believe is supposed to be the patient number is also completely useless here as there are multiple repeats describing two different patients and a specific number that occurs 19 times, so I will also be stripping that variable as well. Again, I don't foresee this impacting analysis at all."
   ]
  },
  {
   "cell_type": "code",
   "execution_count": 14,
   "id": "3fe6e1a8-b768-4322-907e-d315f13a8cfb",
   "metadata": {},
   "outputs": [
    {
     "data": {
      "text/plain": [
       "No_Pation\n",
       "454316    19\n",
       "856        2\n",
       "87654      2\n",
       "71741      2\n",
       "34290      2\n",
       "          ..\n",
       "34342      1\n",
       "3275       1\n",
       "34343      1\n",
       "23973      1\n",
       "24054      1\n",
       "Name: count, Length: 961, dtype: int64"
      ]
     },
     "execution_count": 14,
     "metadata": {},
     "output_type": "execute_result"
    }
   ],
   "source": [
    "df[\"No_Pation\"].value_counts()"
   ]
  },
  {
   "cell_type": "code",
   "execution_count": 15,
   "id": "b68000ba-90ac-4517-979e-80590a27d27f",
   "metadata": {},
   "outputs": [
    {
     "data": {
      "text/html": [
       "<div>\n",
       "<style scoped>\n",
       "    .dataframe tbody tr th:only-of-type {\n",
       "        vertical-align: middle;\n",
       "    }\n",
       "\n",
       "    .dataframe tbody tr th {\n",
       "        vertical-align: top;\n",
       "    }\n",
       "\n",
       "    .dataframe thead th {\n",
       "        text-align: right;\n",
       "    }\n",
       "</style>\n",
       "<table border=\"1\" class=\"dataframe\">\n",
       "  <thead>\n",
       "    <tr style=\"text-align: right;\">\n",
       "      <th></th>\n",
       "      <th>No_Pation</th>\n",
       "      <th>Gender</th>\n",
       "      <th>AGE</th>\n",
       "      <th>Urea</th>\n",
       "      <th>Cr</th>\n",
       "      <th>HbA1c</th>\n",
       "      <th>Chol</th>\n",
       "      <th>TG</th>\n",
       "      <th>HDL</th>\n",
       "      <th>LDL</th>\n",
       "      <th>VLDL</th>\n",
       "      <th>BMI</th>\n",
       "      <th>CLASS</th>\n",
       "    </tr>\n",
       "  </thead>\n",
       "  <tbody>\n",
       "    <tr>\n",
       "      <th>96</th>\n",
       "      <td>454316</td>\n",
       "      <td>F</td>\n",
       "      <td>54</td>\n",
       "      <td>6.3</td>\n",
       "      <td>106</td>\n",
       "      <td>5.6</td>\n",
       "      <td>4.3</td>\n",
       "      <td>2.0</td>\n",
       "      <td>1.3</td>\n",
       "      <td>2.2</td>\n",
       "      <td>0.9</td>\n",
       "      <td>20.0</td>\n",
       "      <td>N</td>\n",
       "    </tr>\n",
       "    <tr>\n",
       "      <th>97</th>\n",
       "      <td>454316</td>\n",
       "      <td>F</td>\n",
       "      <td>50</td>\n",
       "      <td>3.3</td>\n",
       "      <td>70</td>\n",
       "      <td>4.9</td>\n",
       "      <td>3.7</td>\n",
       "      <td>0.9</td>\n",
       "      <td>1.2</td>\n",
       "      <td>2.7</td>\n",
       "      <td>0.6</td>\n",
       "      <td>24.0</td>\n",
       "      <td>N</td>\n",
       "    </tr>\n",
       "    <tr>\n",
       "      <th>98</th>\n",
       "      <td>454316</td>\n",
       "      <td>M</td>\n",
       "      <td>60</td>\n",
       "      <td>7.5</td>\n",
       "      <td>70</td>\n",
       "      <td>0.9</td>\n",
       "      <td>3.4</td>\n",
       "      <td>5.3</td>\n",
       "      <td>1.1</td>\n",
       "      <td>3.6</td>\n",
       "      <td>0.8</td>\n",
       "      <td>24.0</td>\n",
       "      <td>N</td>\n",
       "    </tr>\n",
       "    <tr>\n",
       "      <th>99</th>\n",
       "      <td>454316</td>\n",
       "      <td>M</td>\n",
       "      <td>77</td>\n",
       "      <td>5.0</td>\n",
       "      <td>106</td>\n",
       "      <td>5.4</td>\n",
       "      <td>0.0</td>\n",
       "      <td>2.8</td>\n",
       "      <td>0.8</td>\n",
       "      <td>1.8</td>\n",
       "      <td>0.7</td>\n",
       "      <td>19.0</td>\n",
       "      <td>N</td>\n",
       "    </tr>\n",
       "    <tr>\n",
       "      <th>100</th>\n",
       "      <td>454316</td>\n",
       "      <td>F</td>\n",
       "      <td>59</td>\n",
       "      <td>4.7</td>\n",
       "      <td>58</td>\n",
       "      <td>4.1</td>\n",
       "      <td>4.5</td>\n",
       "      <td>1.8</td>\n",
       "      <td>1.8</td>\n",
       "      <td>1.8</td>\n",
       "      <td>1.3</td>\n",
       "      <td>22.5</td>\n",
       "      <td>N</td>\n",
       "    </tr>\n",
       "    <tr>\n",
       "      <th>101</th>\n",
       "      <td>454316</td>\n",
       "      <td>F</td>\n",
       "      <td>57</td>\n",
       "      <td>4.6</td>\n",
       "      <td>97</td>\n",
       "      <td>0.9</td>\n",
       "      <td>3.2</td>\n",
       "      <td>1.3</td>\n",
       "      <td>0.9</td>\n",
       "      <td>3.0</td>\n",
       "      <td>1.1</td>\n",
       "      <td>22.0</td>\n",
       "      <td>N</td>\n",
       "    </tr>\n",
       "    <tr>\n",
       "      <th>981</th>\n",
       "      <td>454316</td>\n",
       "      <td>M</td>\n",
       "      <td>65</td>\n",
       "      <td>5.0</td>\n",
       "      <td>97</td>\n",
       "      <td>7.0</td>\n",
       "      <td>4.3</td>\n",
       "      <td>4.3</td>\n",
       "      <td>1.4</td>\n",
       "      <td>1.5</td>\n",
       "      <td>2.0</td>\n",
       "      <td>27.0</td>\n",
       "      <td>Y</td>\n",
       "    </tr>\n",
       "    <tr>\n",
       "      <th>982</th>\n",
       "      <td>454316</td>\n",
       "      <td>F</td>\n",
       "      <td>54</td>\n",
       "      <td>5.0</td>\n",
       "      <td>88</td>\n",
       "      <td>6.8</td>\n",
       "      <td>5.1</td>\n",
       "      <td>2.1</td>\n",
       "      <td>1.1</td>\n",
       "      <td>3.0</td>\n",
       "      <td>1.0</td>\n",
       "      <td>30.0</td>\n",
       "      <td>Y</td>\n",
       "    </tr>\n",
       "    <tr>\n",
       "      <th>983</th>\n",
       "      <td>454316</td>\n",
       "      <td>M</td>\n",
       "      <td>64</td>\n",
       "      <td>8.8</td>\n",
       "      <td>106</td>\n",
       "      <td>8.5</td>\n",
       "      <td>5.9</td>\n",
       "      <td>2.1</td>\n",
       "      <td>1.2</td>\n",
       "      <td>4.0</td>\n",
       "      <td>1.2</td>\n",
       "      <td>32.0</td>\n",
       "      <td>Y</td>\n",
       "    </tr>\n",
       "    <tr>\n",
       "      <th>984</th>\n",
       "      <td>454316</td>\n",
       "      <td>F</td>\n",
       "      <td>60</td>\n",
       "      <td>5.0</td>\n",
       "      <td>70</td>\n",
       "      <td>8.1</td>\n",
       "      <td>5.2</td>\n",
       "      <td>3.3</td>\n",
       "      <td>1.4</td>\n",
       "      <td>0.6</td>\n",
       "      <td>3.0</td>\n",
       "      <td>27.0</td>\n",
       "      <td>Y</td>\n",
       "    </tr>\n",
       "    <tr>\n",
       "      <th>985</th>\n",
       "      <td>454316</td>\n",
       "      <td>F</td>\n",
       "      <td>75</td>\n",
       "      <td>10.3</td>\n",
       "      <td>113</td>\n",
       "      <td>8.6</td>\n",
       "      <td>4.2</td>\n",
       "      <td>1.6</td>\n",
       "      <td>0.9</td>\n",
       "      <td>2.6</td>\n",
       "      <td>0.7</td>\n",
       "      <td>32.0</td>\n",
       "      <td>Y</td>\n",
       "    </tr>\n",
       "    <tr>\n",
       "      <th>986</th>\n",
       "      <td>454316</td>\n",
       "      <td>M</td>\n",
       "      <td>58</td>\n",
       "      <td>4.0</td>\n",
       "      <td>55</td>\n",
       "      <td>7.9</td>\n",
       "      <td>4.9</td>\n",
       "      <td>2.0</td>\n",
       "      <td>1.2</td>\n",
       "      <td>1.4</td>\n",
       "      <td>1.1</td>\n",
       "      <td>35.0</td>\n",
       "      <td>Y</td>\n",
       "    </tr>\n",
       "    <tr>\n",
       "      <th>987</th>\n",
       "      <td>454316</td>\n",
       "      <td>M</td>\n",
       "      <td>55</td>\n",
       "      <td>5.4</td>\n",
       "      <td>62</td>\n",
       "      <td>6.8</td>\n",
       "      <td>5.3</td>\n",
       "      <td>2.0</td>\n",
       "      <td>1.0</td>\n",
       "      <td>3.5</td>\n",
       "      <td>0.9</td>\n",
       "      <td>30.1</td>\n",
       "      <td>Y</td>\n",
       "    </tr>\n",
       "    <tr>\n",
       "      <th>988</th>\n",
       "      <td>454316</td>\n",
       "      <td>M</td>\n",
       "      <td>55</td>\n",
       "      <td>4.8</td>\n",
       "      <td>88</td>\n",
       "      <td>11.1</td>\n",
       "      <td>5.7</td>\n",
       "      <td>4.0</td>\n",
       "      <td>0.9</td>\n",
       "      <td>3.3</td>\n",
       "      <td>1.8</td>\n",
       "      <td>30.0</td>\n",
       "      <td>Y</td>\n",
       "    </tr>\n",
       "    <tr>\n",
       "      <th>989</th>\n",
       "      <td>454316</td>\n",
       "      <td>M</td>\n",
       "      <td>62</td>\n",
       "      <td>6.3</td>\n",
       "      <td>82</td>\n",
       "      <td>6.7</td>\n",
       "      <td>5.3</td>\n",
       "      <td>2.0</td>\n",
       "      <td>1.0</td>\n",
       "      <td>3.5</td>\n",
       "      <td>0.9</td>\n",
       "      <td>30.1</td>\n",
       "      <td>Y</td>\n",
       "    </tr>\n",
       "    <tr>\n",
       "      <th>990</th>\n",
       "      <td>454316</td>\n",
       "      <td>F</td>\n",
       "      <td>57</td>\n",
       "      <td>4.1</td>\n",
       "      <td>70</td>\n",
       "      <td>9.3</td>\n",
       "      <td>5.3</td>\n",
       "      <td>3.3</td>\n",
       "      <td>1.0</td>\n",
       "      <td>1.4</td>\n",
       "      <td>1.3</td>\n",
       "      <td>29.0</td>\n",
       "      <td>Y</td>\n",
       "    </tr>\n",
       "    <tr>\n",
       "      <th>992</th>\n",
       "      <td>454316</td>\n",
       "      <td>M</td>\n",
       "      <td>55</td>\n",
       "      <td>3.1</td>\n",
       "      <td>39</td>\n",
       "      <td>8.5</td>\n",
       "      <td>5.0</td>\n",
       "      <td>2.5</td>\n",
       "      <td>1.9</td>\n",
       "      <td>2.9</td>\n",
       "      <td>0.7</td>\n",
       "      <td>27.0</td>\n",
       "      <td>Y</td>\n",
       "    </tr>\n",
       "    <tr>\n",
       "      <th>993</th>\n",
       "      <td>454316</td>\n",
       "      <td>M</td>\n",
       "      <td>28</td>\n",
       "      <td>3.5</td>\n",
       "      <td>61</td>\n",
       "      <td>8.5</td>\n",
       "      <td>4.5</td>\n",
       "      <td>1.9</td>\n",
       "      <td>1.1</td>\n",
       "      <td>2.6</td>\n",
       "      <td>0.8</td>\n",
       "      <td>37.0</td>\n",
       "      <td>Y</td>\n",
       "    </tr>\n",
       "    <tr>\n",
       "      <th>994</th>\n",
       "      <td>454316</td>\n",
       "      <td>M</td>\n",
       "      <td>69</td>\n",
       "      <td>10.3</td>\n",
       "      <td>185</td>\n",
       "      <td>7.7</td>\n",
       "      <td>4.9</td>\n",
       "      <td>1.9</td>\n",
       "      <td>1.2</td>\n",
       "      <td>3.0</td>\n",
       "      <td>0.7</td>\n",
       "      <td>37.0</td>\n",
       "      <td>Y</td>\n",
       "    </tr>\n",
       "  </tbody>\n",
       "</table>\n",
       "</div>"
      ],
      "text/plain": [
       "     No_Pation Gender  AGE  Urea   Cr  HbA1c  Chol   TG  HDL  LDL  VLDL   BMI  \\\n",
       "96      454316      F   54   6.3  106    5.6   4.3  2.0  1.3  2.2   0.9  20.0   \n",
       "97      454316      F   50   3.3   70    4.9   3.7  0.9  1.2  2.7   0.6  24.0   \n",
       "98      454316      M   60   7.5   70    0.9   3.4  5.3  1.1  3.6   0.8  24.0   \n",
       "99      454316      M   77   5.0  106    5.4   0.0  2.8  0.8  1.8   0.7  19.0   \n",
       "100     454316      F   59   4.7   58    4.1   4.5  1.8  1.8  1.8   1.3  22.5   \n",
       "101     454316      F   57   4.6   97    0.9   3.2  1.3  0.9  3.0   1.1  22.0   \n",
       "981     454316      M   65   5.0   97    7.0   4.3  4.3  1.4  1.5   2.0  27.0   \n",
       "982     454316      F   54   5.0   88    6.8   5.1  2.1  1.1  3.0   1.0  30.0   \n",
       "983     454316      M   64   8.8  106    8.5   5.9  2.1  1.2  4.0   1.2  32.0   \n",
       "984     454316      F   60   5.0   70    8.1   5.2  3.3  1.4  0.6   3.0  27.0   \n",
       "985     454316      F   75  10.3  113    8.6   4.2  1.6  0.9  2.6   0.7  32.0   \n",
       "986     454316      M   58   4.0   55    7.9   4.9  2.0  1.2  1.4   1.1  35.0   \n",
       "987     454316      M   55   5.4   62    6.8   5.3  2.0  1.0  3.5   0.9  30.1   \n",
       "988     454316      M   55   4.8   88   11.1   5.7  4.0  0.9  3.3   1.8  30.0   \n",
       "989     454316      M   62   6.3   82    6.7   5.3  2.0  1.0  3.5   0.9  30.1   \n",
       "990     454316      F   57   4.1   70    9.3   5.3  3.3  1.0  1.4   1.3  29.0   \n",
       "992     454316      M   55   3.1   39    8.5   5.0  2.5  1.9  2.9   0.7  27.0   \n",
       "993     454316      M   28   3.5   61    8.5   4.5  1.9  1.1  2.6   0.8  37.0   \n",
       "994     454316      M   69  10.3  185    7.7   4.9  1.9  1.2  3.0   0.7  37.0   \n",
       "\n",
       "    CLASS  \n",
       "96      N  \n",
       "97      N  \n",
       "98      N  \n",
       "99      N  \n",
       "100     N  \n",
       "101     N  \n",
       "981     Y  \n",
       "982     Y  \n",
       "983     Y  \n",
       "984     Y  \n",
       "985     Y  \n",
       "986     Y  \n",
       "987     Y  \n",
       "988     Y  \n",
       "989     Y  \n",
       "990     Y  \n",
       "992     Y  \n",
       "993     Y  \n",
       "994     Y  "
      ]
     },
     "execution_count": 15,
     "metadata": {},
     "output_type": "execute_result"
    }
   ],
   "source": [
    "df[df[\"No_Pation\"]==454316]"
   ]
  },
  {
   "cell_type": "markdown",
   "id": "de989301-1ee7-4ee5-a71a-8f9793d45118",
   "metadata": {},
   "source": [
    "Let's remove it here."
   ]
  },
  {
   "cell_type": "code",
   "execution_count": 16,
   "id": "47317496-af5a-4123-84cb-57c4431e58d1",
   "metadata": {},
   "outputs": [
    {
     "data": {
      "text/html": [
       "<div>\n",
       "<style scoped>\n",
       "    .dataframe tbody tr th:only-of-type {\n",
       "        vertical-align: middle;\n",
       "    }\n",
       "\n",
       "    .dataframe tbody tr th {\n",
       "        vertical-align: top;\n",
       "    }\n",
       "\n",
       "    .dataframe thead th {\n",
       "        text-align: right;\n",
       "    }\n",
       "</style>\n",
       "<table border=\"1\" class=\"dataframe\">\n",
       "  <thead>\n",
       "    <tr style=\"text-align: right;\">\n",
       "      <th></th>\n",
       "      <th>Gender</th>\n",
       "      <th>AGE</th>\n",
       "      <th>Urea</th>\n",
       "      <th>Cr</th>\n",
       "      <th>HbA1c</th>\n",
       "      <th>Chol</th>\n",
       "      <th>TG</th>\n",
       "      <th>HDL</th>\n",
       "      <th>LDL</th>\n",
       "      <th>VLDL</th>\n",
       "      <th>BMI</th>\n",
       "      <th>CLASS</th>\n",
       "    </tr>\n",
       "  </thead>\n",
       "  <tbody>\n",
       "    <tr>\n",
       "      <th>0</th>\n",
       "      <td>F</td>\n",
       "      <td>50</td>\n",
       "      <td>4.7</td>\n",
       "      <td>46</td>\n",
       "      <td>4.9</td>\n",
       "      <td>4.2</td>\n",
       "      <td>0.9</td>\n",
       "      <td>2.4</td>\n",
       "      <td>1.4</td>\n",
       "      <td>0.5</td>\n",
       "      <td>24.0</td>\n",
       "      <td>N</td>\n",
       "    </tr>\n",
       "    <tr>\n",
       "      <th>1</th>\n",
       "      <td>M</td>\n",
       "      <td>26</td>\n",
       "      <td>4.5</td>\n",
       "      <td>62</td>\n",
       "      <td>4.9</td>\n",
       "      <td>3.7</td>\n",
       "      <td>1.4</td>\n",
       "      <td>1.1</td>\n",
       "      <td>2.1</td>\n",
       "      <td>0.6</td>\n",
       "      <td>23.0</td>\n",
       "      <td>N</td>\n",
       "    </tr>\n",
       "    <tr>\n",
       "      <th>2</th>\n",
       "      <td>F</td>\n",
       "      <td>50</td>\n",
       "      <td>4.7</td>\n",
       "      <td>46</td>\n",
       "      <td>4.9</td>\n",
       "      <td>4.2</td>\n",
       "      <td>0.9</td>\n",
       "      <td>2.4</td>\n",
       "      <td>1.4</td>\n",
       "      <td>0.5</td>\n",
       "      <td>24.0</td>\n",
       "      <td>N</td>\n",
       "    </tr>\n",
       "    <tr>\n",
       "      <th>3</th>\n",
       "      <td>F</td>\n",
       "      <td>50</td>\n",
       "      <td>4.7</td>\n",
       "      <td>46</td>\n",
       "      <td>4.9</td>\n",
       "      <td>4.2</td>\n",
       "      <td>0.9</td>\n",
       "      <td>2.4</td>\n",
       "      <td>1.4</td>\n",
       "      <td>0.5</td>\n",
       "      <td>24.0</td>\n",
       "      <td>N</td>\n",
       "    </tr>\n",
       "    <tr>\n",
       "      <th>4</th>\n",
       "      <td>M</td>\n",
       "      <td>33</td>\n",
       "      <td>7.1</td>\n",
       "      <td>46</td>\n",
       "      <td>4.9</td>\n",
       "      <td>4.9</td>\n",
       "      <td>1.0</td>\n",
       "      <td>0.8</td>\n",
       "      <td>2.0</td>\n",
       "      <td>0.4</td>\n",
       "      <td>21.0</td>\n",
       "      <td>N</td>\n",
       "    </tr>\n",
       "  </tbody>\n",
       "</table>\n",
       "</div>"
      ],
      "text/plain": [
       "  Gender  AGE  Urea  Cr  HbA1c  Chol   TG  HDL  LDL  VLDL   BMI CLASS\n",
       "0      F   50   4.7  46    4.9   4.2  0.9  2.4  1.4   0.5  24.0     N\n",
       "1      M   26   4.5  62    4.9   3.7  1.4  1.1  2.1   0.6  23.0     N\n",
       "2      F   50   4.7  46    4.9   4.2  0.9  2.4  1.4   0.5  24.0     N\n",
       "3      F   50   4.7  46    4.9   4.2  0.9  2.4  1.4   0.5  24.0     N\n",
       "4      M   33   7.1  46    4.9   4.9  1.0  0.8  2.0   0.4  21.0     N"
      ]
     },
     "execution_count": 16,
     "metadata": {},
     "output_type": "execute_result"
    }
   ],
   "source": [
    "df = df.iloc[:, 1:]\n",
    "df.head()"
   ]
  },
  {
   "cell_type": "markdown",
   "id": "14f8b039-5881-4b2a-bc34-47bd7f4131ec",
   "metadata": {},
   "source": [
    "Let's do some renaming of the attributes for consistency (Acronyms all caps, otherwise not)"
   ]
  },
  {
   "cell_type": "code",
   "execution_count": 17,
   "id": "f3263846-9e8b-40e1-b5dc-82ba99e1a4ed",
   "metadata": {},
   "outputs": [
    {
     "data": {
      "text/html": [
       "<div>\n",
       "<style scoped>\n",
       "    .dataframe tbody tr th:only-of-type {\n",
       "        vertical-align: middle;\n",
       "    }\n",
       "\n",
       "    .dataframe tbody tr th {\n",
       "        vertical-align: top;\n",
       "    }\n",
       "\n",
       "    .dataframe thead th {\n",
       "        text-align: right;\n",
       "    }\n",
       "</style>\n",
       "<table border=\"1\" class=\"dataframe\">\n",
       "  <thead>\n",
       "    <tr style=\"text-align: right;\">\n",
       "      <th></th>\n",
       "      <th>Gender</th>\n",
       "      <th>Age</th>\n",
       "      <th>UREA</th>\n",
       "      <th>CR</th>\n",
       "      <th>HBA1C</th>\n",
       "      <th>CHOL</th>\n",
       "      <th>TG</th>\n",
       "      <th>HDL</th>\n",
       "      <th>LDL</th>\n",
       "      <th>VLDL</th>\n",
       "      <th>BMI</th>\n",
       "      <th>Target</th>\n",
       "    </tr>\n",
       "  </thead>\n",
       "  <tbody>\n",
       "    <tr>\n",
       "      <th>0</th>\n",
       "      <td>F</td>\n",
       "      <td>50</td>\n",
       "      <td>4.7</td>\n",
       "      <td>46</td>\n",
       "      <td>4.9</td>\n",
       "      <td>4.2</td>\n",
       "      <td>0.9</td>\n",
       "      <td>2.4</td>\n",
       "      <td>1.4</td>\n",
       "      <td>0.5</td>\n",
       "      <td>24.0</td>\n",
       "      <td>N</td>\n",
       "    </tr>\n",
       "    <tr>\n",
       "      <th>1</th>\n",
       "      <td>M</td>\n",
       "      <td>26</td>\n",
       "      <td>4.5</td>\n",
       "      <td>62</td>\n",
       "      <td>4.9</td>\n",
       "      <td>3.7</td>\n",
       "      <td>1.4</td>\n",
       "      <td>1.1</td>\n",
       "      <td>2.1</td>\n",
       "      <td>0.6</td>\n",
       "      <td>23.0</td>\n",
       "      <td>N</td>\n",
       "    </tr>\n",
       "    <tr>\n",
       "      <th>2</th>\n",
       "      <td>F</td>\n",
       "      <td>50</td>\n",
       "      <td>4.7</td>\n",
       "      <td>46</td>\n",
       "      <td>4.9</td>\n",
       "      <td>4.2</td>\n",
       "      <td>0.9</td>\n",
       "      <td>2.4</td>\n",
       "      <td>1.4</td>\n",
       "      <td>0.5</td>\n",
       "      <td>24.0</td>\n",
       "      <td>N</td>\n",
       "    </tr>\n",
       "    <tr>\n",
       "      <th>3</th>\n",
       "      <td>F</td>\n",
       "      <td>50</td>\n",
       "      <td>4.7</td>\n",
       "      <td>46</td>\n",
       "      <td>4.9</td>\n",
       "      <td>4.2</td>\n",
       "      <td>0.9</td>\n",
       "      <td>2.4</td>\n",
       "      <td>1.4</td>\n",
       "      <td>0.5</td>\n",
       "      <td>24.0</td>\n",
       "      <td>N</td>\n",
       "    </tr>\n",
       "    <tr>\n",
       "      <th>4</th>\n",
       "      <td>M</td>\n",
       "      <td>33</td>\n",
       "      <td>7.1</td>\n",
       "      <td>46</td>\n",
       "      <td>4.9</td>\n",
       "      <td>4.9</td>\n",
       "      <td>1.0</td>\n",
       "      <td>0.8</td>\n",
       "      <td>2.0</td>\n",
       "      <td>0.4</td>\n",
       "      <td>21.0</td>\n",
       "      <td>N</td>\n",
       "    </tr>\n",
       "  </tbody>\n",
       "</table>\n",
       "</div>"
      ],
      "text/plain": [
       "  Gender  Age  UREA  CR  HBA1C  CHOL   TG  HDL  LDL  VLDL   BMI Target\n",
       "0      F   50   4.7  46    4.9   4.2  0.9  2.4  1.4   0.5  24.0      N\n",
       "1      M   26   4.5  62    4.9   3.7  1.4  1.1  2.1   0.6  23.0      N\n",
       "2      F   50   4.7  46    4.9   4.2  0.9  2.4  1.4   0.5  24.0      N\n",
       "3      F   50   4.7  46    4.9   4.2  0.9  2.4  1.4   0.5  24.0      N\n",
       "4      M   33   7.1  46    4.9   4.9  1.0  0.8  2.0   0.4  21.0      N"
      ]
     },
     "execution_count": 17,
     "metadata": {},
     "output_type": "execute_result"
    }
   ],
   "source": [
    "df = df.rename(columns={\"AGE\": \"Age\", \"Urea\": \"UREA\", \"Cr\": \"CR\", \"HbA1c\": \"HBA1C\", \"Chol\": \"CHOL\", \"CLASS\": \"Target\"})\n",
    "df.head()"
   ]
  },
  {
   "cell_type": "markdown",
   "id": "fe913896-6e7a-447a-9df1-fde2d32f41a7",
   "metadata": {},
   "source": [
    "To finish off the data preparation, I would like to include and show the distributions of the attributes so we can get an idea of the data we are working with."
   ]
  },
  {
   "cell_type": "markdown",
   "id": "bd2b359d-6375-4def-a144-ff03f476c9bc",
   "metadata": {},
   "source": [
    "### Target Distribution"
   ]
  },
  {
   "cell_type": "code",
   "execution_count": 18,
   "id": "c9e210b9-25df-4873-b761-f420691cbd10",
   "metadata": {},
   "outputs": [
    {
     "data": {
      "image/png": "[encoded data removed]",
      "text/plain": [
       "<Figure size 800x600 with 1 Axes>"
      ]
     },
     "metadata": {},
     "output_type": "display_data"
    }
   ],
   "source": [
    "plt.figure(figsize=(8, 6))\n",
    "df[\"Target\"].value_counts().plot(kind=\"bar\", color=\"skyblue\")\n",
    "plt.title(\"Distribution of Class Type for Target Variable\")\n",
    "plt.xlabel(\"Type\")\n",
    "plt.ylabel(\"Occurrences\")\n",
    "plt.xticks(rotation=0)\n",
    "plt.show()"
   ]
  },
  {
   "cell_type": "markdown",
   "id": "ac22a04e-af8c-4cb6-8263-e95502d1197f",
   "metadata": {},
   "source": [
    "### Gender Distribution"
   ]
  },
  {
   "cell_type": "code",
   "execution_count": 19,
   "id": "0807c195-69a0-48a0-b6a6-31ea4171a00f",
   "metadata": {},
   "outputs": [
    {
     "data": {
      "image/png": "[encoded data removed]",
      "text/plain": [
       "<Figure size 800x600 with 1 Axes>"
      ]
     },
     "metadata": {},
     "output_type": "display_data"
    }
   ],
   "source": [
    "plt.figure(figsize=(8, 6))\n",
    "df[\"Gender\"].value_counts().plot(kind=\"bar\", color=\"skyblue\")\n",
    "plt.title(\"Gender Distribution\")\n",
    "plt.xlabel(\"Gender\")\n",
    "plt.ylabel(\"Occurrences\")\n",
    "plt.xticks(rotation=0)\n",
    "plt.show()"
   ]
  },
  {
   "cell_type": "markdown",
   "id": "3c631288-aad7-4365-808c-fc785ca5ea88",
   "metadata": {},
   "source": [
    "### Age Distribution"
   ]
  },
  {
   "cell_type": "code",
   "execution_count": 20,
   "id": "43bcbe69-15f7-49c9-804c-784f334749fb",
   "metadata": {},
   "outputs": [
    {
     "data": {
      "image/png": "[encoded data removed]",
      "text/plain": [
       "<Figure size 800x600 with 1 Axes>"
      ]
     },
     "metadata": {},
     "output_type": "display_data"
    }
   ],
   "source": [
    "plt.figure(figsize=(8, 6))\n",
    "plt.hist(df[\"Age\"], bins=10, color='skyblue', edgecolor='black')\n",
    "plt.title(\"Histogram of Age\")\n",
    "plt.xlabel(\"Age\")\n",
    "plt.ylabel(\"Frequency\")\n",
    "plt.grid(True)\n",
    "plt.show()"
   ]
  },
  {
   "cell_type": "markdown",
   "id": "794997c7-373f-4b29-aa9d-1caf63f89f48",
   "metadata": {},
   "source": [
    "### Health Metrics Disributions"
   ]
  },
  {
   "cell_type": "code",
   "execution_count": 21,
   "id": "6b2cf1d3-07f3-4fce-bece-fd428cd6680a",
   "metadata": {},
   "outputs": [
    {
     "data": {
      "image/png": "[encoded data removed]",
      "text/plain": [
       "<Figure size 800x600 with 1 Axes>"
      ]
     },
     "metadata": {},
     "output_type": "display_data"
    }
   ],
   "source": [
    "plt.figure(figsize=(8, 6))\n",
    "plt.hist(df[\"UREA\"], bins=10, color='skyblue', edgecolor='black')\n",
    "plt.title(\"Histogram of UREA\")\n",
    "plt.xlabel(\"UREA\")\n",
    "plt.ylabel(\"Frequency\")\n",
    "plt.grid(True)\n",
    "plt.show()"
   ]
  },
  {
   "cell_type": "code",
   "execution_count": 22,
   "id": "a3ee7295-ab5a-4cda-9233-d170bed00809",
   "metadata": {},
   "outputs": [
    {
     "data": {
      "image/png": "[encoded data removed]",
      "text/plain": [
       "<Figure size 800x600 with 1 Axes>"
      ]
     },
     "metadata": {},
     "output_type": "display_data"
    }
   ],
   "source": [
    "plt.figure(figsize=(8, 6))\n",
    "df.boxplot(column=[\"UREA\", \"HBA1C\", \"CHOL\"])\n",
    "plt.title(\"Box and Whisker Plot for UREA, HBA1C, and CHOL\")\n",
    "plt.ylabel(\"Value\")\n",
    "plt.show()"
   ]
  },
  {
   "cell_type": "code",
   "execution_count": 23,
   "id": "b71a1360-b90e-482d-a369-9911f1472489",
   "metadata": {},
   "outputs": [
    {
     "data": {
      "image/png": "[encoded data removed]",
      "text/plain": [
       "<Figure size 800x600 with 1 Axes>"
      ]
     },
     "metadata": {},
     "output_type": "display_data"
    }
   ],
   "source": [
    "plt.figure(figsize=(8, 6))\n",
    "df.boxplot(column=['TG', 'HDL', 'LDL', 'VLDL'])\n",
    "plt.title('Box and Whisker Plot for TG, HDL, LDL, and VLDL')\n",
    "plt.ylabel('Value')\n",
    "plt.show()"
   ]
  },
  {
   "cell_type": "code",
   "execution_count": 24,
   "id": "2965de60-2723-4b38-bf6d-d708be33767f",
   "metadata": {},
   "outputs": [
    {
     "data": {
      "image/png": "[encoded data removed]",
      "text/plain": [
       "<Figure size 800x600 with 2 Axes>"
      ]
     },
     "metadata": {},
     "output_type": "display_data"
    }
   ],
   "source": [
    "numeric_df = df.select_dtypes(include=['number'])\n",
    "corr_matrix = numeric_df.corr()\n",
    "\n",
    "plt.figure(figsize=(8, 6))\n",
    "sns.heatmap(corr_matrix, annot=True, cmap='coolwarm', fmt=\".2f\")\n",
    "plt.title('Correlation Heatmap')\n",
    "plt.show()"
   ]
  },
  {
   "cell_type": "markdown",
   "id": "f6f72f0f-edcf-414c-874d-f643441378f0",
   "metadata": {},
   "source": [
    "### Value Averages per Target Class"
   ]
  },
  {
   "cell_type": "code",
   "execution_count": 25,
   "id": "72fc7bd5-2777-472c-972c-585050afd2ef",
   "metadata": {},
   "outputs": [
    {
     "data": {
      "text/html": [
       "<div>\n",
       "<style scoped>\n",
       "    .dataframe tbody tr th:only-of-type {\n",
       "        vertical-align: middle;\n",
       "    }\n",
       "\n",
       "    .dataframe tbody tr th {\n",
       "        vertical-align: top;\n",
       "    }\n",
       "\n",
       "    .dataframe thead th {\n",
       "        text-align: right;\n",
       "    }\n",
       "</style>\n",
       "<table border=\"1\" class=\"dataframe\">\n",
       "  <thead>\n",
       "    <tr style=\"text-align: right;\">\n",
       "      <th></th>\n",
       "      <th>Age</th>\n",
       "      <th>UREA</th>\n",
       "      <th>CR</th>\n",
       "      <th>HBA1C</th>\n",
       "      <th>CHOL</th>\n",
       "      <th>TG</th>\n",
       "      <th>HDL</th>\n",
       "      <th>LDL</th>\n",
       "      <th>VLDL</th>\n",
       "      <th>BMI</th>\n",
       "    </tr>\n",
       "    <tr>\n",
       "      <th>Target</th>\n",
       "      <th></th>\n",
       "      <th></th>\n",
       "      <th></th>\n",
       "      <th></th>\n",
       "      <th></th>\n",
       "      <th></th>\n",
       "      <th></th>\n",
       "      <th></th>\n",
       "      <th></th>\n",
       "      <th></th>\n",
       "    </tr>\n",
       "  </thead>\n",
       "  <tbody>\n",
       "    <tr>\n",
       "      <th>N</th>\n",
       "      <td>44.233010</td>\n",
       "      <td>4.680583</td>\n",
       "      <td>62.796117</td>\n",
       "      <td>4.560194</td>\n",
       "      <td>4.268932</td>\n",
       "      <td>1.625243</td>\n",
       "      <td>1.227184</td>\n",
       "      <td>2.625243</td>\n",
       "      <td>0.943689</td>\n",
       "      <td>22.374757</td>\n",
       "    </tr>\n",
       "    <tr>\n",
       "      <th>P</th>\n",
       "      <td>43.283019</td>\n",
       "      <td>4.511321</td>\n",
       "      <td>66.075472</td>\n",
       "      <td>6.003774</td>\n",
       "      <td>4.579245</td>\n",
       "      <td>2.126415</td>\n",
       "      <td>1.127358</td>\n",
       "      <td>2.493396</td>\n",
       "      <td>0.983019</td>\n",
       "      <td>23.933962</td>\n",
       "    </tr>\n",
       "    <tr>\n",
       "      <th>Y</th>\n",
       "      <td>55.305687</td>\n",
       "      <td>5.217468</td>\n",
       "      <td>69.873223</td>\n",
       "      <td>8.878270</td>\n",
       "      <td>4.953104</td>\n",
       "      <td>2.452026</td>\n",
       "      <td>1.206872</td>\n",
       "      <td>2.615213</td>\n",
       "      <td>2.020616</td>\n",
       "      <td>30.811517</td>\n",
       "    </tr>\n",
       "  </tbody>\n",
       "</table>\n",
       "</div>"
      ],
      "text/plain": [
       "              Age      UREA         CR     HBA1C      CHOL        TG  \\\n",
       "Target                                                                 \n",
       "N       44.233010  4.680583  62.796117  4.560194  4.268932  1.625243   \n",
       "P       43.283019  4.511321  66.075472  6.003774  4.579245  2.126415   \n",
       "Y       55.305687  5.217468  69.873223  8.878270  4.953104  2.452026   \n",
       "\n",
       "             HDL       LDL      VLDL        BMI  \n",
       "Target                                           \n",
       "N       1.227184  2.625243  0.943689  22.374757  \n",
       "P       1.127358  2.493396  0.983019  23.933962  \n",
       "Y       1.206872  2.615213  2.020616  30.811517  "
      ]
     },
     "execution_count": 25,
     "metadata": {},
     "output_type": "execute_result"
    }
   ],
   "source": [
    "tmp = df.drop(\"Gender\", axis=1)\n",
    "means = tmp.groupby(\"Target\", observed=False).mean()\n",
    "means"
   ]
  },
  {
   "cell_type": "markdown",
   "id": "06ecbe17-2630-4add-a1d2-4ed3a89e0434",
   "metadata": {},
   "source": [
    "Now let's take a look at our fully prepared dataframe before we begin modeling."
   ]
  },
  {
   "cell_type": "code",
   "execution_count": 26,
   "id": "17b56ab3-0193-439a-a38d-b5965a984e68",
   "metadata": {},
   "outputs": [
    {
     "data": {
      "text/html": [
       "<div>\n",
       "<style scoped>\n",
       "    .dataframe tbody tr th:only-of-type {\n",
       "        vertical-align: middle;\n",
       "    }\n",
       "\n",
       "    .dataframe tbody tr th {\n",
       "        vertical-align: top;\n",
       "    }\n",
       "\n",
       "    .dataframe thead th {\n",
       "        text-align: right;\n",
       "    }\n",
       "</style>\n",
       "<table border=\"1\" class=\"dataframe\">\n",
       "  <thead>\n",
       "    <tr style=\"text-align: right;\">\n",
       "      <th></th>\n",
       "      <th>Gender</th>\n",
       "      <th>Age</th>\n",
       "      <th>UREA</th>\n",
       "      <th>CR</th>\n",
       "      <th>HBA1C</th>\n",
       "      <th>CHOL</th>\n",
       "      <th>TG</th>\n",
       "      <th>HDL</th>\n",
       "      <th>LDL</th>\n",
       "      <th>VLDL</th>\n",
       "      <th>BMI</th>\n",
       "      <th>Target</th>\n",
       "    </tr>\n",
       "  </thead>\n",
       "  <tbody>\n",
       "    <tr>\n",
       "      <th>0</th>\n",
       "      <td>F</td>\n",
       "      <td>50</td>\n",
       "      <td>4.7</td>\n",
       "      <td>46</td>\n",
       "      <td>4.9</td>\n",
       "      <td>4.2</td>\n",
       "      <td>0.9</td>\n",
       "      <td>2.4</td>\n",
       "      <td>1.4</td>\n",
       "      <td>0.5</td>\n",
       "      <td>24.0</td>\n",
       "      <td>N</td>\n",
       "    </tr>\n",
       "    <tr>\n",
       "      <th>1</th>\n",
       "      <td>M</td>\n",
       "      <td>26</td>\n",
       "      <td>4.5</td>\n",
       "      <td>62</td>\n",
       "      <td>4.9</td>\n",
       "      <td>3.7</td>\n",
       "      <td>1.4</td>\n",
       "      <td>1.1</td>\n",
       "      <td>2.1</td>\n",
       "      <td>0.6</td>\n",
       "      <td>23.0</td>\n",
       "      <td>N</td>\n",
       "    </tr>\n",
       "    <tr>\n",
       "      <th>2</th>\n",
       "      <td>F</td>\n",
       "      <td>50</td>\n",
       "      <td>4.7</td>\n",
       "      <td>46</td>\n",
       "      <td>4.9</td>\n",
       "      <td>4.2</td>\n",
       "      <td>0.9</td>\n",
       "      <td>2.4</td>\n",
       "      <td>1.4</td>\n",
       "      <td>0.5</td>\n",
       "      <td>24.0</td>\n",
       "      <td>N</td>\n",
       "    </tr>\n",
       "    <tr>\n",
       "      <th>3</th>\n",
       "      <td>F</td>\n",
       "      <td>50</td>\n",
       "      <td>4.7</td>\n",
       "      <td>46</td>\n",
       "      <td>4.9</td>\n",
       "      <td>4.2</td>\n",
       "      <td>0.9</td>\n",
       "      <td>2.4</td>\n",
       "      <td>1.4</td>\n",
       "      <td>0.5</td>\n",
       "      <td>24.0</td>\n",
       "      <td>N</td>\n",
       "    </tr>\n",
       "    <tr>\n",
       "      <th>4</th>\n",
       "      <td>M</td>\n",
       "      <td>33</td>\n",
       "      <td>7.1</td>\n",
       "      <td>46</td>\n",
       "      <td>4.9</td>\n",
       "      <td>4.9</td>\n",
       "      <td>1.0</td>\n",
       "      <td>0.8</td>\n",
       "      <td>2.0</td>\n",
       "      <td>0.4</td>\n",
       "      <td>21.0</td>\n",
       "      <td>N</td>\n",
       "    </tr>\n",
       "  </tbody>\n",
       "</table>\n",
       "</div>"
      ],
      "text/plain": [
       "  Gender  Age  UREA  CR  HBA1C  CHOL   TG  HDL  LDL  VLDL   BMI Target\n",
       "0      F   50   4.7  46    4.9   4.2  0.9  2.4  1.4   0.5  24.0      N\n",
       "1      M   26   4.5  62    4.9   3.7  1.4  1.1  2.1   0.6  23.0      N\n",
       "2      F   50   4.7  46    4.9   4.2  0.9  2.4  1.4   0.5  24.0      N\n",
       "3      F   50   4.7  46    4.9   4.2  0.9  2.4  1.4   0.5  24.0      N\n",
       "4      M   33   7.1  46    4.9   4.9  1.0  0.8  2.0   0.4  21.0      N"
      ]
     },
     "execution_count": 26,
     "metadata": {},
     "output_type": "execute_result"
    }
   ],
   "source": [
    "df.head()"
   ]
  },
  {
   "cell_type": "markdown",
   "id": "a958e507-b83f-46d1-af9a-6424d2e5798a",
   "metadata": {},
   "source": [
    "Looking at the distributions of the attributes as well as the dataset overall, there are a couple of takeaways\n",
    "\n",
    "    - There is a clear class imbalance as there are over 800 instances with the target variable belonging to class Y, around 100 with N and around 50 with P. I will look to use modeling methods that are not sensitive to class imbalance and potentially use under or over sampling to deal with it as well.\n",
    "\n",
    "    - The number of instances is not ideal for more in depth machine learning as there are only 1000 observations. It will be a challenge to effectively separate and choose training versus test data with so few observations and avoid overfitting.\n",
    "\n",
    "    - Most of the patients in the study are age 50 and up, and so that explains the majority inclusion of positive diagnoses in the data, and portrays a bias built into the dataset."
   ]
  },
  {
   "cell_type": "markdown",
   "id": "51e39349-fa3e-44e5-857a-efcbd005946e",
   "metadata": {},
   "source": [
    "## Modeling"
   ]
  },
  {
   "cell_type": "markdown",
   "id": "57d13459-13f2-4b33-b056-86d948f0cc5e",
   "metadata": {},
   "source": [
    "For my modeling portion of the project, I chose a couple of classifying methods that I thought would work best for my circumstances, and I also used grid search to try and tune hyperparameters of some of these methods to better fit the data. I began by using some ensemble methods to try and deal with the class imbalance, so I used random forest, and gradient boosting to begin. I then did a gridsearch to try and find the optimal hyperparameters to pair with these ensemble methods, but unfortunately the best performances in the grid search results for both were inferior to the classifiers with default hyperparameters. After this, I attempted to utilize oversampling using SMOTE (Synthetic Minority Oversampling Technique) with random forest which gave us our best predictive performance out of all of the considered methods to that point. I then used SMOTE in tandem with gradient boosting, which did not garner superior results, and finally with the decisiion tree classifier, which also did not yield anything special. Below are the cells in which the machine learning is performed."
   ]
  },
  {
   "cell_type": "code",
   "execution_count": 27,
   "id": "55beb974-f86d-4838-8cd7-9f7c6cb16965",
   "metadata": {},
   "outputs": [],
   "source": [
    "X = df.drop(\"Target\", axis=1)\n",
    "y = df[\"Target\"]"
   ]
  },
  {
   "cell_type": "code",
   "execution_count": 28,
   "id": "9222214f-7575-4792-b01e-8ca7aaf2de78",
   "metadata": {},
   "outputs": [],
   "source": [
    "X_encoded = pd.get_dummies(X, columns=['Gender'], drop_first=True)"
   ]
  },
  {
   "cell_type": "code",
   "execution_count": 29,
   "id": "dd5d6d5c-59c1-4ee1-aaf2-be727c4c2140",
   "metadata": {},
   "outputs": [],
   "source": [
    "X_train, X_test, y_train, y_test = train_test_split(X_encoded, y, test_size=0.2, random_state=42)"
   ]
  },
  {
   "cell_type": "markdown",
   "id": "b556a6a5-d2de-4dbc-a024-2d6cd13567d2",
   "metadata": {},
   "source": [
    "Using the random forest ensemble classifier to deal with the built-in class imbalance"
   ]
  },
  {
   "cell_type": "code",
   "execution_count": 30,
   "id": "20c15f01-b2a8-4de6-b77f-23723d506330",
   "metadata": {},
   "outputs": [
    {
     "name": "stdout",
     "output_type": "stream",
     "text": [
      "Random Forest Classifier(train):\n",
      "              precision    recall  f1-score   support\n",
      "\n",
      "           N       1.00      1.00      1.00        82\n",
      "           P       1.00      1.00      1.00        47\n",
      "           Y       1.00      1.00      1.00       671\n",
      "\n",
      "    accuracy                           1.00       800\n",
      "   macro avg       1.00      1.00      1.00       800\n",
      "weighted avg       1.00      1.00      1.00       800\n",
      "\n",
      "Random Forest Classifier(test):\n",
      "              precision    recall  f1-score   support\n",
      "\n",
      "           N       0.95      0.95      0.95        21\n",
      "           P       1.00      1.00      1.00         6\n",
      "           Y       0.99      0.99      0.99       173\n",
      "\n",
      "    accuracy                           0.99       200\n",
      "   macro avg       0.98      0.98      0.98       200\n",
      "weighted avg       0.99      0.99      0.99       200\n",
      "\n"
     ]
    }
   ],
   "source": [
    "rf_classifier = RandomForestClassifier(random_state=0)\n",
    "rf_classifier.fit(X_train, y_train)\n",
    "rf_predictions_train = rf_classifier.predict(X_train)\n",
    "rf_predictions = rf_classifier.predict(X_test)\n",
    "\n",
    "print(\"Random Forest Classifier(train):\")\n",
    "print(classification_report(y_train, rf_predictions_train))\n",
    "\n",
    "print(\"Random Forest Classifier(test):\")\n",
    "print(classification_report(y_test, rf_predictions))"
   ]
  },
  {
   "cell_type": "code",
   "execution_count": 31,
   "id": "3dcf4268-1af3-47fa-b6af-01a5823fc9cd",
   "metadata": {},
   "outputs": [
    {
     "data": {
      "image/png": "[encoded data removed]",
      "text/plain": [
       "<Figure size 800x600 with 1 Axes>"
      ]
     },
     "metadata": {},
     "output_type": "display_data"
    },
    {
     "data": {
      "image/png": "[encoded data removed]",
      "text/plain": [
       "<Figure size 800x600 with 1 Axes>"
      ]
     },
     "metadata": {},
     "output_type": "display_data"
    }
   ],
   "source": [
    "plt.figure(figsize=(8, 6))\n",
    "sns.heatmap(confusion_matrix(y_train, rf_predictions_train), annot=True, fmt=\"d\", cmap=\"Blues\", cbar=False)\n",
    "plt.title(\"Confusion Matrix for Random Forest Classifier (Training Set)\")\n",
    "plt.xlabel(\"Predicted\")\n",
    "plt.ylabel(\"True\")\n",
    "plt.show()\n",
    "\n",
    "plt.figure(figsize=(8, 6))\n",
    "sns.heatmap(confusion_matrix(y_test, rf_predictions), annot=True, fmt=\"d\", cmap=\"Blues\", cbar=False)\n",
    "plt.title(\"Confusion Matrix for Random Forest Classifier (Testing Set)\")\n",
    "plt.xlabel(\"Predicted\")\n",
    "plt.ylabel(\"True\")\n",
    "plt.show()"
   ]
  },
  {
   "cell_type": "markdown",
   "id": "12ef5f4a-61d5-481a-b7a3-3b388511a468",
   "metadata": {},
   "source": [
    "Using the gradient boosting classifier to deal with the built-in class imbalance"
   ]
  },
  {
   "cell_type": "code",
   "execution_count": 32,
   "id": "3756dafb-5180-4a86-8c64-5ed0e69bf931",
   "metadata": {},
   "outputs": [
    {
     "name": "stdout",
     "output_type": "stream",
     "text": [
      "\n",
      "Gradient Boosting Classifier(train):\n",
      "              precision    recall  f1-score   support\n",
      "\n",
      "           N       1.00      1.00      1.00        82\n",
      "           P       1.00      1.00      1.00        47\n",
      "           Y       1.00      1.00      1.00       671\n",
      "\n",
      "    accuracy                           1.00       800\n",
      "   macro avg       1.00      1.00      1.00       800\n",
      "weighted avg       1.00      1.00      1.00       800\n",
      "\n",
      "\n",
      "Gradient Boosting Classifier(test):\n",
      "              precision    recall  f1-score   support\n",
      "\n",
      "           N       0.95      0.90      0.93        21\n",
      "           P       1.00      1.00      1.00         6\n",
      "           Y       0.99      0.99      0.99       173\n",
      "\n",
      "    accuracy                           0.98       200\n",
      "   macro avg       0.98      0.97      0.97       200\n",
      "weighted avg       0.98      0.98      0.98       200\n",
      "\n"
     ]
    }
   ],
   "source": [
    "gb_classifier = GradientBoostingClassifier(random_state=0)\n",
    "gb_classifier.fit(X_train, y_train)\n",
    "gb_predictions_train = gb_classifier.predict(X_train)\n",
    "gb_predictions = gb_classifier.predict(X_test)\n",
    "\n",
    "print(\"\\nGradient Boosting Classifier(train):\")\n",
    "print(classification_report(y_train, gb_predictions_train))\n",
    "\n",
    "print(\"\\nGradient Boosting Classifier(test):\")\n",
    "print(classification_report(y_test, gb_predictions))"
   ]
  },
  {
   "cell_type": "markdown",
   "id": "39270823-ba56-4fe6-8952-621c791fc26a",
   "metadata": {},
   "source": [
    "As you can see both ensemble classification techniques performed very similarly, both nearing 100% accuracy. Let's see if we can try and use grid search to try and perfect performance on the test data."
   ]
  },
  {
   "cell_type": "code",
   "execution_count": 33,
   "id": "595405be-c440-48bd-9749-75ee70f6ab44",
   "metadata": {},
   "outputs": [
    {
     "data": {
      "image/png": "[encoded data removed]",
      "text/plain": [
       "<Figure size 800x600 with 1 Axes>"
      ]
     },
     "metadata": {},
     "output_type": "display_data"
    },
    {
     "data": {
      "image/png": "[encoded data removed]",
      "text/plain": [
       "<Figure size 800x600 with 1 Axes>"
      ]
     },
     "metadata": {},
     "output_type": "display_data"
    }
   ],
   "source": [
    "plt.figure(figsize=(8, 6))\n",
    "sns.heatmap(confusion_matrix(y_train, gb_predictions_train), annot=True, fmt=\"d\", cmap=\"Blues\", cbar=False)\n",
    "plt.title(\"Confusion Matrix for Gradient Boosting Classifier (Training Set)\")\n",
    "plt.xlabel(\"Predicted\")\n",
    "plt.ylabel(\"True\")\n",
    "plt.show()\n",
    "\n",
    "plt.figure(figsize=(8, 6))\n",
    "sns.heatmap(confusion_matrix(y_test, gb_predictions), annot=True, fmt=\"d\", cmap=\"Blues\", cbar=False)\n",
    "plt.title(\"Confusion Matrix for Gradient Boosting Classifier (Testing Set)\")\n",
    "plt.xlabel(\"Predicted\")\n",
    "plt.ylabel(\"True\")\n",
    "plt.show()"
   ]
  },
  {
   "cell_type": "code",
   "execution_count": 34,
   "id": "0a34d417-0b52-4bfb-ac61-dcaf019391ba",
   "metadata": {},
   "outputs": [
    {
     "name": "stdout",
     "output_type": "stream",
     "text": [
      "Fitting 5 folds for each of 81 candidates, totalling 405 fits\n",
      "Best Random Forest Classifier:\n",
      "              precision    recall  f1-score   support\n",
      "\n",
      "           N       0.95      0.95      0.95        21\n",
      "           P       1.00      1.00      1.00         6\n",
      "           Y       0.99      0.99      0.99       173\n",
      "\n",
      "    accuracy                           0.99       200\n",
      "   macro avg       0.98      0.98      0.98       200\n",
      "weighted avg       0.99      0.99      0.99       200\n",
      "\n",
      "CPU times: total: 4.75 s\n",
      "Wall time: 1min 16s\n"
     ]
    }
   ],
   "source": [
    "%%time\n",
    "\n",
    "rf_param_grid = {\n",
    "    'n_estimators': [100, 200, 300],\n",
    "    'max_depth': [None, 10, 20],\n",
    "    'min_samples_split': [2, 5, 10],\n",
    "    'min_samples_leaf': [1, 2, 4]\n",
    "}\n",
    "\n",
    "rf_grid_search = GridSearchCV(RandomForestClassifier(random_state=0), param_grid=rf_param_grid, cv=5, n_jobs=-1, verbose=2)\n",
    "rf_grid_search.fit(X_train, y_train)\n",
    "\n",
    "best_rf_model = rf_grid_search.best_estimator_\n",
    "rf_predictions = best_rf_model.predict(X_test)\n",
    "\n",
    "print(\"Best Random Forest Classifier:\")\n",
    "print(classification_report(y_test, rf_predictions))"
   ]
  },
  {
   "cell_type": "code",
   "execution_count": 35,
   "id": "88b38577-1d51-42cf-bbdd-1efc0b99a90f",
   "metadata": {},
   "outputs": [
    {
     "name": "stdout",
     "output_type": "stream",
     "text": [
      "Fitting 5 folds for each of 486 candidates, totalling 2430 fits\n",
      "\n",
      "Best Gradient Boosting Classifier:\n",
      "              precision    recall  f1-score   support\n",
      "\n",
      "           N       0.95      0.95      0.95        21\n",
      "           P       1.00      1.00      1.00         6\n",
      "           Y       0.99      0.99      0.99       173\n",
      "\n",
      "    accuracy                           0.99       200\n",
      "   macro avg       0.98      0.98      0.98       200\n",
      "weighted avg       0.99      0.99      0.99       200\n",
      "\n",
      "CPU times: total: 24.4 s\n",
      "Wall time: 18min 27s\n"
     ]
    }
   ],
   "source": [
    "%%time\n",
    "\n",
    "gb_param_grid = {\n",
    "    'n_estimators': [100, 200, 300],\n",
    "    'learning_rate': [0.05, 0.1, 0.2],\n",
    "    'max_depth': [3, 4, 5],\n",
    "    'min_samples_split': [2, 5, 10],\n",
    "    'min_samples_leaf': [1, 2, 4],\n",
    "    'subsample': [0.8, 1.0]\n",
    "}\n",
    "\n",
    "gb_grid_search = GridSearchCV(GradientBoostingClassifier(random_state=0), param_grid=gb_param_grid, cv=5, n_jobs=-1, verbose=2)\n",
    "gb_grid_search.fit(X_train, y_train)\n",
    "\n",
    "best_gb_model = gb_grid_search.best_estimator_\n",
    "gb_predictions = best_gb_model.predict(X_test)\n",
    "\n",
    "print(\"\\nBest Gradient Boosting Classifier:\")\n",
    "print(classification_report(y_test, gb_predictions))"
   ]
  },
  {
   "cell_type": "code",
   "execution_count": 36,
   "id": "bfbee581-b71c-4a20-b556-9e37ae33af06",
   "metadata": {},
   "outputs": [],
   "source": [
    "smote = SMOTE(random_state=0)\n",
    "X_train_resampled, y_train_resampled = smote.fit_resample(X_train, y_train)\n",
    "\n",
    "rf_classifier = RandomForestClassifier(random_state=0)\n",
    "rf_classifier.fit(X_train_resampled, y_train_resampled)\n",
    "rf_predictions = rf_classifier.predict(X_test)"
   ]
  },
  {
   "cell_type": "code",
   "execution_count": 37,
   "id": "f90d2332-2d9b-48a1-afc8-a1c1eb52119f",
   "metadata": {},
   "outputs": [
    {
     "name": "stdout",
     "output_type": "stream",
     "text": [
      "Random Forest Classifier with SMOTE:\n",
      "              precision    recall  f1-score   support\n",
      "\n",
      "           N       0.95      1.00      0.98        21\n",
      "           P       1.00      1.00      1.00         6\n",
      "           Y       1.00      0.99      1.00       173\n",
      "\n",
      "    accuracy                           0.99       200\n",
      "   macro avg       0.98      1.00      0.99       200\n",
      "weighted avg       1.00      0.99      1.00       200\n",
      "\n"
     ]
    }
   ],
   "source": [
    "print(\"Random Forest Classifier with SMOTE:\")\n",
    "print(classification_report(y_test, rf_predictions))"
   ]
  },
  {
   "cell_type": "markdown",
   "id": "8201fcd6-88d2-4fca-8a3e-bc463addbcec",
   "metadata": {},
   "source": [
    "Using SMOTE in tandem with random forests gave us our best performance so far, let's try it with gradient boosting now."
   ]
  },
  {
   "cell_type": "code",
   "execution_count": 38,
   "id": "17171a3f-5303-4b0a-acd0-48f20119ea1e",
   "metadata": {},
   "outputs": [
    {
     "name": "stdout",
     "output_type": "stream",
     "text": [
      "\n",
      "Gradient Boosting Classifier with SMOTE:\n",
      "              precision    recall  f1-score   support\n",
      "\n",
      "           N       0.95      1.00      0.98        21\n",
      "           P       0.86      1.00      0.92         6\n",
      "           Y       1.00      0.99      0.99       173\n",
      "\n",
      "    accuracy                           0.99       200\n",
      "   macro avg       0.94      1.00      0.96       200\n",
      "weighted avg       0.99      0.99      0.99       200\n",
      "\n"
     ]
    }
   ],
   "source": [
    "gb_classifier = GradientBoostingClassifier(random_state=0)\n",
    "gb_classifier.fit(X_train_resampled, y_train_resampled)\n",
    "gb_predictions = gb_classifier.predict(X_test)\n",
    "\n",
    "print(\"\\nGradient Boosting Classifier with SMOTE:\")\n",
    "print(classification_report(y_test, gb_predictions))"
   ]
  },
  {
   "cell_type": "code",
   "execution_count": 39,
   "id": "c0bb008b-b7e6-4224-a38e-832d8d86faf9",
   "metadata": {},
   "outputs": [
    {
     "data": {
      "image/png": "[encoded data removed]",
      "text/plain": [
       "<Figure size 800x600 with 1 Axes>"
      ]
     },
     "metadata": {},
     "output_type": "display_data"
    }
   ],
   "source": [
    "plt.figure(figsize=(8, 6))\n",
    "sns.heatmap(confusion_matrix(y_test, gb_predictions), annot=True, fmt=\"d\", cmap=\"Blues\", cbar=False)\n",
    "plt.title(\"Confusion Matrix for Gradient Boosting Classifier with SMOTE (Testing Set)\")\n",
    "plt.xlabel(\"Predicted\")\n",
    "plt.ylabel(\"True\")\n",
    "plt.show()"
   ]
  },
  {
   "cell_type": "markdown",
   "id": "67fa2130-f6ec-4431-a0c9-b1b5fa64ffed",
   "metadata": {},
   "source": [
    "Now let's just try a simple decision tree classifier with SMOTE"
   ]
  },
  {
   "cell_type": "code",
   "execution_count": 40,
   "id": "7c7a5a8d-cc3d-4e76-856e-171880524fde",
   "metadata": {},
   "outputs": [
    {
     "name": "stdout",
     "output_type": "stream",
     "text": [
      "\n",
      "Decision Tree Classifier with SMOTE:\n",
      "              precision    recall  f1-score   support\n",
      "\n",
      "           N       0.95      0.95      0.95        21\n",
      "           P       0.86      1.00      0.92         6\n",
      "           Y       0.99      0.99      0.99       173\n",
      "\n",
      "    accuracy                           0.98       200\n",
      "   macro avg       0.93      0.98      0.96       200\n",
      "weighted avg       0.99      0.98      0.99       200\n",
      "\n"
     ]
    }
   ],
   "source": [
    "dt_classifier = DecisionTreeClassifier(random_state=0)\n",
    "dt_classifier.fit(X_train_resampled, y_train_resampled)\n",
    "dt_predictions = dt_classifier.predict(X_test)\n",
    "\n",
    "print(\"\\nDecision Tree Classifier with SMOTE:\")\n",
    "print(classification_report(y_test, dt_predictions))"
   ]
  },
  {
   "cell_type": "code",
   "execution_count": 41,
   "id": "e120335a-9a40-473e-b1c3-057cf0cd116f",
   "metadata": {},
   "outputs": [
    {
     "data": {
      "image/png": "[encoded data removed]",
      "text/plain": [
       "<Figure size 800x600 with 1 Axes>"
      ]
     },
     "metadata": {},
     "output_type": "display_data"
    }
   ],
   "source": [
    "conf_matrix = confusion_matrix(y_test, dt_predictions)\n",
    "\n",
    "plt.figure(figsize=(8, 6))\n",
    "sns.heatmap(conf_matrix, annot=True, fmt=\"d\", cmap=\"Blues\", cbar=False)\n",
    "plt.title(\"Confusion Matrix for Decision Tree Classifier with SMOTE\")\n",
    "plt.xlabel(\"Predicted\")\n",
    "plt.ylabel(\"True\")\n",
    "plt.show()"
   ]
  },
  {
   "cell_type": "markdown",
   "id": "66d383b9-a4db-4ee3-bc96-d49476eae84b",
   "metadata": {},
   "source": [
    "## Performance Results"
   ]
  },
  {
   "cell_type": "markdown",
   "id": "d92f1ae4-da8a-4a0d-90c6-bea1c909e7be",
   "metadata": {},
   "source": [
    "As I mentioned before, the random forest classifier in tandem with SMOTE yielded the best predictive results for this dataset. I will show the predictive results as well as some visual tools to provide further context to these results."
   ]
  },
  {
   "cell_type": "code",
   "execution_count": 42,
   "id": "b922fa3e-fd4a-498d-a4f6-c5d63a9622f2",
   "metadata": {},
   "outputs": [
    {
     "name": "stdout",
     "output_type": "stream",
     "text": [
      "Random Forest Classifier with SMOTE:\n",
      "              precision    recall  f1-score   support\n",
      "\n",
      "           N       0.95      1.00      0.98        21\n",
      "           P       1.00      1.00      1.00         6\n",
      "           Y       1.00      0.99      1.00       173\n",
      "\n",
      "    accuracy                           0.99       200\n",
      "   macro avg       0.98      1.00      0.99       200\n",
      "weighted avg       1.00      0.99      1.00       200\n",
      "\n"
     ]
    }
   ],
   "source": [
    "print(\"Random Forest Classifier with SMOTE:\")\n",
    "print(classification_report(y_test, rf_predictions))"
   ]
  },
  {
   "cell_type": "code",
   "execution_count": 43,
   "id": "8722e024-e72b-4f8a-88a8-5cd9c46fd4bc",
   "metadata": {},
   "outputs": [
    {
     "data": {
      "image/png": "[encoded data removed]",
      "text/plain": [
       "<Figure size 800x600 with 1 Axes>"
      ]
     },
     "metadata": {},
     "output_type": "display_data"
    }
   ],
   "source": [
    "plt.figure(figsize=(8, 6))\n",
    "sns.heatmap(confusion_matrix(y_test, rf_predictions), annot=True, fmt=\"d\", cmap=\"Blues\", cbar=False)\n",
    "plt.title(\"Confusion Matrix for Random Forest Classifier with SMOTE (Testing Set)\")\n",
    "plt.xlabel(\"Predicted\")\n",
    "plt.ylabel(\"True\")\n",
    "plt.show()"
   ]
  },
  {
   "cell_type": "code",
   "execution_count": 44,
   "id": "014e8204-30c5-420a-b30e-2841dfa6a711",
   "metadata": {},
   "outputs": [
    {
     "data": {
      "image/png": "[encoded data removed]",
      "text/plain": [
       "<Figure size 1000x800 with 1 Axes>"
      ]
     },
     "metadata": {},
     "output_type": "display_data"
    }
   ],
   "source": [
    "y_test_binarized = label_binarize(y_test, classes=np.unique(y_test))\n",
    "rf_probs = rf_classifier.predict_proba(X_test)\n",
    "\n",
    "n_classes = y_test_binarized.shape[1]\n",
    "fpr = dict()\n",
    "tpr = dict()\n",
    "roc_auc = dict()\n",
    "for i in range(n_classes):\n",
    "    fpr[i], tpr[i], _ = roc_curve(y_test_binarized[:, i], rf_probs[:, i])\n",
    "    roc_auc[i] = auc(fpr[i], tpr[i])\n",
    "\n",
    "fpr[\"micro\"], tpr[\"micro\"], _ = roc_curve(y_test_binarized.ravel(), rf_probs.ravel())\n",
    "roc_auc[\"micro\"] = auc(fpr[\"micro\"], tpr[\"micro\"])\n",
    "\n",
    "plt.figure(figsize=(10, 8))\n",
    "for i in range(n_classes):\n",
    "    plt.plot(fpr[i], tpr[i], label=f'Class {i} (AUC = {roc_auc[i]:0.2f})')\n",
    "\n",
    "plt.plot(fpr[\"micro\"], tpr[\"micro\"],\n",
    "         label='Micro-average ROC curve (AUC = {0:0.2f})'.format(roc_auc[\"micro\"]),\n",
    "         color='deeppink', linestyle=':', linewidth=4)\n",
    "\n",
    "plt.plot([0, 1], [0, 1], \"k--\", linewidth=2)\n",
    "plt.xlim([0.0, 1.0])\n",
    "plt.ylim([0.0, 1.0])\n",
    "plt.xlabel(\"False Positive Rate\")\n",
    "plt.ylabel(\"True Positive Rate\")\n",
    "plt.title(\"ROC Curve for Random Forest Classifier\")\n",
    "plt.legend(loc=\"lower right\")\n",
    "plt.show()"
   ]
  },
  {
   "cell_type": "code",
   "execution_count": 45,
   "id": "a97d71c5-f98a-48ca-ba9f-3de2555a06b5",
   "metadata": {},
   "outputs": [
    {
     "name": "stdout",
     "output_type": "stream",
     "text": [
      "Feature 1: HBA1C - Importance: 0.48695168929957183\n",
      "Feature 2: BMI - Importance: 0.23319777851248122\n",
      "Feature 3: Age - Importance: 0.12837476310387821\n",
      "Feature 4: TG - Importance: 0.03750755982920709\n",
      "Feature 5: CHOL - Importance: 0.028282084131668214\n",
      "Feature 6: VLDL - Importance: 0.020024171484822453\n",
      "Feature 7: LDL - Importance: 0.019066668475428802\n",
      "Feature 8: UREA - Importance: 0.016289931750724584\n",
      "Feature 9: CR - Importance: 0.013388814140212403\n",
      "Feature 10: HDL - Importance: 0.009588575990086473\n",
      "Feature 11: Gender_M - Importance: 0.007327963281918843\n"
     ]
    }
   ],
   "source": [
    "feature_importances = rf_classifier.feature_importances_\n",
    "sorted_indices = np.argsort(feature_importances)[::-1]\n",
    "\n",
    "for i, idx in enumerate(sorted_indices):\n",
    "    print(f\"Feature {i+1}: {X_encoded.columns[idx]} - Importance: {feature_importances[idx]}\")"
   ]
  },
  {
   "cell_type": "markdown",
   "id": "360a02a8-2b93-43d4-baa2-ddbe7d15a54b",
   "metadata": {},
   "source": [
    "## Discussion"
   ]
  },
  {
   "cell_type": "markdown",
   "id": "288287b0-607b-4dd4-ac47-4975d02b1f83",
   "metadata": {},
   "source": [
    "To begin this discussion I would like to point out that most of the difficulty surrounding this project stemmed from my poor choice in dataset. The dataset was relatively clean and ready for modeling usage but the class imbalance and low number of observations makes it challenging for me or anyone to say whether the model would predict accurately with a more balanced dataset featuring the same variables and features, and that is an important thing to consider as the chosen patients for the research/experiment clearly occupied a certain demographic (older, generally unhealthy) and probably already had begun the process of screening for Diabetes prior to participating in the research, hence why over 80% of the observations resulted in positive diagnoses. For future considerations I would look for a dataset with similar features but more observations and a more balanced representation for the target class. This caveat to the dataset though allowed me to experiment with classifiers and techniques that I was unfamiliar with like random forest and gradient boosting, as well as SMOTE, which we just recently learned about in class luckily. Something that I found surprising about the project was the futility of using gridsearch with random forest and gradient boosting, I did not expect the default parameters to perform the best but I guess sometimes tuning frankly isn't necessary, as generic random forest classifier with SMOTE was able to achieve an area under the ROC curve of 1 for all three classes. Another thing I found surprising was the importance of certain features, as I predicted that Age, BMI and VLDL would be the most connected to the diagnosis, but HBA1C was by far the most important followed by Age and BMI. "
   ]
  },
  {
   "cell_type": "markdown",
   "id": "0f99fa63-17ee-4e96-9d9b-cb2b433be2cd",
   "metadata": {},
   "source": [
    "## Conclusions"
   ]
  },
  {
   "cell_type": "markdown",
   "id": "5ccdc7d2-5f3f-412b-a818-bae542daec87",
   "metadata": {},
   "source": [
    "Overall, as expected age and BMI are some of the leading variables in determining the diagnosis for Diabetes but there is one feature that is above them both: HBA1C. I actually know what an A1C calculation is as I have the testing done for it on me every 6 months when I go to the endocrinologist and essentially it tells you how high or low your blood sugar has been on average over the past 2-3 months. For example, typical range is from 5 aall the way up to 12 where 5 is an average blood sugar of 97 mg/dL, 6 is 126 mg/dL, 7 is 154 mg/dL, 8 is 183 mg/dL, ... 12 is 298 mg/dL. This is a reading of interest because individuals with Diabetes either have a nonfunctioning pancreas that can't produce insulin like myself or are insulin resistant and need to inject more insulin or take medication to mitigate the resistance, so people with untreated Diabetes will naturally have a higher HBA1C as the glucose in their bloodstream is not metabolized due to lack of insulin and contrarily individuals with a healthy pancreas and no issues concerning insulin absorption will have a lower HBA1C as the glucose in their blood is properly metabolized. Knowing this, we can now understand why HBA1C is of utmost importance of all features when it comes to determining the Diabetes diagnosis of a patient. Other than that, age and BMI are undeniably the best indicators of the remaining features, which also makes sense because as you get older your metabolism slows down and other hormones are altered as well which can lead to insulin resistance outright and BMI is generally a good at-a-glance metric to determine how appropriate an individual's weight is compared to their height, and as you become more overweight your metabolism and hormones change and with a higher fat to muscle ratio, glucose metabolism also deteriorates, leading to insulin resistance. Due to the dataset being relatively small and containing some very indicative features related to the target variable, the combination of SMOTE and a generic random forest classifier was able to predict the Diabetes diagnosis of patients to a very high degree based on the rest of the available health data and the aforementioned features. This model effectively mitigated the potential issues that class imbalance would otherwise have on performance through oversampling and the use of an ensemble classifier, which was also an expected outcome."
   ]
  }
 ],
 "metadata": {
  "kernelspec": {
   "display_name": "Python 3 (ipykernel)",
   "language": "python",
   "name": "python3"
  },
  "language_info": {
   "codemirror_mode": {
    "name": "ipython",
    "version": 3
   },
   "file_extension": ".py",
   "mimetype": "text/x-python",
   "name": "python",
   "nbconvert_exporter": "python",
   "pygments_lexer": "ipython3",
   "version": "3.10.13"
  }
 },
 "nbformat": 4,
 "nbformat_minor": 5
}

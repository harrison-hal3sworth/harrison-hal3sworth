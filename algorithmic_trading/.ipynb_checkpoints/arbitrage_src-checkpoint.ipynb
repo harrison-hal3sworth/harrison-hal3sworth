{
 "cells": [
  {
   "cell_type": "markdown",
   "id": "a24e73c1-3286-46f2-9410-56b03ca3e5c7",
   "metadata": {},
   "source": [
    "# Arbitrage Detection Bot/Service"
   ]
  },
  {
   "cell_type": "code",
   "execution_count": 28,
   "id": "ebc0fef1-6620-4b79-8e9c-61c8219e5b1c",
   "metadata": {},
   "outputs": [],
   "source": [
    "import pandas as pd\n",
    "from selenium import webdriver\n",
    "from selenium.webdriver.chrome.service import Service\n",
    "from selenium.webdriver.common.by import By\n",
    "from selenium.webdriver.chrome.options import Options\n",
    "from webdriver_manager.chrome import ChromeDriverManager\n",
    "from selenium.webdriver.support.ui import WebDriverWait\n",
    "from selenium.webdriver.support import expected_conditions as EC\n",
    "import yfinance as yf\n",
    "import networkx as nx\n",
    "import numpy as np\n",
    "import random\n",
    "import time"
   ]
  },
  {
   "cell_type": "markdown",
   "id": "5d0742a3-c272-41a2-8288-6cda3925ca82",
   "metadata": {},
   "source": [
    "Scrape YahooFinance Currency exchange rate page for currencies to use as graph nodes and exchange rates between them, populate dictionary distance matrix with exchange rates"
   ]
  },
  {
   "cell_type": "code",
   "execution_count": 29,
   "id": "cce9dc87-83ac-4278-8458-f2b2db2996c3",
   "metadata": {},
   "outputs": [],
   "source": [
    "def extract():\n",
    "    # URL of the Yahoo Finance currencies page\n",
    "    url = \"https://finance.yahoo.com/currencies/\"\n",
    "\n",
    "    # Set up Chrome options\n",
    "    chrome_options = Options()\n",
    "    chrome_options.add_argument(\"--headless\")  # Ensure GUI is off\n",
    "    chrome_options.add_argument(\"--no-sandbox\")\n",
    "    chrome_options.add_argument(\"--disable-dev-shm-usage\")\n",
    "\n",
    "    # Set up the webdriver\n",
    "    driver = webdriver.Chrome(service=Service(ChromeDriverManager().install()), options=chrome_options)\n",
    "\n",
    "    try:\n",
    "        # Open the Yahoo Finance currencies page\n",
    "        driver.get(url)\n",
    "\n",
    "        # Explicit wait for the table to be present\n",
    "        WebDriverWait(driver, 10).until(EC.presence_of_element_located((By.CSS_SELECTOR, \"table tbody tr\")))\n",
    "\n",
    "        # Extract the table rows containing exchange rate data\n",
    "        rows = driver.find_elements(By.CSS_SELECTOR, \"table tbody tr\")\n",
    "\n",
    "        # Initialize dictionaries for currency names and last prices\n",
    "        currencies = set()\n",
    "        last_prices = {}\n",
    "\n",
    "        # Iterate through each row to extract currency names and last prices\n",
    "        for row in rows:\n",
    "            # Extract currency names (split from pair, e.g., 'EURUSD=X')\n",
    "            currency_pair = row.find_element(By.XPATH, \".//td[2]\").text.strip()\n",
    "            currency_A = currency_pair[:3].strip('/')\n",
    "            currency_B = currency_pair[3:].strip('/')\n",
    "            currencies.add(currency_A)\n",
    "            currencies.add(currency_B)\n",
    "\n",
    "            # Extract the \"Last Price\" column value directly using its index\n",
    "            last_price_text = row.find_element(By.XPATH, \".//td[3]\").text.strip()\n",
    "            last_price = float(last_price_text.replace(',', ''))  # Convert to float\n",
    "\n",
    "            # Store last prices for both currencies (assuming bidirectional conversion)\n",
    "            last_prices[currency_A + \"_\" + currency_B] = last_price\n",
    "            last_prices[currency_B + \"_\" + currency_A] = 1 / last_price  # Reciprocal for reverse conversion\n",
    "\n",
    "    finally:\n",
    "        # Close the driver\n",
    "        driver.quit()\n",
    "        \n",
    "    return currencies, last_prices"
   ]
  },
  {
   "cell_type": "markdown",
   "id": "42e6e59c-9c15-4708-b07b-1a94137ddb83",
   "metadata": {},
   "source": [
    "Testing functionality"
   ]
  },
  {
   "cell_type": "code",
   "execution_count": 30,
   "id": "1c8f5565-ccb6-4345-b13a-ebbc75202724",
   "metadata": {},
   "outputs": [
    {
     "name": "stdout",
     "output_type": "stream",
     "text": [
      "CPU times: total: 141 ms\n",
      "Wall time: 21.2 s\n"
     ]
    }
   ],
   "source": [
    "%%time\n",
    "\n",
    "currencies, rates = extract()"
   ]
  },
  {
   "cell_type": "code",
   "execution_count": 7,
   "id": "32d88690-3eb5-4c3a-adba-5dc90b90b495",
   "metadata": {},
   "outputs": [
    {
     "name": "stdout",
     "output_type": "stream",
     "text": [
      "Currencies:\n",
      "HUF\n",
      "MYR\n",
      "CAD\n",
      "SGD\n",
      "PHP\n",
      "JPY\n",
      "RUB\n",
      "NZD\n",
      "IDR\n",
      "CHF\n",
      "HKD\n",
      "MXN\n",
      "INR\n",
      "EUR\n",
      "AUD\n",
      "USD\n",
      "GBP\n",
      "CNY\n",
      "SEK\n",
      "THB\n",
      "ZAR\n",
      "\n",
      "Rates:\n",
      "EUR_USD : 1.091\n",
      "USD_EUR : 0.9165902841429882\n",
      "USD_JPY : 157.848\n",
      "JPY_USD : 0.0063352085550656325\n",
      "GBP_USD : 1.299\n",
      "USD_GBP : 0.7698229407236336\n",
      "AUD_USD : 0.6786\n",
      "USD_AUD : 1.4736221632773356\n",
      "NZD_USD : 0.6121\n",
      "USD_NZD : 1.6337199803953604\n",
      "EUR_JPY : 172.212\n",
      "JPY_EUR : 0.005806796274359511\n",
      "GBP_JPY : 205.069\n",
      "JPY_GBP : 0.004876407453101151\n",
      "EUR_GBP : 0.8397\n",
      "GBP_EUR : 1.1909015124449207\n",
      "EUR_CAD : 1.4863\n",
      "CAD_EUR : 0.672811680010765\n",
      "EUR_SEK : 11.4848\n",
      "SEK_EUR : 0.0870716076901644\n",
      "EUR_CHF : 0.9751\n",
      "CHF_EUR : 1.0255358424776946\n",
      "EUR_HUF : 391.56\n",
      "HUF_EUR : 0.0025538870160384105\n",
      "USD_CNY : 7.2495\n",
      "CNY_USD : 0.13794054762397406\n",
      "USD_HKD : 7.8073\n",
      "HKD_USD : 0.1280852535447594\n",
      "USD_SGD : 1.3408\n",
      "SGD_USD : 0.7458233890214797\n",
      "USD_INR : 83.493\n",
      "INR_USD : 0.011977051968428491\n",
      "USD_MXN : 17.598\n",
      "MXN_USD : 0.056824639163541316\n",
      "USD_PHP : 58.401\n",
      "PHP_USD : 0.017122994469272786\n",
      "USD_IDR : 16134.0\n",
      "IDR_USD : 6.198090987975704e-05\n",
      "USD_THB : 36.06\n",
      "THB_USD : 0.027731558513588463\n",
      "USD_MYR : 4.667\n",
      "MYR_USD : 0.2142704092564817\n",
      "USD_ZAR : 17.9238\n",
      "ZAR_USD : 0.05579174059072295\n",
      "USD_RUB : 87.85\n",
      "RUB_USD : 0.011383039271485488\n"
     ]
    }
   ],
   "source": [
    "print(\"Currencies:\")\n",
    "for currency in currencies:\n",
    "    print(currency)\n",
    "\n",
    "print(\"\\nRates:\")    \n",
    "for currency_pair, rate in rates.items():\n",
    "    print(currency_pair, \":\", rate)"
   ]
  },
  {
   "cell_type": "markdown",
   "id": "73fa4602-c2ff-4ffc-b62b-9e133c78697f",
   "metadata": {},
   "source": [
    "Using extracted node and graph weight values, create directed graph to be used with Bellman-Ford algorithm to detect arbitrage through negative cycle detection! CAVEAT => the weights must first be converted to their negative log form. This is the so as in the case of arbitrage, where $$w_1, w_2, w_3, ..., w_n$$ are the edge weights in the graph, this identity holds: $$w_1*w_2*w_3*...w_n>1$$ and we must transform it in a fashion where the sum on the left hand side ends up being less than 0, which is a negative weighted cycle. In order to do this we can first take the log of both sides and end up with: $$log(w_1)+log(w_2)+log(w_3)+...+log(w_n)>0$$ and finally, negating both sides flips the inequality sign and you end up with: $$(-log(w_1))+(-log(w_2))+(-log(w_3))+...+(-log(w_n))<0$$ Now, simply running a modified version of the Bellman-Ford Algorithm can "
   ]
  },
  {
   "cell_type": "code",
   "execution_count": 31,
   "id": "d9d4a4d2-b790-44f2-ac6e-1bfb0b6da931",
   "metadata": {},
   "outputs": [],
   "source": [
    "def graph_init(rates):\n",
    "    # Initialize a directed graph\n",
    "    G = nx.DiGraph()\n",
    "\n",
    "    # Add edges with weights to the graph\n",
    "    for pair, rate in rates.items():\n",
    "        currency_A, currency_B = pair.split('_')\n",
    "        G.add_edge(currency_A, currency_B, weight=-np.log(rate))  # Use negative log of the rate\n",
    "        \n",
    "    return G"
   ]
  },
  {
   "cell_type": "code",
   "execution_count": 32,
   "id": "86ae511a-685a-4514-b9f5-f3495de927cd",
   "metadata": {},
   "outputs": [],
   "source": [
    "G = graph_init(rates)"
   ]
  },
  {
   "cell_type": "markdown",
   "id": "cfdebc79-6b4d-4528-aa2b-1d0196fb7ffd",
   "metadata": {},
   "source": [
    "Here is a look at the graph we have constructed using the currencies as nodes, their exchanges as edges, and their exchange rates as weights."
   ]
  },
  {
   "cell_type": "code",
   "execution_count": 33,
   "id": "d4e5fd71-42f3-476c-94ff-eb7af77cd220",
   "metadata": {},
   "outputs": [
    {
     "name": "stdout",
     "output_type": "stream",
     "text": [
      "Graph edges with weights:\n",
      "('EUR', 'USD', {'weight': -0.08709470685093373})\n",
      "('EUR', 'JPY', {'weight': -5.148726275976795})\n",
      "('EUR', 'GBP', {'weight': 0.17471059379261952})\n",
      "('EUR', 'CAD', {'weight': -0.3962898101727122})\n",
      "('EUR', 'SEK', {'weight': -2.441024421971151})\n",
      "('EUR', 'CHF', {'weight': 0.025215249141063763})\n",
      "('EUR', 'HUF', {'weight': -5.97013876039323})\n",
      "('USD', 'EUR', {'weight': 0.08709470685093369})\n",
      "('USD', 'JPY', {'weight': -5.06163254466716})\n",
      "('USD', 'GBP', {'weight': 0.2615947376884625})\n",
      "('USD', 'AUD', {'weight': -0.38772342663200726})\n",
      "('USD', 'NZD', {'weight': -0.490859611125113})\n",
      "('USD', 'CNY', {'weight': -1.9809325009711114})\n",
      "('USD', 'HKD', {'weight': -2.0550591934524984})\n",
      "('USD', 'SGD', {'weight': -0.29326645074568153})\n",
      "('USD', 'INR', {'weight': -4.424762796007354})\n",
      "('USD', 'MXN', {'weight': -2.867785259223369})\n",
      "('USD', 'PHP', {'weight': -4.067333012975251})\n",
      "('USD', 'IDR', {'weight': -9.68868412549692})\n",
      "('USD', 'THB', {'weight': -3.585184217775171})\n",
      "('USD', 'MYR', {'weight': -1.5405164669676785})\n",
      "('USD', 'ZAR', {'weight': -2.8861294386380325})\n",
      "('USD', 'RUB', {'weight': -4.4756308146331065})\n",
      "('JPY', 'USD', {'weight': 5.06163254466716})\n",
      "('JPY', 'EUR', {'weight': 5.148726275976795})\n",
      "('JPY', 'GBP', {'weight': 5.323346507872115})\n",
      "('GBP', 'USD', {'weight': -0.2615947376884624})\n",
      "('GBP', 'JPY', {'weight': -5.323346507872115})\n",
      "('GBP', 'EUR', {'weight': -0.17471059379261944})\n",
      "('AUD', 'USD', {'weight': 0.3877234266320073})\n",
      "('NZD', 'USD', {'weight': 0.49085961112511295})\n",
      "('CAD', 'EUR', {'weight': 0.39628981017271225})\n",
      "('SEK', 'EUR', {'weight': 2.441024421971151})\n",
      "('CHF', 'EUR', {'weight': -0.02521524914106372})\n",
      "('HUF', 'EUR', {'weight': 5.97013876039323})\n",
      "('CNY', 'USD', {'weight': 1.9809325009711114})\n",
      "('HKD', 'USD', {'weight': 2.055059193452499})\n",
      "('SGD', 'USD', {'weight': 0.29326645074568153})\n",
      "('INR', 'USD', {'weight': 4.424762796007354})\n",
      "('MXN', 'USD', {'weight': 2.867785259223369})\n",
      "('PHP', 'USD', {'weight': 4.067333012975251})\n",
      "('IDR', 'USD', {'weight': 9.68868412549692})\n",
      "('THB', 'USD', {'weight': 3.585184217775171})\n",
      "('MYR', 'USD', {'weight': 1.5405164669676785})\n",
      "('ZAR', 'USD', {'weight': 2.8861294386380325})\n",
      "('RUB', 'USD', {'weight': 4.4756308146331065})\n"
     ]
    }
   ],
   "source": [
    "# Print the graph edges with weights for verification\n",
    "print(\"Graph edges with weights:\")\n",
    "for edge in G.edges(data=True):\n",
    "    print(edge)"
   ]
  },
  {
   "cell_type": "code",
   "execution_count": 36,
   "id": "297ad07d-9bf0-428d-8d48-b705a8e4d316",
   "metadata": {},
   "outputs": [],
   "source": [
    "def arbitrage_checker(G):\n",
    "    # Initialize distances and predecessors\n",
    "    distance = {vertex: float('inf') for vertex in G.nodes}\n",
    "    predecessor = {vertex: None for vertex in G.nodes}\n",
    "    \n",
    "    # Randomly select the source vertex\n",
    "    source = random.choice(list(G.nodes))\n",
    "    distance[source] = 0\n",
    "    \n",
    "    # Relax edges |V| - 1 times\n",
    "    for _ in range(len(G.nodes) - 1):\n",
    "        for u, v, weight in G.edges(data='weight'):\n",
    "            if distance[u] + weight < distance[v]:\n",
    "                distance[v] = distance[u] + weight\n",
    "                predecessor[v] = u\n",
    "\n",
    "    # Check for negative weight cycles\n",
    "    for u, v, weight in G.edges(data='weight'):\n",
    "        if distance[u] + weight < distance[v]:\n",
    "            # If a cycle is detected, trace back the cycle\n",
    "            cycle = []\n",
    "            current = v\n",
    "            seen = set()\n",
    "            while current not in seen:\n",
    "                if current is None:\n",
    "                    return None  # This means no cycle\n",
    "                cycle.append(current)\n",
    "                seen.add(current)\n",
    "                current = predecessor[current]\n",
    "            cycle_start = cycle.index(current)\n",
    "            cycle = cycle[cycle_start:]  # Start the cycle at the first repetition\n",
    "            cycle.reverse()  # Optional based on how you want to present the cycle\n",
    "            return \"Graph contains a negative weight cycle\", cycle, source\n",
    "    \n",
    "    return distance, source"
   ]
  },
  {
   "cell_type": "code",
   "execution_count": 40,
   "id": "09a06cf0-db0e-4d6f-b1c2-7cd7c7a10629",
   "metadata": {},
   "outputs": [
    {
     "name": "stdout",
     "output_type": "stream",
     "text": [
      "CPU times: total: 0 ns\n",
      "Wall time: 0 ns\n"
     ]
    },
    {
     "data": {
      "text/plain": [
       "('Graph contains a negative weight cycle', ['NZD', 'USD'], 'MYR')"
      ]
     },
     "execution_count": 40,
     "metadata": {},
     "output_type": "execute_result"
    }
   ],
   "source": [
    "%%time\n",
    "\n",
    "arbitrage_checker(G)"
   ]
  },
  {
   "cell_type": "code",
   "execution_count": null,
   "id": "a8c67fc7-5beb-42c9-aadb-5b3deb9e7776",
   "metadata": {},
   "outputs": [],
   "source": []
  }
 ],
 "metadata": {
  "kernelspec": {
   "display_name": "Python 3 (ipykernel)",
   "language": "python",
   "name": "python3"
  },
  "language_info": {
   "codemirror_mode": {
    "name": "ipython",
    "version": 3
   },
   "file_extension": ".py",
   "mimetype": "text/x-python",
   "name": "python",
   "nbconvert_exporter": "python",
   "pygments_lexer": "ipython3",
   "version": "3.8.19"
  }
 },
 "nbformat": 4,
 "nbformat_minor": 5
}
